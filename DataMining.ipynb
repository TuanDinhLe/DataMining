{
 "cells": [
  {
   "cell_type": "code",
   "execution_count": 1,
   "id": "cba352b6",
   "metadata": {},
   "outputs": [
    {
     "ename": "ModuleNotFoundError",
     "evalue": "No module named 'sklearn_extra'",
     "output_type": "error",
     "traceback": [
      "\u001b[1;31m---------------------------------------------------------------------------\u001b[0m",
      "\u001b[1;31mModuleNotFoundError\u001b[0m                       Traceback (most recent call last)",
      "\u001b[1;32mC:\\Users\\QUANGD~1\\AppData\\Local\\Temp/ipykernel_11224/2415279708.py\u001b[0m in \u001b[0;36m<module>\u001b[1;34m\u001b[0m\n\u001b[0;32m     11\u001b[0m \u001b[1;32mfrom\u001b[0m \u001b[0msklearn\u001b[0m\u001b[1;33m.\u001b[0m\u001b[0mpreprocessing\u001b[0m \u001b[1;32mimport\u001b[0m \u001b[0mMinMaxScaler\u001b[0m\u001b[1;33m\u001b[0m\u001b[1;33m\u001b[0m\u001b[0m\n\u001b[0;32m     12\u001b[0m \u001b[1;32mfrom\u001b[0m \u001b[0msklearn\u001b[0m\u001b[1;33m.\u001b[0m\u001b[0mcluster\u001b[0m \u001b[1;32mimport\u001b[0m \u001b[0mKMeans\u001b[0m\u001b[1;33m\u001b[0m\u001b[1;33m\u001b[0m\u001b[0m\n\u001b[1;32m---> 13\u001b[1;33m \u001b[1;32mfrom\u001b[0m \u001b[0msklearn_extra\u001b[0m\u001b[1;33m.\u001b[0m\u001b[0mcluster\u001b[0m \u001b[1;32mimport\u001b[0m \u001b[0mKMedoids\u001b[0m\u001b[1;33m\u001b[0m\u001b[1;33m\u001b[0m\u001b[0m\n\u001b[0m\u001b[0;32m     14\u001b[0m \u001b[1;32mfrom\u001b[0m \u001b[0msklearn\u001b[0m\u001b[1;33m.\u001b[0m\u001b[0mmetrics\u001b[0m \u001b[1;32mimport\u001b[0m \u001b[0msilhouette_score\u001b[0m\u001b[1;33m\u001b[0m\u001b[1;33m\u001b[0m\u001b[0m\n\u001b[0;32m     15\u001b[0m \u001b[1;32mfrom\u001b[0m \u001b[0mkmodes\u001b[0m\u001b[1;33m.\u001b[0m\u001b[0mkprototypes\u001b[0m \u001b[1;32mimport\u001b[0m \u001b[0mKPrototypes\u001b[0m\u001b[1;33m\u001b[0m\u001b[1;33m\u001b[0m\u001b[0m\n",
      "\u001b[1;31mModuleNotFoundError\u001b[0m: No module named 'sklearn_extra'"
     ]
    }
   ],
   "source": [
    "# import required libraries for dataframe and visualization\n",
    "\n",
    "import numpy as np\n",
    "import pandas as pd\n",
    "import matplotlib.pyplot as plt\n",
    "import seaborn as sns\n",
    "import datetime as dt\n",
    "\n",
    "# import required libraries for clustering\n",
    "import sklearn\n",
    "from sklearn.preprocessing import MinMaxScaler\n",
    "from sklearn.cluster import KMeans\n",
    "from sklearn_extra.cluster import KMedoids\n",
    "from sklearn.metrics import silhouette_score\n",
    "from kmodes.kprototypes import KPrototypes"
   ]
  },
  {
   "cell_type": "code",
   "execution_count": null,
   "id": "12970df2",
   "metadata": {
    "scrolled": true
   },
   "outputs": [],
   "source": [
    "# Read in all orders.\n",
    "orders = pd.read_csv('superstore_dataset2011-2015.csv', header=0, encoding='ISO-8859-1')"
   ]
  },
  {
   "cell_type": "code",
   "execution_count": null,
   "id": "0e506fb2",
   "metadata": {},
   "outputs": [],
   "source": [
    "# Display dataset's data types.\n",
    "orders.info()"
   ]
  },
  {
   "cell_type": "code",
   "execution_count": null,
   "id": "f776b2b9",
   "metadata": {},
   "outputs": [],
   "source": [
    "# Dsiplay the dataset's number of rows and columns pre-formatting\n",
    "orders.shape"
   ]
  },
  {
   "cell_type": "code",
   "execution_count": null,
   "id": "6ed289f8",
   "metadata": {
    "scrolled": true
   },
   "outputs": [],
   "source": [
    "# Display the dataset's basic stat.\n",
    "orders.describe()"
   ]
  },
  {
   "cell_type": "code",
   "execution_count": null,
   "id": "6ef4ebdd",
   "metadata": {},
   "outputs": [],
   "source": [
    "# Checking for null fields\n",
    "df_null = round(100*(orders.isnull().sum())/len(orders), 2)\n",
    "df_null"
   ]
  },
  {
   "cell_type": "code",
   "execution_count": null,
   "id": "7761c61c",
   "metadata": {},
   "outputs": [],
   "source": [
    "# Drop Postal Code, since 80% of this column's data is missing\n",
    "orders = orders.drop(columns=['Postal Code'])"
   ]
  },
  {
   "cell_type": "code",
   "execution_count": null,
   "id": "57ab0edc",
   "metadata": {},
   "outputs": [],
   "source": [
    "orders = orders.dropna()\n",
    "\n",
    "# Check the shape after dropping the rows with missing values\n",
    "orders.shape"
   ]
  },
  {
   "cell_type": "code",
   "execution_count": null,
   "id": "50bfb606",
   "metadata": {},
   "outputs": [],
   "source": [
    "# Monetary column\n",
    "rfm_m = orders.groupby('Customer ID')['Sales'].sum()\n",
    "rfm_m = rfm_m.reset_index()\n",
    "rfm_m.columns = ['Customer ID', 'Sales']\n",
    "rfm_m.head()"
   ]
  },
  {
   "cell_type": "code",
   "execution_count": null,
   "id": "12eafc8a",
   "metadata": {},
   "outputs": [],
   "source": [
    "# Frequency column\n",
    "rfm_f = orders.groupby('Customer ID')['Order ID'].count()\n",
    "rfm_f = rfm_f.reset_index()\n",
    "rfm_f.columns = ['Customer ID', 'Frequency']\n",
    "rfm_f.head()"
   ]
  },
  {
   "cell_type": "code",
   "execution_count": null,
   "id": "5123ed91",
   "metadata": {},
   "outputs": [],
   "source": [
    "# Recency column\n",
    "orders['Order Date'] = orders['Order Date'].str.replace('/', '-')\n",
    "orders['Order Date']\n"
   ]
  },
  {
   "cell_type": "code",
   "execution_count": null,
   "id": "27acb1f0",
   "metadata": {},
   "outputs": [],
   "source": [
    "orders['Order Date'] = pd.to_datetime(orders['Order Date'],format='%d-%m-%Y')\n",
    "orders['Order Date']"
   ]
  },
  {
   "cell_type": "code",
   "execution_count": null,
   "id": "048ffc1a",
   "metadata": {},
   "outputs": [],
   "source": [
    "max_date = max(orders['Order Date'])\n",
    "max_date"
   ]
  },
  {
   "cell_type": "code",
   "execution_count": null,
   "id": "a1a43075",
   "metadata": {},
   "outputs": [],
   "source": [
    "orders['Diff'] = max_date - orders['Order Date']\n",
    "rfm_r = orders.groupby('Customer ID')['Diff'].min()\n",
    "rfm_r = rfm_r.reset_index().sort_values(by='Diff', ascending=False)\n",
    "rfm_r['Diff'] = rfm_r['Diff'].dt.days\n",
    "rfm_r"
   ]
  },
  {
   "cell_type": "code",
   "execution_count": null,
   "id": "560654ef",
   "metadata": {},
   "outputs": [],
   "source": [
    "# Merging dataframes\n",
    "rfm = pd.merge(rfm_m, rfm_f, on='Customer ID', how='inner')\n",
    "rfm = pd.merge(rfm, rfm_r, on='Customer ID', how='inner')\n",
    "rfm.columns = ['Customer ID', 'Amount', 'Frequency', 'Recency']\n",
    "rfm.head()"
   ]
  },
  {
   "cell_type": "code",
   "execution_count": null,
   "id": "4c9b72fc",
   "metadata": {},
   "outputs": [],
   "source": [
    "# Distribution for Recency\n",
    "sns.displot(rfm['Recency'])"
   ]
  },
  {
   "cell_type": "code",
   "execution_count": null,
   "id": "af2d0210",
   "metadata": {},
   "outputs": [],
   "source": [
    "# Distribution for Frequency\n",
    "sns.displot(rfm['Frequency'])"
   ]
  },
  {
   "cell_type": "code",
   "execution_count": null,
   "id": "d81e47d9",
   "metadata": {},
   "outputs": [],
   "source": [
    "# Distribution for Amount\n",
    "sns.displot(rfm['Amount'])"
   ]
  },
  {
   "cell_type": "code",
   "execution_count": null,
   "id": "f595fff2",
   "metadata": {},
   "outputs": [],
   "source": [
    "# Detect outliers\n",
    "\n",
    "attributes = ['Amount','Frequency','Recency']\n",
    "plt.rcParams['figure.figsize'] = [10,8]\n",
    "sns.boxplot(data = rfm[attributes], orient=\"v\", palette=\"Set2\" ,whis=1.5,saturation=1, width=0.7)\n",
    "plt.title(\"Outliers Variable Distribution\", fontsize = 14, fontweight = 'bold')\n",
    "plt.ylabel(\"Range\", fontweight = 'bold')\n",
    "plt.xlabel(\"Attributes\", fontweight = 'bold')"
   ]
  },
  {
   "cell_type": "code",
   "execution_count": null,
   "id": "9ca5efd0",
   "metadata": {},
   "outputs": [],
   "source": [
    "# Removing (statistical) outliers for Amount\n",
    "Q1 = rfm.Amount.quantile(0.25)\n",
    "Q3 = rfm.Amount.quantile(0.75)\n",
    "IQR = Q3 - Q1\n",
    "rfm = rfm[(rfm.Amount >= Q1 - 1.5*IQR) & (rfm.Amount <= Q3 + 1.5*IQR)]\n",
    "\n",
    "# Removing (statistical) outliers for Recency\n",
    "Q1 = rfm.Recency.quantile(0.25)\n",
    "Q3 = rfm.Recency.quantile(0.75)\n",
    "IQR = Q3 - Q1\n",
    "rfm = rfm[(rfm.Recency >= Q1 - 1.5*IQR) & (rfm.Recency <= Q3 + 1.5*IQR)]\n",
    "\n",
    "# Removing (statistical) outliers for Frequency\n",
    "Q1 = rfm.Frequency.quantile(0.25)\n",
    "Q3 = rfm.Frequency.quantile(0.75)\n",
    "IQR = Q3 - Q1\n",
    "rfm = rfm[(rfm.Frequency >= Q1 - 1.5*IQR) & (rfm.Frequency <= Q3 + 1.5*IQR)]"
   ]
  },
  {
   "cell_type": "code",
   "execution_count": null,
   "id": "4611ba74",
   "metadata": {},
   "outputs": [],
   "source": [
    "attributes = ['Amount','Frequency','Recency']\n",
    "plt.rcParams['figure.figsize'] = [10,8]\n",
    "sns.boxplot(data = rfm[attributes], orient=\"v\", palette=\"Set2\" ,whis=1.5,saturation=1, width=0.7)\n",
    "plt.title(\"Outliers Variable Distribution\", fontsize = 14, fontweight = 'bold')\n",
    "plt.ylabel(\"Range\", fontweight = 'bold')\n",
    "plt.xlabel(\"Attributes\", fontweight = 'bold')"
   ]
  },
  {
   "cell_type": "code",
   "execution_count": null,
   "id": "195b712b",
   "metadata": {},
   "outputs": [],
   "source": [
    "# Distribution for Recency\n",
    "sns.displot(rfm['Recency'])"
   ]
  },
  {
   "cell_type": "code",
   "execution_count": null,
   "id": "4a6900ac",
   "metadata": {},
   "outputs": [],
   "source": [
    "# Distribution for Frequency\n",
    "sns.displot(rfm['Frequency'])"
   ]
  },
  {
   "cell_type": "code",
   "execution_count": null,
   "id": "103e0a3b",
   "metadata": {},
   "outputs": [],
   "source": [
    "# Distribution for Amount\n",
    "sns.displot(rfm['Amount'])"
   ]
  },
  {
   "cell_type": "code",
   "execution_count": null,
   "id": "90893a1e",
   "metadata": {},
   "outputs": [],
   "source": [
    "# Rescaling the attributes\n",
    "\n",
    "rfm_df = rfm[['Amount', 'Frequency', 'Recency']]\n",
    "\n",
    "# Instantiate\n",
    "scaler = MinMaxScaler()\n",
    "\n",
    "# fit_transform\n",
    "rfm_df_scaled = scaler.fit_transform(rfm_df)\n",
    "rfm_df_scaled.shape"
   ]
  },
  {
   "cell_type": "code",
   "execution_count": null,
   "id": "7b51a6c4",
   "metadata": {},
   "outputs": [],
   "source": [
    "rfm_df_scaled = pd.DataFrame(rfm_df_scaled)\n",
    "rfm_df_scaled.columns = ['Amount', 'Frequency', 'Recency']\n",
    "rfm_df_scaled.head()"
   ]
  },
  {
   "cell_type": "code",
   "execution_count": null,
   "id": "c9a5cb8f",
   "metadata": {},
   "outputs": [],
   "source": [
    "kmeans = KMeans(n_clusters=4, max_iter=50)\n",
    "kmeans.fit(rfm_df_scaled)"
   ]
  },
  {
   "cell_type": "code",
   "execution_count": null,
   "id": "93eb833f",
   "metadata": {},
   "outputs": [],
   "source": [
    "kmeans.labels_"
   ]
  },
  {
   "cell_type": "code",
   "execution_count": null,
   "id": "534280ad",
   "metadata": {},
   "outputs": [],
   "source": [
    "# Elbow-curve/SSD (Sum of Squares Distance)\n",
    "\n",
    "ssd = []\n",
    "range_n_clusters = [2, 3, 4, 5, 6, 7, 8]\n",
    "for num_clusters in range_n_clusters:\n",
    "    kmeans = KMeans(n_clusters=num_clusters, max_iter=50)\n",
    "    kmeans.fit(rfm_df_scaled)\n",
    "    \n",
    "    ssd.append(kmeans.inertia_)\n",
    "    \n",
    "# plot the SSDs for each n_clusters\n",
    "plt.plot(ssd)\n",
    "# y-axis: SSD\n",
    "# x-axis: Number of clusters\n",
    "# Choose a balance point to avoid over-fitting."
   ]
  },
  {
   "cell_type": "code",
   "execution_count": null,
   "id": "8bbee4a6",
   "metadata": {},
   "outputs": [],
   "source": [
    "# Silhouette analysis\n",
    "range_n_clusters = [2, 3, 4, 5, 6, 7, 8]\n",
    "\n",
    "for num_clusters in range_n_clusters:\n",
    "    \n",
    "    # intialise kmeans\n",
    "    kmeans = KMeans(n_clusters=num_clusters, max_iter=50)\n",
    "    kmeans.fit(rfm_df_scaled)\n",
    "    \n",
    "    cluster_labels = kmeans.labels_\n",
    "    \n",
    "    # silhouette score\n",
    "    silhouette_avg = silhouette_score(rfm_df_scaled, cluster_labels)\n",
    "    print(\"For n_clusters={0}, the silhouette score is {1}\".format(num_clusters, silhouette_avg))\n",
    "    \n",
    "# The higher the point, the higher similarities between items within a cluster and \n",
    "# the higher dissimilarites bettwen items in different clusters.\n",
    "# Choose a balance number to avoid over-fitting."
   ]
  },
  {
   "cell_type": "code",
   "execution_count": null,
   "id": "c3e7344a",
   "metadata": {},
   "outputs": [],
   "source": [
    "# Final model with k=4\n",
    "kmeans = KMeans(n_clusters=4, max_iter=50)\n",
    "kmeans.fit(rfm_df_scaled)"
   ]
  },
  {
   "cell_type": "code",
   "execution_count": null,
   "id": "bf578372",
   "metadata": {},
   "outputs": [],
   "source": [
    "kmeans.labels_"
   ]
  },
  {
   "cell_type": "code",
   "execution_count": null,
   "id": "f90564db",
   "metadata": {},
   "outputs": [],
   "source": [
    "# assign the label\n",
    "rfm['Cluster_Id'] = kmeans.labels_\n",
    "rfm.head()"
   ]
  },
  {
   "cell_type": "code",
   "execution_count": null,
   "id": "7d113865",
   "metadata": {},
   "outputs": [],
   "source": [
    "# Box plot to visualize Cluster Id vs Amount\n",
    "\n",
    "sns.boxplot(x='Cluster_Id', y='Amount', data=rfm)"
   ]
  },
  {
   "cell_type": "code",
   "execution_count": null,
   "id": "28cfe0ba",
   "metadata": {},
   "outputs": [],
   "source": [
    "# Box plot to visualize Cluster Id vs Recency\n",
    "\n",
    "sns.boxplot(x='Cluster_Id', y='Recency', data=rfm)"
   ]
  },
  {
   "cell_type": "code",
   "execution_count": null,
   "id": "b797809a",
   "metadata": {},
   "outputs": [],
   "source": [
    "# Box plot to visualize Cluster Id vs Frequency\n",
    "\n",
    "sns.boxplot(x='Cluster_Id', y='Frequency', data=rfm)"
   ]
  },
  {
   "cell_type": "code",
   "execution_count": null,
   "id": "01a43d5c",
   "metadata": {},
   "outputs": [],
   "source": [
    "# Elbow-curve/SSD (Sum of Squares Distance)\n",
    "\n",
    "ssd = []\n",
    "range_n_clusters = [2, 3, 4, 5, 6, 7, 8]\n",
    "for num_clusters in range_n_clusters:\n",
    "    kmedoids = KMedoids(n_clusters=num_clusters, max_iter=50)\n",
    "    kmedoids.fit(rfm_df_scaled)\n",
    "    \n",
    "    ssd.append(kmedoids.inertia_)\n",
    "    \n",
    "# plot the SSDs for each n_clusters\n",
    "plt.plot(ssd)\n",
    "# y-axis: SSD\n",
    "# x-axis: Number of clusters\n",
    "# Choose a balance point to avoid over-fitting."
   ]
  },
  {
   "cell_type": "code",
   "execution_count": null,
   "id": "e62fc748",
   "metadata": {},
   "outputs": [],
   "source": [
    "# Silhouette analysis\n",
    "range_n_clusters = [2, 3, 4, 5, 6, 7, 8]\n",
    "\n",
    "for num_clusters in range_n_clusters:\n",
    "    \n",
    "    # intialise kmeans\n",
    "    kmedoids = KMedoids(n_clusters=num_clusters, max_iter=50)\n",
    "    kmedoids.fit(rfm_df_scaled)\n",
    "    \n",
    "    cluster_labels = kmedoids.labels_\n",
    "    \n",
    "    # silhouette score\n",
    "    silhouette_avg = silhouette_score(rfm_df_scaled, cluster_labels)\n",
    "    print(\"For n_clusters={0}, the silhouette score is {1}\".format(num_clusters, silhouette_avg))\n",
    "    \n",
    "# The higher the point, the higher similarities between items within a cluster and \n",
    "# the higher dissimilarites bettwen items in different clusters.\n",
    "# Choose a balance number to avoid over-fitting."
   ]
  },
  {
   "cell_type": "code",
   "execution_count": null,
   "id": "ca2c215b",
   "metadata": {},
   "outputs": [],
   "source": [
    "# Final model with k=4\n",
    "kmedoids = KMedoids(n_clusters=4, max_iter=50)\n",
    "kmedoids.fit(rfm_df_scaled)"
   ]
  },
  {
   "cell_type": "code",
   "execution_count": null,
   "id": "b30f8ebf",
   "metadata": {},
   "outputs": [],
   "source": [
    "# assign the label\n",
    "rfm['Cluster_Id'] = kmedoids.labels_\n",
    "rfm.head()"
   ]
  },
  {
   "cell_type": "code",
   "execution_count": null,
   "id": "fe2387b0",
   "metadata": {},
   "outputs": [],
   "source": [
    "# Box plot to visualize Cluster Id vs Amount\n",
    "\n",
    "sns.boxplot(x='Cluster_Id', y='Amount', data=rfm)"
   ]
  },
  {
   "cell_type": "code",
   "execution_count": null,
   "id": "04da5955",
   "metadata": {},
   "outputs": [],
   "source": [
    "# Box plot to visualize Cluster Id vs Recency\n",
    "\n",
    "sns.boxplot(x='Cluster_Id', y='Recency', data=rfm)"
   ]
  },
  {
   "cell_type": "code",
   "execution_count": null,
   "id": "6979e1cd",
   "metadata": {},
   "outputs": [],
   "source": [
    "# Box plot to visualize Cluster Id vs Frequency\n",
    "\n",
    "sns.boxplot(x='Cluster_Id', y='Frequency', data=rfm)"
   ]
  },
  {
   "cell_type": "code",
   "execution_count": null,
   "id": "2f7f8e2a",
   "metadata": {},
   "outputs": [],
   "source": [
    "# Profit column\n",
    "profit_column = orders.groupby('City')['Profit'].sum()\n",
    "profit_column = profit_column.reset_index()\n",
    "profit_column.columns = ['City', 'Profit']\n",
    "profit_column.head()"
   ]
  },
  {
   "cell_type": "code",
   "execution_count": null,
   "id": "6185c2b0",
   "metadata": {},
   "outputs": [],
   "source": [
    "# Sales column\n",
    "sales_column = orders.groupby('City')['Sales'].sum()\n",
    "sales_column = sales_column.reset_index()\n",
    "sales_column.columns = ['City', 'Sales']\n",
    "sales_column.head()"
   ]
  },
  {
   "cell_type": "code",
   "execution_count": null,
   "id": "85b5bf17",
   "metadata": {},
   "outputs": [],
   "source": [
    "# Shipping Cost column\n",
    "shippingCost_column = orders.groupby('City')['Shipping Cost'].sum()\n",
    "shippingCost_column = shippingCost_column.reset_index()\n",
    "shippingCost_column.columns = ['City', 'ShippingCost']\n",
    "shippingCost_column.head()"
   ]
  },
  {
   "cell_type": "code",
   "execution_count": null,
   "id": "5ca06f58",
   "metadata": {},
   "outputs": [],
   "source": [
    "# Merging dataframes\n",
    "profit_sales = pd.merge(profit_column, sales_column, on='City', how='inner')\n",
    "profit_sales_shippingCost = pd.merge(profit_sales, shippingCost_column, on='City', how='inner')\n",
    "profit_sales_shippingCost.columns = ['City', 'Profit', 'Sales', 'ShippingCost']\n",
    "profit_sales_shippingCost.head()"
   ]
  },
  {
   "cell_type": "code",
   "execution_count": null,
   "id": "5f244f49",
   "metadata": {},
   "outputs": [],
   "source": [
    "# Detect outliers\n",
    "\n",
    "attributes = ['Profit','Sales','ShippingCost']\n",
    "plt.rcParams['figure.figsize'] = [10,8]\n",
    "sns.boxplot(data = profit_sales_shippingCost[attributes], orient=\"v\", palette=\"Set2\" ,whis=1.5,saturation=1, width=0.7)\n",
    "plt.title(\"Outliers Variable Distribution\", fontsize = 14, fontweight = 'bold')\n",
    "plt.ylabel(\"Range\", fontweight = 'bold')\n",
    "plt.xlabel(\"Attributes\", fontweight = 'bold')"
   ]
  },
  {
   "cell_type": "code",
   "execution_count": null,
   "id": "813496ca",
   "metadata": {},
   "outputs": [],
   "source": [
    "sns.displot(profit_sales_shippingCost['Profit'])"
   ]
  },
  {
   "cell_type": "code",
   "execution_count": null,
   "id": "e9f73f8e",
   "metadata": {},
   "outputs": [],
   "source": [
    "sns.displot(profit_sales_shippingCost['Sales'])"
   ]
  },
  {
   "cell_type": "code",
   "execution_count": null,
   "id": "97e365ee",
   "metadata": {},
   "outputs": [],
   "source": [
    "sns.displot(profit_sales_shippingCost['ShippingCost'])"
   ]
  },
  {
   "cell_type": "code",
   "execution_count": null,
   "id": "c6f00e29",
   "metadata": {},
   "outputs": [],
   "source": [
    "# Removing (statistical) outliers for Sales\n",
    "Q1 = profit_sales_shippingCost.Sales.quantile(0.25)\n",
    "Q3 = profit_sales_shippingCost.Sales.quantile(0.75)\n",
    "IQR = Q3 - Q1\n",
    "rfm = profit_sales_shippingCost[(profit_sales_shippingCost.Sales >= Q1 - 1.5*IQR) & (profit_sales_shippingCost.Sales <= Q3 + 1.5*IQR)]\n",
    "\n",
    "# Removing (statistical) outliers for Shipping Cost\n",
    "Q1 = profit_sales_shippingCost.ShippingCost.quantile(0.25)\n",
    "Q3 = profit_sales_shippingCost.ShippingCost.quantile(0.75)\n",
    "IQR = Q3 - Q1\n",
    "rfm = profit_sales_shippingCost[(profit_sales_shippingCost.ShippingCost >= Q1 - 1.5*IQR) & (profit_sales_shippingCost.ShippingCost <= Q3 + 1.5*IQR)]"
   ]
  },
  {
   "cell_type": "code",
   "execution_count": null,
   "id": "ca71ddc2",
   "metadata": {},
   "outputs": [],
   "source": [
    "sns.displot(profit_sales_shippingCost['Profit'])"
   ]
  },
  {
   "cell_type": "code",
   "execution_count": null,
   "id": "db4d44d4",
   "metadata": {},
   "outputs": [],
   "source": [
    "sns.displot(profit_sales_shippingCost['Sales'])"
   ]
  },
  {
   "cell_type": "code",
   "execution_count": null,
   "id": "ab8ba920",
   "metadata": {},
   "outputs": [],
   "source": [
    "sns.displot(profit_sales_shippingCost['ShippingCost'])"
   ]
  },
  {
   "cell_type": "code",
   "execution_count": null,
   "id": "0b2de990",
   "metadata": {},
   "outputs": [],
   "source": [
    "# Rescaling the attributes\n",
    "\n",
    "psc = profit_sales_shippingCost[['Profit', 'Sales', 'ShippingCost']]\n",
    "\n",
    "# Instantiate\n",
    "scaler = MinMaxScaler()\n",
    "\n",
    "# fit_transform\n",
    "psc_scaled = scaler.fit_transform(psc)\n",
    "psc_scaled.shape"
   ]
  },
  {
   "cell_type": "code",
   "execution_count": null,
   "id": "591577d4",
   "metadata": {},
   "outputs": [],
   "source": [
    "psc_scaled = pd.DataFrame(psc_scaled)\n",
    "psc_scaled.columns = ['Profit', 'Sales', 'ShippingCost']\n",
    "psc_scaled.head()"
   ]
  },
  {
   "cell_type": "code",
   "execution_count": null,
   "id": "7d3c18fa",
   "metadata": {},
   "outputs": [],
   "source": [
    "# Elbow-curve/SSD\n",
    "\n",
    "ssd = []\n",
    "range_n_clusters = [2, 3, 4, 5, 6, 7, 8]\n",
    "for num_clusters in range_n_clusters:\n",
    "    kmeans = KMeans(n_clusters=num_clusters, max_iter=50)\n",
    "    kmeans.fit(psc_scaled)\n",
    "    \n",
    "    ssd.append(kmeans.inertia_)\n",
    "    \n",
    "# plot the SSDs for each n_clusters\n",
    "plt.plot(ssd)\n",
    "# y-axis: SSD\n",
    "# x-axis: Number of clusters\n",
    "# Choose a balance point to avoid over-fitting."
   ]
  },
  {
   "cell_type": "code",
   "execution_count": null,
   "id": "3f021284",
   "metadata": {},
   "outputs": [],
   "source": [
    "# Silhouette analysis\n",
    "range_n_clusters = [2, 3, 4, 5, 6, 7, 8]\n",
    "\n",
    "for num_clusters in range_n_clusters:\n",
    "    \n",
    "    # intialise kmeans\n",
    "    kmeans = KMeans(n_clusters=num_clusters, max_iter=50)\n",
    "    kmeans.fit(psc_scaled)\n",
    "    \n",
    "    cluster_labels = kmeans.labels_\n",
    "    \n",
    "    # silhouette score\n",
    "    silhouette_avg = silhouette_score(psc_scaled, cluster_labels)\n",
    "    print(\"For n_clusters={0}, the silhouette score is {1}\".format(num_clusters, silhouette_avg))\n",
    "    \n",
    "# The higher the point, the higher similarities between items within a cluster and \n",
    "# the higher dissimilarites bettwen items in different clusters.\n",
    "# Choose a balance number to avoid over-fitting."
   ]
  },
  {
   "cell_type": "code",
   "execution_count": null,
   "id": "7fb0a322",
   "metadata": {},
   "outputs": [],
   "source": [
    "# Final model with k=4\n",
    "kmeans = KMeans(n_clusters=4, max_iter=50)\n",
    "kmeans.fit(psc_scaled)"
   ]
  },
  {
   "cell_type": "code",
   "execution_count": null,
   "id": "cabfe3ab",
   "metadata": {},
   "outputs": [],
   "source": [
    " kmeans.labels_"
   ]
  },
  {
   "cell_type": "code",
   "execution_count": null,
   "id": "611c754d",
   "metadata": {},
   "outputs": [],
   "source": [
    "# assign the label\n",
    "psc['Cluster_Id'] = kmeans.labels_\n",
    "psc.head()"
   ]
  },
  {
   "cell_type": "code",
   "execution_count": null,
   "id": "f28238aa",
   "metadata": {},
   "outputs": [],
   "source": [
    "# Box plot to visualize Cluster Id vs Profit\n",
    "\n",
    "sns.boxplot(x='Cluster_Id', y='Profit', data=psc)"
   ]
  },
  {
   "cell_type": "code",
   "execution_count": null,
   "id": "56739775",
   "metadata": {},
   "outputs": [],
   "source": [
    "# Box plot to visualize Cluster Id vs Sales\n",
    "\n",
    "sns.boxplot(x='Cluster_Id', y='Sales', data=psc)"
   ]
  },
  {
   "cell_type": "code",
   "execution_count": null,
   "id": "b5abbe77",
   "metadata": {},
   "outputs": [],
   "source": [
    "# Box plot to visualize Cluster Id vs Shipping Cost\n",
    "\n",
    "sns.boxplot(x='Cluster_Id', y='ShippingCost', data=psc)"
   ]
  },
  {
   "cell_type": "code",
   "execution_count": null,
   "id": "6d37e53c",
   "metadata": {},
   "outputs": [],
   "source": [
    "# Elbow-curve/SSD\n",
    "\n",
    "ssd = []\n",
    "range_n_clusters = [2, 3, 4, 5, 6, 7, 8]\n",
    "for num_clusters in range_n_clusters:\n",
    "    kmedoids = KMedoids(n_clusters=num_clusters, max_iter=50)\n",
    "    kmedoids.fit(psc_scaled)\n",
    "    \n",
    "    ssd.append(kmedoids.inertia_)\n",
    "    \n",
    "# plot the SSDs for each n_clusters\n",
    "plt.plot(ssd)\n",
    "# y-axis: SSD\n",
    "# x-axis: Number of clusters\n",
    "# Choose a balance point to avoid over-fitting."
   ]
  },
  {
   "cell_type": "code",
   "execution_count": null,
   "id": "21937fbf",
   "metadata": {},
   "outputs": [],
   "source": [
    "# Silhouette analysis\n",
    "range_n_clusters = [2, 3, 4, 5, 6, 7, 8]\n",
    "\n",
    "for num_clusters in range_n_clusters:\n",
    "    \n",
    "    # intialise kmeans\n",
    "    kmedoids = KMedoids(n_clusters=num_clusters, max_iter=50)\n",
    "    kmedoids.fit(psc_scaled)\n",
    "    \n",
    "    cluster_labels = kmedoids.labels_\n",
    "    \n",
    "    # silhouette score\n",
    "    silhouette_avg = silhouette_score(psc_scaled, cluster_labels)\n",
    "    print(\"For n_clusters={0}, the silhouette score is {1}\".format(num_clusters, silhouette_avg))\n",
    "    \n",
    "# The higher the point, the higher similarities between items within a cluster and \n",
    "# the higher dissimilarites bettwen items in different clusters.\n",
    "# Choose a balance number to avoid over-fitting."
   ]
  },
  {
   "cell_type": "code",
   "execution_count": null,
   "id": "cf6c8880",
   "metadata": {},
   "outputs": [],
   "source": [
    "# Final model with k=4\n",
    "kmedoids = KMedoids(n_clusters=4, max_iter=50, init='build', method='pam')\n",
    "kmedoids.fit(psc_scaled)"
   ]
  },
  {
   "cell_type": "code",
   "execution_count": null,
   "id": "baf87f0b",
   "metadata": {},
   "outputs": [],
   "source": [
    "# assign the label\n",
    "psc['Cluster_Id'] = kmedoids.labels_\n",
    "psc.head()"
   ]
  },
  {
   "cell_type": "code",
   "execution_count": null,
   "id": "a7c74c8a",
   "metadata": {},
   "outputs": [],
   "source": [
    "# Box plot to visualize Cluster Id vs Profit\n",
    "\n",
    "sns.boxplot(x='Cluster_Id', y='Profit', data=psc)"
   ]
  },
  {
   "cell_type": "code",
   "execution_count": null,
   "id": "c48ac098",
   "metadata": {},
   "outputs": [],
   "source": [
    "# Box plot to visualize Cluster Id vs Sales\n",
    "\n",
    "sns.boxplot(x='Cluster_Id', y='Sales', data=psc)"
   ]
  },
  {
   "cell_type": "code",
   "execution_count": null,
   "id": "517d2a8d",
   "metadata": {},
   "outputs": [],
   "source": [
    "# Box plot to visualize Cluster Id vs Shipping Cost\n",
    "\n",
    "sns.boxplot(x='Cluster_Id', y='ShippingCost', data=psc)"
   ]
  },
  {
   "cell_type": "code",
   "execution_count": null,
   "id": "b8f7b7c7",
   "metadata": {},
   "outputs": [],
   "source": [
    "categoricals = orders.loc[:, ['City', 'Category', 'Profit']].copy() "
   ]
  },
  {
   "cell_type": "code",
   "execution_count": null,
   "id": "9c1d0d12",
   "metadata": {},
   "outputs": [],
   "source": [
    "categoricals"
   ]
  },
  {
   "cell_type": "code",
   "execution_count": null,
   "id": "b1880380",
   "metadata": {},
   "outputs": [],
   "source": [
    "# Choose optimal K using Elbow method\n",
    "ssd = []\n",
    "for cluster in range(1, 10):\n",
    "    try:\n",
    "        kprototype = KPrototypes(n_clusters = cluster, init = 'Huang', random_state = 0, max_iter=50)\n",
    "        kprototype.fit_predict(categoricals, categorical = [0, 1])\n",
    "        ssd.append(kprototype.inertia_)\n",
    "        print('Cluster initiation: {}'.format(cluster))\n",
    "    except:\n",
    "        break\n",
    "# Converting the results into a dataframe and plotting them\n",
    "plt.plot(ssd)"
   ]
  },
  {
   "cell_type": "code",
   "execution_count": null,
   "id": "49d00863",
   "metadata": {},
   "outputs": [],
   "source": []
  }
 ],
 "metadata": {
  "kernelspec": {
   "display_name": "Python 3 (ipykernel)",
   "language": "python",
   "name": "python3"
  },
  "language_info": {
   "codemirror_mode": {
    "name": "ipython",
    "version": 3
   },
   "file_extension": ".py",
   "mimetype": "text/x-python",
   "name": "python",
   "nbconvert_exporter": "python",
   "pygments_lexer": "ipython3",
   "version": "3.9.7"
  }
 },
 "nbformat": 4,
 "nbformat_minor": 5
}
