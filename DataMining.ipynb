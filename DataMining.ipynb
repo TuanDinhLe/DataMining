{
 "cells": [
  {
   "cell_type": "code",
   "execution_count": 159,
   "id": "101ea2e0",
   "metadata": {
    "ExecuteTime": {
     "end_time": "2021-12-09T02:45:24.395699Z",
     "start_time": "2021-12-09T02:45:23.400385Z"
    }
   },
   "outputs": [],
   "source": [
    "# import required libraries for dataframe and visualization\n",
    "\n",
    "import numpy as np\n",
    "import pandas as pd\n",
    "import matplotlib.pyplot as plt\n",
    "import seaborn as sns\n",
    "import datetime as dt\n",
    "\n",
    "# import required libraries for clustering\n",
    "import sklearn\n",
    "from sklearn.preprocessing import MinMaxScaler\n",
    "from sklearn.cluster import KMeans\n",
    "from sklearn_extra.cluster import KMedoids\n",
    "from sklearn.metrics import silhouette_score\n",
    "from kmodes.kprototypes import KPrototypes"
   ]
  },
  {
   "cell_type": "code",
   "execution_count": 160,
   "id": "9d655577",
   "metadata": {
    "ExecuteTime": {
     "end_time": "2021-12-09T02:45:26.952811Z",
     "start_time": "2021-12-09T02:45:25.279313Z"
    },
    "scrolled": true
   },
   "outputs": [],
   "source": [
    "# Read in all orders.\n",
    "orders = pd.read_csv('superstore_dataset2011-2015.csv', header=0, encoding='ISO-8859-1')"
   ]
  },
  {
   "cell_type": "code",
   "execution_count": 161,
   "id": "e575edb0",
   "metadata": {
    "ExecuteTime": {
     "end_time": "2021-12-09T02:45:28.469772Z",
     "start_time": "2021-12-09T02:45:26.964227Z"
    }
   },
   "outputs": [
    {
     "name": "stdout",
     "output_type": "stream",
     "text": [
      "<class 'pandas.core.frame.DataFrame'>\n",
      "RangeIndex: 51290 entries, 0 to 51289\n",
      "Data columns (total 24 columns):\n",
      " #   Column          Non-Null Count  Dtype  \n",
      "---  ------          --------------  -----  \n",
      " 0   Row ID          51290 non-null  int64  \n",
      " 1   Order ID        51290 non-null  object \n",
      " 2   Order Date      51290 non-null  object \n",
      " 3   Ship Date       51290 non-null  object \n",
      " 4   Ship Mode       51290 non-null  object \n",
      " 5   Customer ID     51290 non-null  object \n",
      " 6   Customer Name   51290 non-null  object \n",
      " 7   Segment         51290 non-null  object \n",
      " 8   City            51290 non-null  object \n",
      " 9   State           51290 non-null  object \n",
      " 10  Country         51290 non-null  object \n",
      " 11  Postal Code     9994 non-null   float64\n",
      " 12  Market          51290 non-null  object \n",
      " 13  Region          51290 non-null  object \n",
      " 14  Product ID      51290 non-null  object \n",
      " 15  Category        51290 non-null  object \n",
      " 16  Sub-Category    51290 non-null  object \n",
      " 17  Product Name    51290 non-null  object \n",
      " 18  Sales           51290 non-null  float64\n",
      " 19  Quantity        51290 non-null  int64  \n",
      " 20  Discount        51290 non-null  float64\n",
      " 21  Profit          51290 non-null  float64\n",
      " 22  Shipping Cost   51290 non-null  float64\n",
      " 23  Order Priority  51290 non-null  object \n",
      "dtypes: float64(5), int64(2), object(17)\n",
      "memory usage: 9.4+ MB\n"
     ]
    }
   ],
   "source": [
    "# Display dataset's data types.\n",
    "orders.info()"
   ]
  },
  {
   "cell_type": "code",
   "execution_count": 162,
   "id": "3ca5091c",
   "metadata": {
    "ExecuteTime": {
     "end_time": "2021-12-09T02:45:28.996240Z",
     "start_time": "2021-12-09T02:45:28.481083Z"
    }
   },
   "outputs": [],
   "source": [
    "orders = orders.drop_duplicates()"
   ]
  },
  {
   "cell_type": "code",
   "execution_count": 163,
   "id": "9c492d52",
   "metadata": {
    "ExecuteTime": {
     "end_time": "2021-12-09T02:45:29.057555Z",
     "start_time": "2021-12-09T02:45:29.001231Z"
    }
   },
   "outputs": [
    {
     "name": "stdout",
     "output_type": "stream",
     "text": [
      "<class 'pandas.core.frame.DataFrame'>\n",
      "Int64Index: 51290 entries, 0 to 51289\n",
      "Data columns (total 24 columns):\n",
      " #   Column          Non-Null Count  Dtype  \n",
      "---  ------          --------------  -----  \n",
      " 0   Row ID          51290 non-null  int64  \n",
      " 1   Order ID        51290 non-null  object \n",
      " 2   Order Date      51290 non-null  object \n",
      " 3   Ship Date       51290 non-null  object \n",
      " 4   Ship Mode       51290 non-null  object \n",
      " 5   Customer ID     51290 non-null  object \n",
      " 6   Customer Name   51290 non-null  object \n",
      " 7   Segment         51290 non-null  object \n",
      " 8   City            51290 non-null  object \n",
      " 9   State           51290 non-null  object \n",
      " 10  Country         51290 non-null  object \n",
      " 11  Postal Code     9994 non-null   float64\n",
      " 12  Market          51290 non-null  object \n",
      " 13  Region          51290 non-null  object \n",
      " 14  Product ID      51290 non-null  object \n",
      " 15  Category        51290 non-null  object \n",
      " 16  Sub-Category    51290 non-null  object \n",
      " 17  Product Name    51290 non-null  object \n",
      " 18  Sales           51290 non-null  float64\n",
      " 19  Quantity        51290 non-null  int64  \n",
      " 20  Discount        51290 non-null  float64\n",
      " 21  Profit          51290 non-null  float64\n",
      " 22  Shipping Cost   51290 non-null  float64\n",
      " 23  Order Priority  51290 non-null  object \n",
      "dtypes: float64(5), int64(2), object(17)\n",
      "memory usage: 9.8+ MB\n"
     ]
    }
   ],
   "source": [
    "orders.info()"
   ]
  },
  {
   "cell_type": "code",
   "execution_count": 6,
   "id": "0172eb15",
   "metadata": {
    "ExecuteTime": {
     "end_time": "2021-12-08T04:41:49.509911Z",
     "start_time": "2021-12-08T04:41:49.497948Z"
    }
   },
   "outputs": [
    {
     "data": {
      "text/plain": [
       "(51290, 24)"
      ]
     },
     "execution_count": 6,
     "metadata": {},
     "output_type": "execute_result"
    }
   ],
   "source": [
    "# Dsiplay the dataset's number of rows and columns pre-formatting\n",
    "orders.shape"
   ]
  },
  {
   "cell_type": "code",
   "execution_count": 7,
   "id": "42b77928",
   "metadata": {
    "ExecuteTime": {
     "end_time": "2021-12-08T04:41:49.587612Z",
     "start_time": "2021-12-08T04:41:49.512904Z"
    },
    "scrolled": true
   },
   "outputs": [
    {
     "data": {
      "text/html": [
       "<div>\n",
       "<style scoped>\n",
       "    .dataframe tbody tr th:only-of-type {\n",
       "        vertical-align: middle;\n",
       "    }\n",
       "\n",
       "    .dataframe tbody tr th {\n",
       "        vertical-align: top;\n",
       "    }\n",
       "\n",
       "    .dataframe thead th {\n",
       "        text-align: right;\n",
       "    }\n",
       "</style>\n",
       "<table border=\"1\" class=\"dataframe\">\n",
       "  <thead>\n",
       "    <tr style=\"text-align: right;\">\n",
       "      <th></th>\n",
       "      <th>Row ID</th>\n",
       "      <th>Postal Code</th>\n",
       "      <th>Sales</th>\n",
       "      <th>Quantity</th>\n",
       "      <th>Discount</th>\n",
       "      <th>Profit</th>\n",
       "      <th>Shipping Cost</th>\n",
       "    </tr>\n",
       "  </thead>\n",
       "  <tbody>\n",
       "    <tr>\n",
       "      <th>count</th>\n",
       "      <td>51290.00000</td>\n",
       "      <td>9994.000000</td>\n",
       "      <td>51290.000000</td>\n",
       "      <td>51290.000000</td>\n",
       "      <td>51290.000000</td>\n",
       "      <td>51290.000000</td>\n",
       "      <td>51290.000000</td>\n",
       "    </tr>\n",
       "    <tr>\n",
       "      <th>mean</th>\n",
       "      <td>25645.50000</td>\n",
       "      <td>55190.379428</td>\n",
       "      <td>246.490581</td>\n",
       "      <td>3.476545</td>\n",
       "      <td>0.142908</td>\n",
       "      <td>28.610982</td>\n",
       "      <td>26.375915</td>\n",
       "    </tr>\n",
       "    <tr>\n",
       "      <th>std</th>\n",
       "      <td>14806.29199</td>\n",
       "      <td>32063.693350</td>\n",
       "      <td>487.565361</td>\n",
       "      <td>2.278766</td>\n",
       "      <td>0.212280</td>\n",
       "      <td>174.340972</td>\n",
       "      <td>57.296804</td>\n",
       "    </tr>\n",
       "    <tr>\n",
       "      <th>min</th>\n",
       "      <td>1.00000</td>\n",
       "      <td>1040.000000</td>\n",
       "      <td>0.444000</td>\n",
       "      <td>1.000000</td>\n",
       "      <td>0.000000</td>\n",
       "      <td>-6599.978000</td>\n",
       "      <td>0.000000</td>\n",
       "    </tr>\n",
       "    <tr>\n",
       "      <th>25%</th>\n",
       "      <td>12823.25000</td>\n",
       "      <td>23223.000000</td>\n",
       "      <td>30.758625</td>\n",
       "      <td>2.000000</td>\n",
       "      <td>0.000000</td>\n",
       "      <td>0.000000</td>\n",
       "      <td>2.610000</td>\n",
       "    </tr>\n",
       "    <tr>\n",
       "      <th>50%</th>\n",
       "      <td>25645.50000</td>\n",
       "      <td>56430.500000</td>\n",
       "      <td>85.053000</td>\n",
       "      <td>3.000000</td>\n",
       "      <td>0.000000</td>\n",
       "      <td>9.240000</td>\n",
       "      <td>7.790000</td>\n",
       "    </tr>\n",
       "    <tr>\n",
       "      <th>75%</th>\n",
       "      <td>38467.75000</td>\n",
       "      <td>90008.000000</td>\n",
       "      <td>251.053200</td>\n",
       "      <td>5.000000</td>\n",
       "      <td>0.200000</td>\n",
       "      <td>36.810000</td>\n",
       "      <td>24.450000</td>\n",
       "    </tr>\n",
       "    <tr>\n",
       "      <th>max</th>\n",
       "      <td>51290.00000</td>\n",
       "      <td>99301.000000</td>\n",
       "      <td>22638.480000</td>\n",
       "      <td>14.000000</td>\n",
       "      <td>0.850000</td>\n",
       "      <td>8399.976000</td>\n",
       "      <td>933.570000</td>\n",
       "    </tr>\n",
       "  </tbody>\n",
       "</table>\n",
       "</div>"
      ],
      "text/plain": [
       "            Row ID   Postal Code         Sales      Quantity      Discount  \\\n",
       "count  51290.00000   9994.000000  51290.000000  51290.000000  51290.000000   \n",
       "mean   25645.50000  55190.379428    246.490581      3.476545      0.142908   \n",
       "std    14806.29199  32063.693350    487.565361      2.278766      0.212280   \n",
       "min        1.00000   1040.000000      0.444000      1.000000      0.000000   \n",
       "25%    12823.25000  23223.000000     30.758625      2.000000      0.000000   \n",
       "50%    25645.50000  56430.500000     85.053000      3.000000      0.000000   \n",
       "75%    38467.75000  90008.000000    251.053200      5.000000      0.200000   \n",
       "max    51290.00000  99301.000000  22638.480000     14.000000      0.850000   \n",
       "\n",
       "             Profit  Shipping Cost  \n",
       "count  51290.000000   51290.000000  \n",
       "mean      28.610982      26.375915  \n",
       "std      174.340972      57.296804  \n",
       "min    -6599.978000       0.000000  \n",
       "25%        0.000000       2.610000  \n",
       "50%        9.240000       7.790000  \n",
       "75%       36.810000      24.450000  \n",
       "max     8399.976000     933.570000  "
      ]
     },
     "execution_count": 7,
     "metadata": {},
     "output_type": "execute_result"
    }
   ],
   "source": [
    "# Display the dataset's basic stat.\n",
    "orders.describe()"
   ]
  },
  {
   "cell_type": "code",
   "execution_count": 8,
   "id": "fbee1be1",
   "metadata": {
    "ExecuteTime": {
     "end_time": "2021-12-08T04:41:54.541479Z",
     "start_time": "2021-12-08T04:41:54.478355Z"
    }
   },
   "outputs": [
    {
     "data": {
      "text/plain": [
       "Row ID             0.00\n",
       "Order ID           0.00\n",
       "Order Date         0.00\n",
       "Ship Date          0.00\n",
       "Ship Mode          0.00\n",
       "Customer ID        0.00\n",
       "Customer Name      0.00\n",
       "Segment            0.00\n",
       "City               0.00\n",
       "State              0.00\n",
       "Country            0.00\n",
       "Postal Code       80.51\n",
       "Market             0.00\n",
       "Region             0.00\n",
       "Product ID         0.00\n",
       "Category           0.00\n",
       "Sub-Category       0.00\n",
       "Product Name       0.00\n",
       "Sales              0.00\n",
       "Quantity           0.00\n",
       "Discount           0.00\n",
       "Profit             0.00\n",
       "Shipping Cost      0.00\n",
       "Order Priority     0.00\n",
       "dtype: float64"
      ]
     },
     "execution_count": 8,
     "metadata": {},
     "output_type": "execute_result"
    }
   ],
   "source": [
    "# Checking for null fields\n",
    "df_null = round(100*(orders.isnull().sum())/len(orders), 2)\n",
    "df_null"
   ]
  },
  {
   "cell_type": "code",
   "execution_count": 9,
   "id": "a64ad2ae",
   "metadata": {
    "ExecuteTime": {
     "end_time": "2021-12-08T04:41:55.243038Z",
     "start_time": "2021-12-08T04:41:55.221062Z"
    }
   },
   "outputs": [],
   "source": [
    "# Drop Postal Code, since 80% of this column's data is missing\n",
    "orders = orders.drop(columns=['Postal Code'])"
   ]
  },
  {
   "cell_type": "code",
   "execution_count": 10,
   "id": "f521e1d1",
   "metadata": {
    "ExecuteTime": {
     "end_time": "2021-12-08T04:41:56.908665Z",
     "start_time": "2021-12-08T04:41:56.816910Z"
    }
   },
   "outputs": [
    {
     "data": {
      "text/plain": [
       "(51290, 23)"
      ]
     },
     "execution_count": 10,
     "metadata": {},
     "output_type": "execute_result"
    }
   ],
   "source": [
    "orders = orders.dropna()\n",
    "\n",
    "# Check the shape after dropping the rows with missing values\n",
    "orders.shape"
   ]
  },
  {
   "cell_type": "markdown",
   "id": "f01ec42a",
   "metadata": {
    "ExecuteTime": {
     "end_time": "2021-12-04T00:04:31.265917Z",
     "start_time": "2021-12-04T00:04:31.249960Z"
    }
   },
   "source": [
    "# RFM"
   ]
  },
  {
   "cell_type": "code",
   "execution_count": 158,
   "id": "370914fe",
   "metadata": {
    "ExecuteTime": {
     "end_time": "2021-12-09T00:05:52.162943Z",
     "start_time": "2021-12-09T00:05:52.146947Z"
    }
   },
   "outputs": [
    {
     "ename": "ValueError",
     "evalue": "No axis named City for object type DataFrame",
     "output_type": "error",
     "traceback": [
      "\u001b[1;31m---------------------------------------------------------------------------\u001b[0m",
      "\u001b[1;31mKeyError\u001b[0m                                  Traceback (most recent call last)",
      "\u001b[1;32m~\\anaconda3\\envs\\data_mining\\lib\\site-packages\\pandas\\core\\generic.py\u001b[0m in \u001b[0;36m_get_axis_number\u001b[1;34m(cls, axis)\u001b[0m\n\u001b[0;32m    545\u001b[0m         \u001b[1;32mtry\u001b[0m\u001b[1;33m:\u001b[0m\u001b[1;33m\u001b[0m\u001b[1;33m\u001b[0m\u001b[0m\n\u001b[1;32m--> 546\u001b[1;33m             \u001b[1;32mreturn\u001b[0m \u001b[0mcls\u001b[0m\u001b[1;33m.\u001b[0m\u001b[0m_AXIS_TO_AXIS_NUMBER\u001b[0m\u001b[1;33m[\u001b[0m\u001b[0maxis\u001b[0m\u001b[1;33m]\u001b[0m\u001b[1;33m\u001b[0m\u001b[1;33m\u001b[0m\u001b[0m\n\u001b[0m\u001b[0;32m    547\u001b[0m         \u001b[1;32mexcept\u001b[0m \u001b[0mKeyError\u001b[0m\u001b[1;33m:\u001b[0m\u001b[1;33m\u001b[0m\u001b[1;33m\u001b[0m\u001b[0m\n",
      "\u001b[1;31mKeyError\u001b[0m: 'City'",
      "\nDuring handling of the above exception, another exception occurred:\n",
      "\u001b[1;31mValueError\u001b[0m                                Traceback (most recent call last)",
      "\u001b[1;32m~\\AppData\\Local\\Temp/ipykernel_532/322361343.py\u001b[0m in \u001b[0;36m<module>\u001b[1;34m\u001b[0m\n\u001b[0;32m      1\u001b[0m \u001b[1;31m# Monetary column\u001b[0m\u001b[1;33m\u001b[0m\u001b[1;33m\u001b[0m\u001b[0m\n\u001b[1;32m----> 2\u001b[1;33m \u001b[0mrfm_m\u001b[0m \u001b[1;33m=\u001b[0m \u001b[0morders\u001b[0m\u001b[1;33m.\u001b[0m\u001b[0mgroupby\u001b[0m\u001b[1;33m(\u001b[0m\u001b[1;34m'Customer ID'\u001b[0m\u001b[1;33m,\u001b[0m \u001b[1;34m'City'\u001b[0m\u001b[1;33m)\u001b[0m\u001b[1;33m[\u001b[0m\u001b[1;34m'Sales'\u001b[0m\u001b[1;33m]\u001b[0m\u001b[1;33m.\u001b[0m\u001b[0msum\u001b[0m\u001b[1;33m(\u001b[0m\u001b[1;33m)\u001b[0m\u001b[1;33m\u001b[0m\u001b[1;33m\u001b[0m\u001b[0m\n\u001b[0m",
      "\u001b[1;32m~\\anaconda3\\envs\\data_mining\\lib\\site-packages\\pandas\\core\\frame.py\u001b[0m in \u001b[0;36mgroupby\u001b[1;34m(self, by, axis, level, as_index, sort, group_keys, squeeze, observed, dropna)\u001b[0m\n\u001b[0;32m   7625\u001b[0m         \u001b[1;32mif\u001b[0m \u001b[0mlevel\u001b[0m \u001b[1;32mis\u001b[0m \u001b[1;32mNone\u001b[0m \u001b[1;32mand\u001b[0m \u001b[0mby\u001b[0m \u001b[1;32mis\u001b[0m \u001b[1;32mNone\u001b[0m\u001b[1;33m:\u001b[0m\u001b[1;33m\u001b[0m\u001b[1;33m\u001b[0m\u001b[0m\n\u001b[0;32m   7626\u001b[0m             \u001b[1;32mraise\u001b[0m \u001b[0mTypeError\u001b[0m\u001b[1;33m(\u001b[0m\u001b[1;34m\"You have to supply one of 'by' and 'level'\"\u001b[0m\u001b[1;33m)\u001b[0m\u001b[1;33m\u001b[0m\u001b[1;33m\u001b[0m\u001b[0m\n\u001b[1;32m-> 7627\u001b[1;33m         \u001b[0maxis\u001b[0m \u001b[1;33m=\u001b[0m \u001b[0mself\u001b[0m\u001b[1;33m.\u001b[0m\u001b[0m_get_axis_number\u001b[0m\u001b[1;33m(\u001b[0m\u001b[0maxis\u001b[0m\u001b[1;33m)\u001b[0m\u001b[1;33m\u001b[0m\u001b[1;33m\u001b[0m\u001b[0m\n\u001b[0m\u001b[0;32m   7628\u001b[0m \u001b[1;33m\u001b[0m\u001b[0m\n\u001b[0;32m   7629\u001b[0m         \u001b[1;31m# error: Argument \"squeeze\" to \"DataFrameGroupBy\" has incompatible type\u001b[0m\u001b[1;33m\u001b[0m\u001b[1;33m\u001b[0m\u001b[0m\n",
      "\u001b[1;32m~\\anaconda3\\envs\\data_mining\\lib\\site-packages\\pandas\\core\\generic.py\u001b[0m in \u001b[0;36m_get_axis_number\u001b[1;34m(cls, axis)\u001b[0m\n\u001b[0;32m    546\u001b[0m             \u001b[1;32mreturn\u001b[0m \u001b[0mcls\u001b[0m\u001b[1;33m.\u001b[0m\u001b[0m_AXIS_TO_AXIS_NUMBER\u001b[0m\u001b[1;33m[\u001b[0m\u001b[0maxis\u001b[0m\u001b[1;33m]\u001b[0m\u001b[1;33m\u001b[0m\u001b[1;33m\u001b[0m\u001b[0m\n\u001b[0;32m    547\u001b[0m         \u001b[1;32mexcept\u001b[0m \u001b[0mKeyError\u001b[0m\u001b[1;33m:\u001b[0m\u001b[1;33m\u001b[0m\u001b[1;33m\u001b[0m\u001b[0m\n\u001b[1;32m--> 548\u001b[1;33m             \u001b[1;32mraise\u001b[0m \u001b[0mValueError\u001b[0m\u001b[1;33m(\u001b[0m\u001b[1;34mf\"No axis named {axis} for object type {cls.__name__}\"\u001b[0m\u001b[1;33m)\u001b[0m\u001b[1;33m\u001b[0m\u001b[1;33m\u001b[0m\u001b[0m\n\u001b[0m\u001b[0;32m    549\u001b[0m \u001b[1;33m\u001b[0m\u001b[0m\n\u001b[0;32m    550\u001b[0m     \u001b[1;33m@\u001b[0m\u001b[0mfinal\u001b[0m\u001b[1;33m\u001b[0m\u001b[1;33m\u001b[0m\u001b[0m\n",
      "\u001b[1;31mValueError\u001b[0m: No axis named City for object type DataFrame"
     ]
    }
   ],
   "source": [
    "# Monetary column\n",
    "rfm_m = orders.groupby('Customer ID', 'City')['Sales'].sum()\n"
   ]
  },
  {
   "cell_type": "code",
   "execution_count": 155,
   "id": "88b1a814",
   "metadata": {
    "ExecuteTime": {
     "end_time": "2021-12-09T00:05:16.049653Z",
     "start_time": "2021-12-09T00:05:16.032657Z"
    }
   },
   "outputs": [
    {
     "data": {
      "text/plain": [
       "Customer ID\n",
       "AA-10315    13747.41300\n",
       "AA-10375     5884.19500\n",
       "AA-10480    17695.58978\n",
       "AA-10645    15343.89070\n",
       "AA-315       2243.25600\n",
       "               ...     \n",
       "YS-21880    18703.60600\n",
       "ZC-11910        7.17300\n",
       "ZC-21910    28472.81926\n",
       "ZD-11925     2951.22600\n",
       "ZD-21925     9479.34440\n",
       "Name: Sales, Length: 1590, dtype: float64"
      ]
     },
     "execution_count": 155,
     "metadata": {},
     "output_type": "execute_result"
    }
   ],
   "source": [
    "rfm_m"
   ]
  },
  {
   "cell_type": "code",
   "execution_count": 153,
   "id": "82ac7fb3",
   "metadata": {
    "ExecuteTime": {
     "end_time": "2021-12-09T00:04:54.116177Z",
     "start_time": "2021-12-09T00:04:54.100188Z"
    }
   },
   "outputs": [
    {
     "ename": "ValueError",
     "evalue": "No axis named Customer ID for object type DataFrame",
     "output_type": "error",
     "traceback": [
      "\u001b[1;31m---------------------------------------------------------------------------\u001b[0m",
      "\u001b[1;31mKeyError\u001b[0m                                  Traceback (most recent call last)",
      "\u001b[1;32m~\\anaconda3\\envs\\data_mining\\lib\\site-packages\\pandas\\core\\generic.py\u001b[0m in \u001b[0;36m_get_axis_number\u001b[1;34m(cls, axis)\u001b[0m\n\u001b[0;32m    545\u001b[0m         \u001b[1;32mtry\u001b[0m\u001b[1;33m:\u001b[0m\u001b[1;33m\u001b[0m\u001b[1;33m\u001b[0m\u001b[0m\n\u001b[1;32m--> 546\u001b[1;33m             \u001b[1;32mreturn\u001b[0m \u001b[0mcls\u001b[0m\u001b[1;33m.\u001b[0m\u001b[0m_AXIS_TO_AXIS_NUMBER\u001b[0m\u001b[1;33m[\u001b[0m\u001b[0maxis\u001b[0m\u001b[1;33m]\u001b[0m\u001b[1;33m\u001b[0m\u001b[1;33m\u001b[0m\u001b[0m\n\u001b[0m\u001b[0;32m    547\u001b[0m         \u001b[1;32mexcept\u001b[0m \u001b[0mKeyError\u001b[0m\u001b[1;33m:\u001b[0m\u001b[1;33m\u001b[0m\u001b[1;33m\u001b[0m\u001b[0m\n",
      "\u001b[1;31mKeyError\u001b[0m: 'Customer ID'",
      "\nDuring handling of the above exception, another exception occurred:\n",
      "\u001b[1;31mValueError\u001b[0m                                Traceback (most recent call last)",
      "\u001b[1;32m~\\AppData\\Local\\Temp/ipykernel_532/4069700838.py\u001b[0m in \u001b[0;36m<module>\u001b[1;34m\u001b[0m\n\u001b[0;32m      1\u001b[0m \u001b[1;31m# Frequency column\u001b[0m\u001b[1;33m\u001b[0m\u001b[1;33m\u001b[0m\u001b[0m\n\u001b[1;32m----> 2\u001b[1;33m \u001b[0mrfm_f\u001b[0m \u001b[1;33m=\u001b[0m \u001b[0morders\u001b[0m\u001b[1;33m.\u001b[0m\u001b[0mgroupby\u001b[0m\u001b[1;33m(\u001b[0m\u001b[1;34m'City'\u001b[0m\u001b[1;33m,\u001b[0m\u001b[1;34m'Customer ID'\u001b[0m\u001b[1;33m)\u001b[0m\u001b[1;33m[\u001b[0m\u001b[1;34m'Order ID'\u001b[0m\u001b[1;33m]\u001b[0m\u001b[1;33m.\u001b[0m\u001b[0mcount\u001b[0m\u001b[1;33m(\u001b[0m\u001b[1;33m)\u001b[0m\u001b[1;33m\u001b[0m\u001b[1;33m\u001b[0m\u001b[0m\n\u001b[0m\u001b[0;32m      3\u001b[0m \u001b[0mrfm_f\u001b[0m \u001b[1;33m=\u001b[0m \u001b[0mrfm_f\u001b[0m\u001b[1;33m.\u001b[0m\u001b[0mreset_index\u001b[0m\u001b[1;33m(\u001b[0m\u001b[1;33m)\u001b[0m\u001b[1;33m\u001b[0m\u001b[1;33m\u001b[0m\u001b[0m\n\u001b[0;32m      4\u001b[0m \u001b[0mrfm_f\u001b[0m\u001b[1;33m.\u001b[0m\u001b[0mcolumns\u001b[0m \u001b[1;33m=\u001b[0m \u001b[1;33m[\u001b[0m\u001b[1;34m'City'\u001b[0m\u001b[1;33m,\u001b[0m\u001b[1;34m'Customer ID'\u001b[0m\u001b[1;33m,\u001b[0m \u001b[1;34m'Frequency'\u001b[0m\u001b[1;33m]\u001b[0m\u001b[1;33m\u001b[0m\u001b[1;33m\u001b[0m\u001b[0m\n\u001b[0;32m      5\u001b[0m \u001b[0mrfm_f\u001b[0m\u001b[1;33m.\u001b[0m\u001b[0mhead\u001b[0m\u001b[1;33m(\u001b[0m\u001b[1;33m)\u001b[0m\u001b[1;33m\u001b[0m\u001b[1;33m\u001b[0m\u001b[0m\n",
      "\u001b[1;32m~\\anaconda3\\envs\\data_mining\\lib\\site-packages\\pandas\\core\\frame.py\u001b[0m in \u001b[0;36mgroupby\u001b[1;34m(self, by, axis, level, as_index, sort, group_keys, squeeze, observed, dropna)\u001b[0m\n\u001b[0;32m   7625\u001b[0m         \u001b[1;32mif\u001b[0m \u001b[0mlevel\u001b[0m \u001b[1;32mis\u001b[0m \u001b[1;32mNone\u001b[0m \u001b[1;32mand\u001b[0m \u001b[0mby\u001b[0m \u001b[1;32mis\u001b[0m \u001b[1;32mNone\u001b[0m\u001b[1;33m:\u001b[0m\u001b[1;33m\u001b[0m\u001b[1;33m\u001b[0m\u001b[0m\n\u001b[0;32m   7626\u001b[0m             \u001b[1;32mraise\u001b[0m \u001b[0mTypeError\u001b[0m\u001b[1;33m(\u001b[0m\u001b[1;34m\"You have to supply one of 'by' and 'level'\"\u001b[0m\u001b[1;33m)\u001b[0m\u001b[1;33m\u001b[0m\u001b[1;33m\u001b[0m\u001b[0m\n\u001b[1;32m-> 7627\u001b[1;33m         \u001b[0maxis\u001b[0m \u001b[1;33m=\u001b[0m \u001b[0mself\u001b[0m\u001b[1;33m.\u001b[0m\u001b[0m_get_axis_number\u001b[0m\u001b[1;33m(\u001b[0m\u001b[0maxis\u001b[0m\u001b[1;33m)\u001b[0m\u001b[1;33m\u001b[0m\u001b[1;33m\u001b[0m\u001b[0m\n\u001b[0m\u001b[0;32m   7628\u001b[0m \u001b[1;33m\u001b[0m\u001b[0m\n\u001b[0;32m   7629\u001b[0m         \u001b[1;31m# error: Argument \"squeeze\" to \"DataFrameGroupBy\" has incompatible type\u001b[0m\u001b[1;33m\u001b[0m\u001b[1;33m\u001b[0m\u001b[0m\n",
      "\u001b[1;32m~\\anaconda3\\envs\\data_mining\\lib\\site-packages\\pandas\\core\\generic.py\u001b[0m in \u001b[0;36m_get_axis_number\u001b[1;34m(cls, axis)\u001b[0m\n\u001b[0;32m    546\u001b[0m             \u001b[1;32mreturn\u001b[0m \u001b[0mcls\u001b[0m\u001b[1;33m.\u001b[0m\u001b[0m_AXIS_TO_AXIS_NUMBER\u001b[0m\u001b[1;33m[\u001b[0m\u001b[0maxis\u001b[0m\u001b[1;33m]\u001b[0m\u001b[1;33m\u001b[0m\u001b[1;33m\u001b[0m\u001b[0m\n\u001b[0;32m    547\u001b[0m         \u001b[1;32mexcept\u001b[0m \u001b[0mKeyError\u001b[0m\u001b[1;33m:\u001b[0m\u001b[1;33m\u001b[0m\u001b[1;33m\u001b[0m\u001b[0m\n\u001b[1;32m--> 548\u001b[1;33m             \u001b[1;32mraise\u001b[0m \u001b[0mValueError\u001b[0m\u001b[1;33m(\u001b[0m\u001b[1;34mf\"No axis named {axis} for object type {cls.__name__}\"\u001b[0m\u001b[1;33m)\u001b[0m\u001b[1;33m\u001b[0m\u001b[1;33m\u001b[0m\u001b[0m\n\u001b[0m\u001b[0;32m    549\u001b[0m \u001b[1;33m\u001b[0m\u001b[0m\n\u001b[0;32m    550\u001b[0m     \u001b[1;33m@\u001b[0m\u001b[0mfinal\u001b[0m\u001b[1;33m\u001b[0m\u001b[1;33m\u001b[0m\u001b[0m\n",
      "\u001b[1;31mValueError\u001b[0m: No axis named Customer ID for object type DataFrame"
     ]
    }
   ],
   "source": [
    "# Frequency column\n",
    "rfm_f = orders.groupby('City','Customer ID')['Order ID'].count()\n",
    "rfm_f = rfm_f.reset_index()\n",
    "rfm_f.columns = ['City','Customer ID', 'Frequency']\n",
    "rfm_f.head()"
   ]
  },
  {
   "cell_type": "code",
   "execution_count": 11,
   "id": "e29ff179",
   "metadata": {},
   "outputs": [
    {
     "data": {
      "text/plain": [
       "0          1-1-2011\n",
       "1          1-1-2011\n",
       "2          1-1-2011\n",
       "3          1-1-2011\n",
       "4          1-1-2011\n",
       "            ...    \n",
       "51285    31-12-2014\n",
       "51286    31-12-2014\n",
       "51287    31-12-2014\n",
       "51288    31-12-2014\n",
       "51289    31-12-2014\n",
       "Name: Order Date, Length: 51290, dtype: object"
      ]
     },
     "execution_count": 11,
     "metadata": {},
     "output_type": "execute_result"
    }
   ],
   "source": [
    "# Recency column\n",
    "orders['Order Date'] = orders['Order Date'].str.replace('/', '-')\n",
    "orders['Order Date']\n"
   ]
  },
  {
   "cell_type": "code",
   "execution_count": 12,
   "id": "345a115d",
   "metadata": {},
   "outputs": [
    {
     "data": {
      "text/plain": [
       "0       2011-01-01\n",
       "1       2011-01-01\n",
       "2       2011-01-01\n",
       "3       2011-01-01\n",
       "4       2011-01-01\n",
       "           ...    \n",
       "51285   2014-12-31\n",
       "51286   2014-12-31\n",
       "51287   2014-12-31\n",
       "51288   2014-12-31\n",
       "51289   2014-12-31\n",
       "Name: Order Date, Length: 51290, dtype: datetime64[ns]"
      ]
     },
     "execution_count": 12,
     "metadata": {},
     "output_type": "execute_result"
    }
   ],
   "source": [
    "orders['Order Date'] = pd.to_datetime(orders['Order Date'],format='%d-%m-%Y')\n",
    "orders['Order Date']"
   ]
  },
  {
   "cell_type": "code",
   "execution_count": 13,
   "id": "2e7ca789",
   "metadata": {},
   "outputs": [
    {
     "data": {
      "text/plain": [
       "Timestamp('2014-12-31 00:00:00')"
      ]
     },
     "execution_count": 13,
     "metadata": {},
     "output_type": "execute_result"
    }
   ],
   "source": [
    "max_date = max(orders['Order Date'])\n",
    "max_date"
   ]
  },
  {
   "cell_type": "code",
   "execution_count": 14,
   "id": "f6e55de4",
   "metadata": {},
   "outputs": [
    {
     "data": {
      "text/html": [
       "<div>\n",
       "<style scoped>\n",
       "    .dataframe tbody tr th:only-of-type {\n",
       "        vertical-align: middle;\n",
       "    }\n",
       "\n",
       "    .dataframe tbody tr th {\n",
       "        vertical-align: top;\n",
       "    }\n",
       "\n",
       "    .dataframe thead th {\n",
       "        text-align: right;\n",
       "    }\n",
       "</style>\n",
       "<table border=\"1\" class=\"dataframe\">\n",
       "  <thead>\n",
       "    <tr style=\"text-align: right;\">\n",
       "      <th></th>\n",
       "      <th>Customer ID</th>\n",
       "      <th>Diff</th>\n",
       "    </tr>\n",
       "  </thead>\n",
       "  <tbody>\n",
       "    <tr>\n",
       "      <th>431</th>\n",
       "      <td>DK-2985</td>\n",
       "      <td>1206</td>\n",
       "    </tr>\n",
       "    <tr>\n",
       "      <th>484</th>\n",
       "      <td>DW-3195</td>\n",
       "      <td>1063</td>\n",
       "    </tr>\n",
       "    <tr>\n",
       "      <th>1460</th>\n",
       "      <td>SZ-10035</td>\n",
       "      <td>956</td>\n",
       "    </tr>\n",
       "    <tr>\n",
       "      <th>850</th>\n",
       "      <td>KD-6270</td>\n",
       "      <td>811</td>\n",
       "    </tr>\n",
       "    <tr>\n",
       "      <th>365</th>\n",
       "      <td>CT-1995</td>\n",
       "      <td>783</td>\n",
       "    </tr>\n",
       "    <tr>\n",
       "      <th>...</th>\n",
       "      <td>...</td>\n",
       "      <td>...</td>\n",
       "    </tr>\n",
       "    <tr>\n",
       "      <th>871</th>\n",
       "      <td>KL-6645</td>\n",
       "      <td>0</td>\n",
       "    </tr>\n",
       "    <tr>\n",
       "      <th>872</th>\n",
       "      <td>KM-16225</td>\n",
       "      <td>0</td>\n",
       "    </tr>\n",
       "    <tr>\n",
       "      <th>680</th>\n",
       "      <td>JA-15970</td>\n",
       "      <td>0</td>\n",
       "    </tr>\n",
       "    <tr>\n",
       "      <th>939</th>\n",
       "      <td>LP-7095</td>\n",
       "      <td>0</td>\n",
       "    </tr>\n",
       "    <tr>\n",
       "      <th>733</th>\n",
       "      <td>JG-15805</td>\n",
       "      <td>0</td>\n",
       "    </tr>\n",
       "  </tbody>\n",
       "</table>\n",
       "<p>1590 rows × 2 columns</p>\n",
       "</div>"
      ],
      "text/plain": [
       "     Customer ID  Diff\n",
       "431      DK-2985  1206\n",
       "484      DW-3195  1063\n",
       "1460    SZ-10035   956\n",
       "850      KD-6270   811\n",
       "365      CT-1995   783\n",
       "...          ...   ...\n",
       "871      KL-6645     0\n",
       "872     KM-16225     0\n",
       "680     JA-15970     0\n",
       "939      LP-7095     0\n",
       "733     JG-15805     0\n",
       "\n",
       "[1590 rows x 2 columns]"
      ]
     },
     "execution_count": 14,
     "metadata": {},
     "output_type": "execute_result"
    }
   ],
   "source": [
    "orders['Diff'] = max_date - orders['Order Date']\n",
    "rfm_r = orders.groupby('Customer ID')['Diff'].min()\n",
    "rfm_r = rfm_r.reset_index().sort_values(by='Diff', ascending=False)\n",
    "rfm_r['Diff'] = rfm_r['Diff'].dt.days\n",
    "rfm_r"
   ]
  },
  {
   "cell_type": "code",
   "execution_count": 15,
   "id": "a01a5109",
   "metadata": {},
   "outputs": [
    {
     "data": {
      "text/html": [
       "<div>\n",
       "<style scoped>\n",
       "    .dataframe tbody tr th:only-of-type {\n",
       "        vertical-align: middle;\n",
       "    }\n",
       "\n",
       "    .dataframe tbody tr th {\n",
       "        vertical-align: top;\n",
       "    }\n",
       "\n",
       "    .dataframe thead th {\n",
       "        text-align: right;\n",
       "    }\n",
       "</style>\n",
       "<table border=\"1\" class=\"dataframe\">\n",
       "  <thead>\n",
       "    <tr style=\"text-align: right;\">\n",
       "      <th></th>\n",
       "      <th>Customer ID</th>\n",
       "      <th>Amount</th>\n",
       "      <th>Frequency</th>\n",
       "      <th>Recency</th>\n",
       "    </tr>\n",
       "  </thead>\n",
       "  <tbody>\n",
       "    <tr>\n",
       "      <th>0</th>\n",
       "      <td>AA-10315</td>\n",
       "      <td>13747.41300</td>\n",
       "      <td>42</td>\n",
       "      <td>8</td>\n",
       "    </tr>\n",
       "    <tr>\n",
       "      <th>1</th>\n",
       "      <td>AA-10375</td>\n",
       "      <td>5884.19500</td>\n",
       "      <td>42</td>\n",
       "      <td>6</td>\n",
       "    </tr>\n",
       "    <tr>\n",
       "      <th>2</th>\n",
       "      <td>AA-10480</td>\n",
       "      <td>17695.58978</td>\n",
       "      <td>38</td>\n",
       "      <td>125</td>\n",
       "    </tr>\n",
       "    <tr>\n",
       "      <th>3</th>\n",
       "      <td>AA-10645</td>\n",
       "      <td>15343.89070</td>\n",
       "      <td>73</td>\n",
       "      <td>28</td>\n",
       "    </tr>\n",
       "    <tr>\n",
       "      <th>4</th>\n",
       "      <td>AA-315</td>\n",
       "      <td>2243.25600</td>\n",
       "      <td>8</td>\n",
       "      <td>2</td>\n",
       "    </tr>\n",
       "  </tbody>\n",
       "</table>\n",
       "</div>"
      ],
      "text/plain": [
       "  Customer ID       Amount  Frequency  Recency\n",
       "0    AA-10315  13747.41300         42        8\n",
       "1    AA-10375   5884.19500         42        6\n",
       "2    AA-10480  17695.58978         38      125\n",
       "3    AA-10645  15343.89070         73       28\n",
       "4      AA-315   2243.25600          8        2"
      ]
     },
     "execution_count": 15,
     "metadata": {},
     "output_type": "execute_result"
    }
   ],
   "source": [
    "# Merging dataframes\n",
    "rfm = pd.merge(rfm_m, rfm_f, on='Customer ID', how='inner')\n",
    "rfm = pd.merge(rfm, rfm_r, on='Customer ID', how='inner')\n",
    "rfm.columns = ['Customer ID', 'Amount', 'Frequency', 'Recency']\n",
    "rfm.head()"
   ]
  },
  {
   "cell_type": "code",
   "execution_count": 16,
   "id": "0ec304cd",
   "metadata": {},
   "outputs": [
    {
     "data": {
      "text/plain": [
       "<seaborn.axisgrid.FacetGrid at 0x2120a5022b0>"
      ]
     },
     "execution_count": 16,
     "metadata": {},
     "output_type": "execute_result"
    },
    {
     "data": {
      "image/png": "[encoded data removed]",
      "text/plain": [
       "<Figure size 360x360 with 1 Axes>"
      ]
     },
     "metadata": {
      "needs_background": "light"
     },
     "output_type": "display_data"
    }
   ],
   "source": [
    "# Distribution for Recency\n",
    "sns.displot(rfm['Recency'])"
   ]
  },
  {
   "cell_type": "code",
   "execution_count": 17,
   "id": "c5d93f94",
   "metadata": {},
   "outputs": [
    {
     "data": {
      "text/plain": [
       "<seaborn.axisgrid.FacetGrid at 0x2120a50f520>"
      ]
     },
     "execution_count": 17,
     "metadata": {},
     "output_type": "execute_result"
    },
    {
     "data": {
      "image/png": "[encoded data removed]",
      "text/plain": [
       "<Figure size 360x360 with 1 Axes>"
      ]
     },
     "metadata": {
      "needs_background": "light"
     },
     "output_type": "display_data"
    }
   ],
   "source": [
    "# Distribution for Frequency\n",
    "sns.displot(rfm['Frequency'])"
   ]
  },
  {
   "cell_type": "code",
   "execution_count": 18,
   "id": "f5906df1",
   "metadata": {},
   "outputs": [
    {
     "data": {
      "text/plain": [
       "<seaborn.axisgrid.FacetGrid at 0x2120baf6ac0>"
      ]
     },
     "execution_count": 18,
     "metadata": {},
     "output_type": "execute_result"
    },
    {
     "data": {
      "image/png": "[encoded data removed]",
      "text/plain": [
       "<Figure size 360x360 with 1 Axes>"
      ]
     },
     "metadata": {
      "needs_background": "light"
     },
     "output_type": "display_data"
    }
   ],
   "source": [
    "# Distribution for Amount\n",
    "sns.displot(rfm['Amount'])"
   ]
  },
  {
   "cell_type": "code",
   "execution_count": 19,
   "id": "f88e120a",
   "metadata": {},
   "outputs": [
    {
     "data": {
      "text/plain": [
       "Text(0.5, 0, 'Attributes')"
      ]
     },
     "execution_count": 19,
     "metadata": {},
     "output_type": "execute_result"
    },
    {
     "data": {
      "image/png": "[encoded data removed]",
      "text/plain": [
       "<Figure size 720x576 with 1 Axes>"
      ]
     },
     "metadata": {
      "needs_background": "light"
     },
     "output_type": "display_data"
    }
   ],
   "source": [
    "# Detect outliers\n",
    "\n",
    "attributes = ['Amount','Frequency','Recency']\n",
    "plt.rcParams['figure.figsize'] = [10,8]\n",
    "sns.boxplot(data = rfm[attributes], orient=\"v\", palette=\"Set2\" ,whis=1.5,saturation=1, width=0.7)\n",
    "plt.title(\"Outliers Variable Distribution\", fontsize = 14, fontweight = 'bold')\n",
    "plt.ylabel(\"Range\", fontweight = 'bold')\n",
    "plt.xlabel(\"Attributes\", fontweight = 'bold')"
   ]
  },
  {
   "cell_type": "code",
   "execution_count": 20,
   "id": "08c92f27",
   "metadata": {},
   "outputs": [],
   "source": [
    "# Removing (statistical) outliers for Amount\n",
    "Q1 = rfm.Amount.quantile(0.25)\n",
    "Q3 = rfm.Amount.quantile(0.75)\n",
    "IQR = Q3 - Q1\n",
    "rfm = rfm[(rfm.Amount >= Q1 - 1.5*IQR) & (rfm.Amount <= Q3 + 1.5*IQR)]\n",
    "\n",
    "# Removing (statistical) outliers for Recency\n",
    "Q1 = rfm.Recency.quantile(0.25)\n",
    "Q3 = rfm.Recency.quantile(0.75)\n",
    "IQR = Q3 - Q1\n",
    "rfm = rfm[(rfm.Recency >= Q1 - 1.5*IQR) & (rfm.Recency <= Q3 + 1.5*IQR)]\n",
    "\n",
    "# Removing (statistical) outliers for Frequency\n",
    "Q1 = rfm.Frequency.quantile(0.25)\n",
    "Q3 = rfm.Frequency.quantile(0.75)\n",
    "IQR = Q3 - Q1\n",
    "rfm = rfm[(rfm.Frequency >= Q1 - 1.5*IQR) & (rfm.Frequency <= Q3 + 1.5*IQR)]"
   ]
  },
  {
   "cell_type": "code",
   "execution_count": 21,
   "id": "b44ae4fe",
   "metadata": {},
   "outputs": [
    {
     "data": {
      "text/plain": [
       "Text(0.5, 0, 'Attributes')"
      ]
     },
     "execution_count": 21,
     "metadata": {},
     "output_type": "execute_result"
    },
    {
     "data": {
      "image/png": "[encoded data removed]",
      "text/plain": [
       "<Figure size 720x576 with 1 Axes>"
      ]
     },
     "metadata": {
      "needs_background": "light"
     },
     "output_type": "display_data"
    }
   ],
   "source": [
    "attributes = ['Amount','Frequency','Recency']\n",
    "plt.rcParams['figure.figsize'] = [10,8]\n",
    "sns.boxplot(data = rfm[attributes], orient=\"v\", palette=\"Set2\" ,whis=1.5,saturation=1, width=0.7)\n",
    "plt.title(\"Outliers Variable Distribution\", fontsize = 14, fontweight = 'bold')\n",
    "plt.ylabel(\"Range\", fontweight = 'bold')\n",
    "plt.xlabel(\"Attributes\", fontweight = 'bold')"
   ]
  },
  {
   "cell_type": "code",
   "execution_count": 22,
   "id": "da84ff92",
   "metadata": {},
   "outputs": [
    {
     "data": {
      "text/plain": [
       "<seaborn.axisgrid.FacetGrid at 0x2120c39bd30>"
      ]
     },
     "execution_count": 22,
     "metadata": {},
     "output_type": "execute_result"
    },
    {
     "data": {
      "image/png": "[encoded data removed]",
      "text/plain": [
       "<Figure size 360x360 with 1 Axes>"
      ]
     },
     "metadata": {
      "needs_background": "light"
     },
     "output_type": "display_data"
    }
   ],
   "source": [
    "# Distribution for Recency\n",
    "sns.displot(rfm['Recency'])"
   ]
  },
  {
   "cell_type": "code",
   "execution_count": 23,
   "id": "e05e01c1",
   "metadata": {},
   "outputs": [
    {
     "data": {
      "text/plain": [
       "<seaborn.axisgrid.FacetGrid at 0x2120c481940>"
      ]
     },
     "execution_count": 23,
     "metadata": {},
     "output_type": "execute_result"
    },
    {
     "data": {
      "image/png": "[encoded data removed]",
      "text/plain": [
       "<Figure size 360x360 with 1 Axes>"
      ]
     },
     "metadata": {
      "needs_background": "light"
     },
     "output_type": "display_data"
    }
   ],
   "source": [
    "# Distribution for Frequency\n",
    "sns.displot(rfm['Frequency'])"
   ]
  },
  {
   "cell_type": "code",
   "execution_count": 24,
   "id": "7b0c0c82",
   "metadata": {},
   "outputs": [
    {
     "data": {
      "text/plain": [
       "<seaborn.axisgrid.FacetGrid at 0x2120c5b1070>"
      ]
     },
     "execution_count": 24,
     "metadata": {},
     "output_type": "execute_result"
    },
    {
     "data": {
      "image/png": "[encoded data removed]",
      "text/plain": [
       "<Figure size 360x360 with 1 Axes>"
      ]
     },
     "metadata": {
      "needs_background": "light"
     },
     "output_type": "display_data"
    }
   ],
   "source": [
    "# Distribution for Amount\n",
    "sns.displot(rfm['Amount'])"
   ]
  },
  {
   "cell_type": "code",
   "execution_count": 25,
   "id": "1db2a1ea",
   "metadata": {},
   "outputs": [
    {
     "data": {
      "text/plain": [
       "(1423, 3)"
      ]
     },
     "execution_count": 25,
     "metadata": {},
     "output_type": "execute_result"
    }
   ],
   "source": [
    "# Rescaling the attributes\n",
    "\n",
    "rfm_df = rfm[['Amount', 'Frequency', 'Recency']]\n",
    "\n",
    "# Instantiate\n",
    "scaler = MinMaxScaler()\n",
    "# Compare with Standardization\n",
    "\n",
    "# fit_transform\n",
    "rfm_df_scaled = scaler.fit_transform(rfm_df)\n",
    "rfm_df_scaled.shape"
   ]
  },
  {
   "cell_type": "code",
   "execution_count": 26,
   "id": "a4f44627",
   "metadata": {},
   "outputs": [
    {
     "data": {
      "text/html": [
       "<div>\n",
       "<style scoped>\n",
       "    .dataframe tbody tr th:only-of-type {\n",
       "        vertical-align: middle;\n",
       "    }\n",
       "\n",
       "    .dataframe tbody tr th {\n",
       "        vertical-align: top;\n",
       "    }\n",
       "\n",
       "    .dataframe thead th {\n",
       "        text-align: right;\n",
       "    }\n",
       "</style>\n",
       "<table border=\"1\" class=\"dataframe\">\n",
       "  <thead>\n",
       "    <tr style=\"text-align: right;\">\n",
       "      <th></th>\n",
       "      <th>Amount</th>\n",
       "      <th>Frequency</th>\n",
       "      <th>Recency</th>\n",
       "    </tr>\n",
       "  </thead>\n",
       "  <tbody>\n",
       "    <tr>\n",
       "      <th>0</th>\n",
       "      <td>0.463304</td>\n",
       "      <td>0.427083</td>\n",
       "      <td>0.035398</td>\n",
       "    </tr>\n",
       "    <tr>\n",
       "      <th>1</th>\n",
       "      <td>0.198166</td>\n",
       "      <td>0.427083</td>\n",
       "      <td>0.026549</td>\n",
       "    </tr>\n",
       "    <tr>\n",
       "      <th>2</th>\n",
       "      <td>0.596432</td>\n",
       "      <td>0.385417</td>\n",
       "      <td>0.553097</td>\n",
       "    </tr>\n",
       "    <tr>\n",
       "      <th>3</th>\n",
       "      <td>0.517136</td>\n",
       "      <td>0.750000</td>\n",
       "      <td>0.123894</td>\n",
       "    </tr>\n",
       "    <tr>\n",
       "      <th>4</th>\n",
       "      <td>0.075398</td>\n",
       "      <td>0.072917</td>\n",
       "      <td>0.008850</td>\n",
       "    </tr>\n",
       "  </tbody>\n",
       "</table>\n",
       "</div>"
      ],
      "text/plain": [
       "     Amount  Frequency   Recency\n",
       "0  0.463304   0.427083  0.035398\n",
       "1  0.198166   0.427083  0.026549\n",
       "2  0.596432   0.385417  0.553097\n",
       "3  0.517136   0.750000  0.123894\n",
       "4  0.075398   0.072917  0.008850"
      ]
     },
     "execution_count": 26,
     "metadata": {},
     "output_type": "execute_result"
    }
   ],
   "source": [
    "rfm_df_scaled = pd.DataFrame(rfm_df_scaled)\n",
    "rfm_df_scaled.columns = ['Amount', 'Frequency', 'Recency']\n",
    "rfm_df_scaled.head()"
   ]
  },
  {
   "cell_type": "code",
   "execution_count": 27,
   "id": "07220edb",
   "metadata": {},
   "outputs": [
    {
     "data": {
      "text/plain": [
       "KMeans(max_iter=50, n_clusters=4)"
      ]
     },
     "execution_count": 27,
     "metadata": {},
     "output_type": "execute_result"
    }
   ],
   "source": [
    "kmeans = KMeans(n_clusters=4, max_iter=50)\n",
    "kmeans.fit(rfm_df_scaled)"
   ]
  },
  {
   "cell_type": "code",
   "execution_count": 28,
   "id": "86b3017f",
   "metadata": {},
   "outputs": [
    {
     "data": {
      "text/plain": [
       "array([0, 0, 0, ..., 2, 3, 0])"
      ]
     },
     "execution_count": 28,
     "metadata": {},
     "output_type": "execute_result"
    }
   ],
   "source": [
    "kmeans.labels_"
   ]
  },
  {
   "cell_type": "code",
   "execution_count": 29,
   "id": "fa6c0129",
   "metadata": {},
   "outputs": [
    {
     "data": {
      "text/plain": [
       "[<matplotlib.lines.Line2D at 0x2120c874ca0>]"
      ]
     },
     "execution_count": 29,
     "metadata": {},
     "output_type": "execute_result"
    },
    {
     "data": {
      "image/png": "[encoded data removed]",
      "text/plain": [
       "<Figure size 720x576 with 1 Axes>"
      ]
     },
     "metadata": {
      "needs_background": "light"
     },
     "output_type": "display_data"
    }
   ],
   "source": [
    "# Elbow-curve/SSD (Sum of Squares Distance)\n",
    "\n",
    "ssd = []\n",
    "range_n_clusters = [2, 3, 4, 5, 6, 7, 8]\n",
    "for num_clusters in range_n_clusters:\n",
    "    kmeans = KMeans(n_clusters=num_clusters, max_iter=50)\n",
    "    kmeans.fit(rfm_df_scaled)\n",
    "    \n",
    "    ssd.append(kmeans.inertia_)\n",
    "    \n",
    "# plot the SSDs for each n_clusters\n",
    "plt.plot(ssd)\n",
    "# y-axis: SSD\n",
    "# x-axis: Number of clusters\n",
    "# Choose a balance point to avoid over-fitting."
   ]
  },
  {
   "cell_type": "code",
   "execution_count": 30,
   "id": "79ecebe0",
   "metadata": {},
   "outputs": [
    {
     "name": "stdout",
     "output_type": "stream",
     "text": [
      "For n_clusters=2, the silhouette score is 0.5211722951221243\n",
      "For n_clusters=3, the silhouette score is 0.5229832676402274\n",
      "For n_clusters=4, the silhouette score is 0.4448551021692008\n",
      "For n_clusters=5, the silhouette score is 0.41997028205007814\n",
      "For n_clusters=6, the silhouette score is 0.41504544677728317\n",
      "For n_clusters=7, the silhouette score is 0.3830486542365985\n",
      "For n_clusters=8, the silhouette score is 0.3656454013449898\n"
     ]
    }
   ],
   "source": [
    "# Silhouette analysis\n",
    "range_n_clusters = [2, 3, 4, 5, 6, 7, 8]\n",
    "\n",
    "for num_clusters in range_n_clusters:\n",
    "    \n",
    "    # intialise kmeans\n",
    "    kmeans = KMeans(n_clusters=num_clusters, max_iter=50)\n",
    "    kmeans.fit(rfm_df_scaled)\n",
    "    \n",
    "    cluster_labels = kmeans.labels_\n",
    "    \n",
    "    # silhouette score\n",
    "    silhouette_avg = silhouette_score(rfm_df_scaled, cluster_labels)\n",
    "    print(\"For n_clusters={0}, the silhouette score is {1}\".format(num_clusters, silhouette_avg))\n",
    "    \n",
    "# The higher the point, the higher similarities between items within a cluster and \n",
    "# the higher dissimilarites bettwen items in different clusters.\n",
    "# Choose a balance number to avoid over-fitting."
   ]
  },
  {
   "cell_type": "code",
   "execution_count": 31,
   "id": "3e6f7c20",
   "metadata": {},
   "outputs": [
    {
     "data": {
      "text/plain": [
       "KMeans(max_iter=50, n_clusters=4)"
      ]
     },
     "execution_count": 31,
     "metadata": {},
     "output_type": "execute_result"
    }
   ],
   "source": [
    "# Final model with k=4\n",
    "kmeans = KMeans(n_clusters=4, max_iter=50)\n",
    "kmeans.fit(rfm_df_scaled)"
   ]
  },
  {
   "cell_type": "code",
   "execution_count": 32,
   "id": "92845105",
   "metadata": {},
   "outputs": [
    {
     "data": {
      "text/plain": [
       "array([0, 0, 0, ..., 3, 2, 0])"
      ]
     },
     "execution_count": 32,
     "metadata": {},
     "output_type": "execute_result"
    }
   ],
   "source": [
    "kmeans.labels_"
   ]
  },
  {
   "cell_type": "code",
   "execution_count": 33,
   "id": "45f1b3fc",
   "metadata": {},
   "outputs": [
    {
     "data": {
      "text/html": [
       "<div>\n",
       "<style scoped>\n",
       "    .dataframe tbody tr th:only-of-type {\n",
       "        vertical-align: middle;\n",
       "    }\n",
       "\n",
       "    .dataframe tbody tr th {\n",
       "        vertical-align: top;\n",
       "    }\n",
       "\n",
       "    .dataframe thead th {\n",
       "        text-align: right;\n",
       "    }\n",
       "</style>\n",
       "<table border=\"1\" class=\"dataframe\">\n",
       "  <thead>\n",
       "    <tr style=\"text-align: right;\">\n",
       "      <th></th>\n",
       "      <th>Customer ID</th>\n",
       "      <th>Amount</th>\n",
       "      <th>Frequency</th>\n",
       "      <th>Recency</th>\n",
       "      <th>Cluster_Id</th>\n",
       "    </tr>\n",
       "  </thead>\n",
       "  <tbody>\n",
       "    <tr>\n",
       "      <th>0</th>\n",
       "      <td>AA-10315</td>\n",
       "      <td>13747.41300</td>\n",
       "      <td>42</td>\n",
       "      <td>8</td>\n",
       "      <td>0</td>\n",
       "    </tr>\n",
       "    <tr>\n",
       "      <th>1</th>\n",
       "      <td>AA-10375</td>\n",
       "      <td>5884.19500</td>\n",
       "      <td>42</td>\n",
       "      <td>6</td>\n",
       "      <td>0</td>\n",
       "    </tr>\n",
       "    <tr>\n",
       "      <th>2</th>\n",
       "      <td>AA-10480</td>\n",
       "      <td>17695.58978</td>\n",
       "      <td>38</td>\n",
       "      <td>125</td>\n",
       "      <td>0</td>\n",
       "    </tr>\n",
       "    <tr>\n",
       "      <th>3</th>\n",
       "      <td>AA-10645</td>\n",
       "      <td>15343.89070</td>\n",
       "      <td>73</td>\n",
       "      <td>28</td>\n",
       "      <td>3</td>\n",
       "    </tr>\n",
       "    <tr>\n",
       "      <th>4</th>\n",
       "      <td>AA-315</td>\n",
       "      <td>2243.25600</td>\n",
       "      <td>8</td>\n",
       "      <td>2</td>\n",
       "      <td>2</td>\n",
       "    </tr>\n",
       "  </tbody>\n",
       "</table>\n",
       "</div>"
      ],
      "text/plain": [
       "  Customer ID       Amount  Frequency  Recency  Cluster_Id\n",
       "0    AA-10315  13747.41300         42        8           0\n",
       "1    AA-10375   5884.19500         42        6           0\n",
       "2    AA-10480  17695.58978         38      125           0\n",
       "3    AA-10645  15343.89070         73       28           3\n",
       "4      AA-315   2243.25600          8        2           2"
      ]
     },
     "execution_count": 33,
     "metadata": {},
     "output_type": "execute_result"
    }
   ],
   "source": [
    "# assign the label\n",
    "rfm['Cluster_Id'] = kmeans.labels_\n",
    "rfm.head()"
   ]
  },
  {
   "cell_type": "code",
   "execution_count": 34,
   "id": "d3b1cf77",
   "metadata": {},
   "outputs": [
    {
     "data": {
      "text/plain": [
       "<AxesSubplot:xlabel='Cluster_Id', ylabel='Amount'>"
      ]
     },
     "execution_count": 34,
     "metadata": {},
     "output_type": "execute_result"
    },
    {
     "data": {
      "image/png": "[encoded data removed]",
      "text/plain": [
       "<Figure size 720x576 with 1 Axes>"
      ]
     },
     "metadata": {
      "needs_background": "light"
     },
     "output_type": "display_data"
    }
   ],
   "source": [
    "# Box plot to visualize Cluster Id vs Amount\n",
    "\n",
    "sns.boxplot(x='Cluster_Id', y='Amount', data=rfm)"
   ]
  },
  {
   "cell_type": "code",
   "execution_count": 35,
   "id": "a8b9c283",
   "metadata": {},
   "outputs": [
    {
     "data": {
      "text/plain": [
       "<AxesSubplot:xlabel='Cluster_Id', ylabel='Recency'>"
      ]
     },
     "execution_count": 35,
     "metadata": {},
     "output_type": "execute_result"
    },
    {
     "data": {
      "image/png": "[encoded data removed]",
      "text/plain": [
       "<Figure size 720x576 with 1 Axes>"
      ]
     },
     "metadata": {
      "needs_background": "light"
     },
     "output_type": "display_data"
    }
   ],
   "source": [
    "# Box plot to visualize Cluster Id vs Recency\n",
    "\n",
    "sns.boxplot(x='Cluster_Id', y='Recency', data=rfm)"
   ]
  },
  {
   "cell_type": "code",
   "execution_count": 36,
   "id": "6726eb99",
   "metadata": {},
   "outputs": [
    {
     "data": {
      "text/plain": [
       "<AxesSubplot:xlabel='Cluster_Id', ylabel='Frequency'>"
      ]
     },
     "execution_count": 36,
     "metadata": {},
     "output_type": "execute_result"
    },
    {
     "data": {
      "image/png": "[encoded data removed]",
      "text/plain": [
       "<Figure size 720x576 with 1 Axes>"
      ]
     },
     "metadata": {
      "needs_background": "light"
     },
     "output_type": "display_data"
    }
   ],
   "source": [
    "# Box plot to visualize Cluster Id vs Frequency\n",
    "\n",
    "sns.boxplot(x='Cluster_Id', y='Frequency', data=rfm)"
   ]
  },
  {
   "cell_type": "code",
   "execution_count": 37,
   "id": "a88ad457",
   "metadata": {},
   "outputs": [
    {
     "data": {
      "text/plain": [
       "[<matplotlib.lines.Line2D at 0x2120f355fd0>]"
      ]
     },
     "execution_count": 37,
     "metadata": {},
     "output_type": "execute_result"
    },
    {
     "data": {
      "image/png": "[encoded data removed]",
      "text/plain": [
       "<Figure size 720x576 with 1 Axes>"
      ]
     },
     "metadata": {
      "needs_background": "light"
     },
     "output_type": "display_data"
    }
   ],
   "source": [
    "# Elbow-curve/SSD (Sum of Squares Distance)\n",
    "\n",
    "ssd = []\n",
    "range_n_clusters = [2, 3, 4, 5, 6, 7, 8]\n",
    "for num_clusters in range_n_clusters:\n",
    "    kmedoids = KMedoids(n_clusters=num_clusters, max_iter=50, method='pam')\n",
    "    kmedoids.fit(rfm_df_scaled)\n",
    "    \n",
    "    ssd.append(kmedoids.inertia_)\n",
    "    \n",
    "# plot the SSDs for each n_clusters\n",
    "plt.plot(ssd)\n",
    "# y-axis: SSD\n",
    "# x-axis: Number of clusters\n",
    "# Choose a balance point to avoid over-fitting."
   ]
  },
  {
   "cell_type": "code",
   "execution_count": 38,
   "id": "1f85b513",
   "metadata": {},
   "outputs": [
    {
     "name": "stdout",
     "output_type": "stream",
     "text": [
      "For n_clusters=2, the silhouette score is 0.5203913617673406\n",
      "For n_clusters=3, the silhouette score is 0.5250633330932897\n",
      "For n_clusters=4, the silhouette score is 0.443060957404447\n",
      "For n_clusters=5, the silhouette score is 0.4239865934219881\n",
      "For n_clusters=6, the silhouette score is 0.36401681622518356\n",
      "For n_clusters=7, the silhouette score is 0.3711365989889908\n",
      "For n_clusters=8, the silhouette score is 0.3221283698603149\n"
     ]
    }
   ],
   "source": [
    "# Silhouette analysis\n",
    "range_n_clusters = [2, 3, 4, 5, 6, 7, 8]\n",
    "\n",
    "for num_clusters in range_n_clusters:\n",
    "    \n",
    "    # intialise kmeans\n",
    "    kmedoids = KMedoids(n_clusters=num_clusters, max_iter=50, method='pam')\n",
    "    kmedoids.fit(rfm_df_scaled)\n",
    "    \n",
    "    cluster_labels = kmedoids.labels_\n",
    "    \n",
    "    # silhouette score\n",
    "    silhouette_avg = silhouette_score(rfm_df_scaled, cluster_labels)\n",
    "    print(\"For n_clusters={0}, the silhouette score is {1}\".format(num_clusters, silhouette_avg))\n",
    "    \n",
    "# The higher the point, the higher similarities between items within a cluster and \n",
    "# the higher dissimilarites bettwen items in different clusters.\n",
    "# Choose a balance number to avoid over-fitting."
   ]
  },
  {
   "cell_type": "code",
   "execution_count": 39,
   "id": "26f575ca",
   "metadata": {},
   "outputs": [
    {
     "data": {
      "text/plain": [
       "KMedoids(max_iter=50, method='pam', n_clusters=4)"
      ]
     },
     "execution_count": 39,
     "metadata": {},
     "output_type": "execute_result"
    }
   ],
   "source": [
    "# Final model with k=4\n",
    "kmedoids = KMedoids(n_clusters=4, max_iter=50, method='pam')\n",
    "kmedoids.fit(rfm_df_scaled)"
   ]
  },
  {
   "cell_type": "code",
   "execution_count": 40,
   "id": "7fc02a30",
   "metadata": {},
   "outputs": [
    {
     "data": {
      "text/html": [
       "<div>\n",
       "<style scoped>\n",
       "    .dataframe tbody tr th:only-of-type {\n",
       "        vertical-align: middle;\n",
       "    }\n",
       "\n",
       "    .dataframe tbody tr th {\n",
       "        vertical-align: top;\n",
       "    }\n",
       "\n",
       "    .dataframe thead th {\n",
       "        text-align: right;\n",
       "    }\n",
       "</style>\n",
       "<table border=\"1\" class=\"dataframe\">\n",
       "  <thead>\n",
       "    <tr style=\"text-align: right;\">\n",
       "      <th></th>\n",
       "      <th>Customer ID</th>\n",
       "      <th>Amount</th>\n",
       "      <th>Frequency</th>\n",
       "      <th>Recency</th>\n",
       "      <th>Cluster_Id</th>\n",
       "    </tr>\n",
       "  </thead>\n",
       "  <tbody>\n",
       "    <tr>\n",
       "      <th>0</th>\n",
       "      <td>AA-10315</td>\n",
       "      <td>13747.41300</td>\n",
       "      <td>42</td>\n",
       "      <td>8</td>\n",
       "      <td>1</td>\n",
       "    </tr>\n",
       "    <tr>\n",
       "      <th>1</th>\n",
       "      <td>AA-10375</td>\n",
       "      <td>5884.19500</td>\n",
       "      <td>42</td>\n",
       "      <td>6</td>\n",
       "      <td>1</td>\n",
       "    </tr>\n",
       "    <tr>\n",
       "      <th>2</th>\n",
       "      <td>AA-10480</td>\n",
       "      <td>17695.58978</td>\n",
       "      <td>38</td>\n",
       "      <td>125</td>\n",
       "      <td>0</td>\n",
       "    </tr>\n",
       "    <tr>\n",
       "      <th>3</th>\n",
       "      <td>AA-10645</td>\n",
       "      <td>15343.89070</td>\n",
       "      <td>73</td>\n",
       "      <td>28</td>\n",
       "      <td>0</td>\n",
       "    </tr>\n",
       "    <tr>\n",
       "      <th>4</th>\n",
       "      <td>AA-315</td>\n",
       "      <td>2243.25600</td>\n",
       "      <td>8</td>\n",
       "      <td>2</td>\n",
       "      <td>3</td>\n",
       "    </tr>\n",
       "  </tbody>\n",
       "</table>\n",
       "</div>"
      ],
      "text/plain": [
       "  Customer ID       Amount  Frequency  Recency  Cluster_Id\n",
       "0    AA-10315  13747.41300         42        8           1\n",
       "1    AA-10375   5884.19500         42        6           1\n",
       "2    AA-10480  17695.58978         38      125           0\n",
       "3    AA-10645  15343.89070         73       28           0\n",
       "4      AA-315   2243.25600          8        2           3"
      ]
     },
     "execution_count": 40,
     "metadata": {},
     "output_type": "execute_result"
    }
   ],
   "source": [
    "# assign the label\n",
    "rfm['Cluster_Id'] = kmedoids.labels_\n",
    "rfm.head()"
   ]
  },
  {
   "cell_type": "code",
   "execution_count": 41,
   "id": "7130a93e",
   "metadata": {},
   "outputs": [
    {
     "data": {
      "text/plain": [
       "<AxesSubplot:xlabel='Cluster_Id', ylabel='Amount'>"
      ]
     },
     "execution_count": 41,
     "metadata": {},
     "output_type": "execute_result"
    },
    {
     "data": {
      "image/png": "[encoded data removed]",
      "text/plain": [
       "<Figure size 720x576 with 1 Axes>"
      ]
     },
     "metadata": {
      "needs_background": "light"
     },
     "output_type": "display_data"
    }
   ],
   "source": [
    "# Box plot to visualize Cluster Id vs Amount\n",
    "\n",
    "sns.boxplot(x='Cluster_Id', y='Amount', data=rfm)"
   ]
  },
  {
   "cell_type": "code",
   "execution_count": 42,
   "id": "b6af2f3b",
   "metadata": {},
   "outputs": [
    {
     "data": {
      "text/plain": [
       "<AxesSubplot:xlabel='Cluster_Id', ylabel='Recency'>"
      ]
     },
     "execution_count": 42,
     "metadata": {},
     "output_type": "execute_result"
    },
    {
     "data": {
      "image/png": "[encoded data removed]",
      "text/plain": [
       "<Figure size 720x576 with 1 Axes>"
      ]
     },
     "metadata": {
      "needs_background": "light"
     },
     "output_type": "display_data"
    }
   ],
   "source": [
    "# Box plot to visualize Cluster Id vs Recency\n",
    "\n",
    "sns.boxplot(x='Cluster_Id', y='Recency', data=rfm)"
   ]
  },
  {
   "cell_type": "code",
   "execution_count": 44,
   "id": "77a534e4",
   "metadata": {},
   "outputs": [
    {
     "data": {
      "text/plain": [
       "<AxesSubplot:xlabel='Cluster_Id', ylabel='Frequency'>"
      ]
     },
     "execution_count": 44,
     "metadata": {},
     "output_type": "execute_result"
    },
    {
     "data": {
      "image/png": "[encoded data removed]",
      "text/plain": [
       "<Figure size 720x576 with 1 Axes>"
      ]
     },
     "metadata": {
      "needs_background": "light"
     },
     "output_type": "display_data"
    }
   ],
   "source": [
    "# Box plot to visualize Cluster Id vs Frequency\n",
    "\n",
    "sns.boxplot(x='Cluster_Id', y='Frequency', data=rfm)"
   ]
  },
  {
   "cell_type": "markdown",
   "id": "72b57097",
   "metadata": {},
   "source": [
    "# Profit-Sales-ShippingCost"
   ]
  },
  {
   "cell_type": "code",
   "execution_count": 164,
   "id": "cec97811",
   "metadata": {
    "ExecuteTime": {
     "end_time": "2021-12-09T02:45:45.979569Z",
     "start_time": "2021-12-09T02:45:45.463945Z"
    }
   },
   "outputs": [
    {
     "data": {
      "text/html": [
       "<div>\n",
       "<style scoped>\n",
       "    .dataframe tbody tr th:only-of-type {\n",
       "        vertical-align: middle;\n",
       "    }\n",
       "\n",
       "    .dataframe tbody tr th {\n",
       "        vertical-align: top;\n",
       "    }\n",
       "\n",
       "    .dataframe thead th {\n",
       "        text-align: right;\n",
       "    }\n",
       "</style>\n",
       "<table border=\"1\" class=\"dataframe\">\n",
       "  <thead>\n",
       "    <tr style=\"text-align: right;\">\n",
       "      <th></th>\n",
       "      <th>City</th>\n",
       "      <th>Profit</th>\n",
       "    </tr>\n",
       "  </thead>\n",
       "  <tbody>\n",
       "    <tr>\n",
       "      <th>0</th>\n",
       "      <td>Aachen</td>\n",
       "      <td>1116.981</td>\n",
       "    </tr>\n",
       "    <tr>\n",
       "      <th>1</th>\n",
       "      <td>Aalen</td>\n",
       "      <td>283.005</td>\n",
       "    </tr>\n",
       "    <tr>\n",
       "      <th>2</th>\n",
       "      <td>Aalst</td>\n",
       "      <td>152.310</td>\n",
       "    </tr>\n",
       "    <tr>\n",
       "      <th>3</th>\n",
       "      <td>Aba</td>\n",
       "      <td>-1475.556</td>\n",
       "    </tr>\n",
       "    <tr>\n",
       "      <th>4</th>\n",
       "      <td>Abadan</td>\n",
       "      <td>233.820</td>\n",
       "    </tr>\n",
       "  </tbody>\n",
       "</table>\n",
       "</div>"
      ],
      "text/plain": [
       "     City    Profit\n",
       "0  Aachen  1116.981\n",
       "1   Aalen   283.005\n",
       "2   Aalst   152.310\n",
       "3     Aba -1475.556\n",
       "4  Abadan   233.820"
      ]
     },
     "execution_count": 164,
     "metadata": {},
     "output_type": "execute_result"
    }
   ],
   "source": [
    "# Profit column\n",
    "profit_column = orders.groupby('City')['Profit'].sum()\n",
    "profit_column = profit_column.reset_index()\n",
    "profit_column.columns = ['City', 'Profit']\n",
    "profit_column.head()"
   ]
  },
  {
   "cell_type": "code",
   "execution_count": 165,
   "id": "61de1bf9",
   "metadata": {
    "ExecuteTime": {
     "end_time": "2021-12-09T02:45:46.291621Z",
     "start_time": "2021-12-09T02:45:46.174303Z"
    }
   },
   "outputs": [
    {
     "data": {
      "text/html": [
       "<div>\n",
       "<style scoped>\n",
       "    .dataframe tbody tr th:only-of-type {\n",
       "        vertical-align: middle;\n",
       "    }\n",
       "\n",
       "    .dataframe tbody tr th {\n",
       "        vertical-align: top;\n",
       "    }\n",
       "\n",
       "    .dataframe thead th {\n",
       "        text-align: right;\n",
       "    }\n",
       "</style>\n",
       "<table border=\"1\" class=\"dataframe\">\n",
       "  <thead>\n",
       "    <tr style=\"text-align: right;\">\n",
       "      <th></th>\n",
       "      <th>City</th>\n",
       "      <th>Sales</th>\n",
       "    </tr>\n",
       "  </thead>\n",
       "  <tbody>\n",
       "    <tr>\n",
       "      <th>0</th>\n",
       "      <td>Aachen</td>\n",
       "      <td>3803.151</td>\n",
       "    </tr>\n",
       "    <tr>\n",
       "      <th>1</th>\n",
       "      <td>Aalen</td>\n",
       "      <td>979.695</td>\n",
       "    </tr>\n",
       "    <tr>\n",
       "      <th>2</th>\n",
       "      <td>Aalst</td>\n",
       "      <td>387.330</td>\n",
       "    </tr>\n",
       "    <tr>\n",
       "      <th>3</th>\n",
       "      <td>Aba</td>\n",
       "      <td>1064.124</td>\n",
       "    </tr>\n",
       "    <tr>\n",
       "      <th>4</th>\n",
       "      <td>Abadan</td>\n",
       "      <td>1354.950</td>\n",
       "    </tr>\n",
       "  </tbody>\n",
       "</table>\n",
       "</div>"
      ],
      "text/plain": [
       "     City     Sales\n",
       "0  Aachen  3803.151\n",
       "1   Aalen   979.695\n",
       "2   Aalst   387.330\n",
       "3     Aba  1064.124\n",
       "4  Abadan  1354.950"
      ]
     },
     "execution_count": 165,
     "metadata": {},
     "output_type": "execute_result"
    }
   ],
   "source": [
    "# Sales column\n",
    "sales_column = orders.groupby('City')['Sales'].sum()\n",
    "sales_column = sales_column.reset_index()\n",
    "sales_column.columns = ['City', 'Sales']\n",
    "sales_column.head()"
   ]
  },
  {
   "cell_type": "code",
   "execution_count": 166,
   "id": "4dfe69d1",
   "metadata": {
    "ExecuteTime": {
     "end_time": "2021-12-09T02:45:47.580454Z",
     "start_time": "2021-12-09T02:45:47.493206Z"
    }
   },
   "outputs": [
    {
     "data": {
      "text/html": [
       "<div>\n",
       "<style scoped>\n",
       "    .dataframe tbody tr th:only-of-type {\n",
       "        vertical-align: middle;\n",
       "    }\n",
       "\n",
       "    .dataframe tbody tr th {\n",
       "        vertical-align: top;\n",
       "    }\n",
       "\n",
       "    .dataframe thead th {\n",
       "        text-align: right;\n",
       "    }\n",
       "</style>\n",
       "<table border=\"1\" class=\"dataframe\">\n",
       "  <thead>\n",
       "    <tr style=\"text-align: right;\">\n",
       "      <th></th>\n",
       "      <th>City</th>\n",
       "      <th>ShippingCost</th>\n",
       "    </tr>\n",
       "  </thead>\n",
       "  <tbody>\n",
       "    <tr>\n",
       "      <th>0</th>\n",
       "      <td>Aachen</td>\n",
       "      <td>391.28</td>\n",
       "    </tr>\n",
       "    <tr>\n",
       "      <th>1</th>\n",
       "      <td>Aalen</td>\n",
       "      <td>81.97</td>\n",
       "    </tr>\n",
       "    <tr>\n",
       "      <th>2</th>\n",
       "      <td>Aalst</td>\n",
       "      <td>30.19</td>\n",
       "    </tr>\n",
       "    <tr>\n",
       "      <th>3</th>\n",
       "      <td>Aba</td>\n",
       "      <td>122.45</td>\n",
       "    </tr>\n",
       "    <tr>\n",
       "      <th>4</th>\n",
       "      <td>Abadan</td>\n",
       "      <td>116.22</td>\n",
       "    </tr>\n",
       "  </tbody>\n",
       "</table>\n",
       "</div>"
      ],
      "text/plain": [
       "     City  ShippingCost\n",
       "0  Aachen        391.28\n",
       "1   Aalen         81.97\n",
       "2   Aalst         30.19\n",
       "3     Aba        122.45\n",
       "4  Abadan        116.22"
      ]
     },
     "execution_count": 166,
     "metadata": {},
     "output_type": "execute_result"
    }
   ],
   "source": [
    "# Shipping Cost column\n",
    "shippingCost_column = orders.groupby('City')['Shipping Cost'].sum()\n",
    "shippingCost_column = shippingCost_column.reset_index()\n",
    "shippingCost_column.columns = ['City', 'ShippingCost']\n",
    "shippingCost_column.head()"
   ]
  },
  {
   "cell_type": "code",
   "execution_count": 167,
   "id": "67bba791",
   "metadata": {
    "ExecuteTime": {
     "end_time": "2021-12-09T02:45:50.147565Z",
     "start_time": "2021-12-09T02:45:49.650470Z"
    }
   },
   "outputs": [
    {
     "data": {
      "text/html": [
       "<div>\n",
       "<style scoped>\n",
       "    .dataframe tbody tr th:only-of-type {\n",
       "        vertical-align: middle;\n",
       "    }\n",
       "\n",
       "    .dataframe tbody tr th {\n",
       "        vertical-align: top;\n",
       "    }\n",
       "\n",
       "    .dataframe thead th {\n",
       "        text-align: right;\n",
       "    }\n",
       "</style>\n",
       "<table border=\"1\" class=\"dataframe\">\n",
       "  <thead>\n",
       "    <tr style=\"text-align: right;\">\n",
       "      <th></th>\n",
       "      <th>City</th>\n",
       "      <th>Profit</th>\n",
       "      <th>Sales</th>\n",
       "      <th>ShippingCost</th>\n",
       "    </tr>\n",
       "  </thead>\n",
       "  <tbody>\n",
       "    <tr>\n",
       "      <th>0</th>\n",
       "      <td>Aachen</td>\n",
       "      <td>1116.981</td>\n",
       "      <td>3803.151</td>\n",
       "      <td>391.28</td>\n",
       "    </tr>\n",
       "    <tr>\n",
       "      <th>1</th>\n",
       "      <td>Aalen</td>\n",
       "      <td>283.005</td>\n",
       "      <td>979.695</td>\n",
       "      <td>81.97</td>\n",
       "    </tr>\n",
       "    <tr>\n",
       "      <th>2</th>\n",
       "      <td>Aalst</td>\n",
       "      <td>152.310</td>\n",
       "      <td>387.330</td>\n",
       "      <td>30.19</td>\n",
       "    </tr>\n",
       "    <tr>\n",
       "      <th>3</th>\n",
       "      <td>Aba</td>\n",
       "      <td>-1475.556</td>\n",
       "      <td>1064.124</td>\n",
       "      <td>122.45</td>\n",
       "    </tr>\n",
       "    <tr>\n",
       "      <th>4</th>\n",
       "      <td>Abadan</td>\n",
       "      <td>233.820</td>\n",
       "      <td>1354.950</td>\n",
       "      <td>116.22</td>\n",
       "    </tr>\n",
       "  </tbody>\n",
       "</table>\n",
       "</div>"
      ],
      "text/plain": [
       "     City    Profit     Sales  ShippingCost\n",
       "0  Aachen  1116.981  3803.151        391.28\n",
       "1   Aalen   283.005   979.695         81.97\n",
       "2   Aalst   152.310   387.330         30.19\n",
       "3     Aba -1475.556  1064.124        122.45\n",
       "4  Abadan   233.820  1354.950        116.22"
      ]
     },
     "execution_count": 167,
     "metadata": {},
     "output_type": "execute_result"
    }
   ],
   "source": [
    "# Merging dataframes\n",
    "profit_sales = pd.merge(profit_column, sales_column, on='City', how='inner')\n",
    "profit_sales_shippingCost = pd.merge(profit_sales, shippingCost_column, on='City', how='inner')\n",
    "profit_sales_shippingCost.columns = ['City', 'Profit', 'Sales', 'ShippingCost']\n",
    "profit_sales_shippingCost.head()"
   ]
  },
  {
   "cell_type": "code",
   "execution_count": 168,
   "id": "ab016fd9",
   "metadata": {
    "ExecuteTime": {
     "end_time": "2021-12-09T02:45:55.118487Z",
     "start_time": "2021-12-09T02:45:50.513305Z"
    }
   },
   "outputs": [
    {
     "data": {
      "text/plain": [
       "Text(0.5, 0, 'Attributes')"
      ]
     },
     "execution_count": 168,
     "metadata": {},
     "output_type": "execute_result"
    },
    {
     "data": {
      "image/png": "[encoded data removed]",
      "text/plain": [
       "<Figure size 720x576 with 1 Axes>"
      ]
     },
     "metadata": {
      "needs_background": "light"
     },
     "output_type": "display_data"
    }
   ],
   "source": [
    "# Detect outliers\n",
    "\n",
    "attributes = ['Profit','Sales','ShippingCost']\n",
    "plt.rcParams['figure.figsize'] = [10,8]\n",
    "sns.boxplot(data = profit_sales_shippingCost[attributes], orient=\"v\", palette=\"Set2\" ,whis=1.5,saturation=1, width=0.7)\n",
    "plt.title(\"Outliers Variable Distribution\", fontsize = 14, fontweight = 'bold')\n",
    "plt.ylabel(\"Range\", fontweight = 'bold')\n",
    "plt.xlabel(\"Attributes\", fontweight = 'bold')"
   ]
  },
  {
   "cell_type": "code",
   "execution_count": 169,
   "id": "c0557f3b",
   "metadata": {
    "ExecuteTime": {
     "end_time": "2021-12-09T02:46:03.092955Z",
     "start_time": "2021-12-09T02:45:55.121294Z"
    }
   },
   "outputs": [
    {
     "data": {
      "text/plain": [
       "(-15000.0, 15000.0)"
      ]
     },
     "execution_count": 169,
     "metadata": {},
     "output_type": "execute_result"
    },
    {
     "data": {
      "image/png": "[encoded data removed]",
      "text/plain": [
       "<Figure size 360x360 with 1 Axes>"
      ]
     },
     "metadata": {
      "needs_background": "light"
     },
     "output_type": "display_data"
    }
   ],
   "source": [
    "sns.displot(profit_sales_shippingCost['Profit'])\n",
    "plt.ylim(0, 500)\n",
    "plt.xlim(-15000, 15000)"
   ]
  },
  {
   "cell_type": "code",
   "execution_count": 170,
   "id": "a1a74b9e",
   "metadata": {
    "ExecuteTime": {
     "end_time": "2021-12-09T02:46:04.676163Z",
     "start_time": "2021-12-09T02:46:03.094950Z"
    }
   },
   "outputs": [
    {
     "data": {
      "text/plain": [
       "(0.0, 15000.0)"
      ]
     },
     "execution_count": 170,
     "metadata": {},
     "output_type": "execute_result"
    },
    {
     "data": {
      "image/png": "[encoded data removed]",
      "text/plain": [
       "<Figure size 360x360 with 1 Axes>"
      ]
     },
     "metadata": {
      "needs_background": "light"
     },
     "output_type": "display_data"
    }
   ],
   "source": [
    "sns.displot(profit_sales_shippingCost['Sales'])\n",
    "plt.ylim(0, 500)\n",
    "plt.xlim(0, 15000)"
   ]
  },
  {
   "cell_type": "code",
   "execution_count": 171,
   "id": "2ce3f2bd",
   "metadata": {
    "ExecuteTime": {
     "end_time": "2021-12-09T02:46:06.587164Z",
     "start_time": "2021-12-09T02:46:04.678168Z"
    }
   },
   "outputs": [
    {
     "data": {
      "text/plain": [
       "(0.0, 15000.0)"
      ]
     },
     "execution_count": 171,
     "metadata": {},
     "output_type": "execute_result"
    },
    {
     "data": {
      "image/png": "[encoded data removed]",
      "text/plain": [
       "<Figure size 360x360 with 1 Axes>"
      ]
     },
     "metadata": {
      "needs_background": "light"
     },
     "output_type": "display_data"
    }
   ],
   "source": [
    "sns.displot(profit_sales_shippingCost['ShippingCost'])\n",
    "plt.ylim(0, 500)\n",
    "plt.xlim(0, 15000)"
   ]
  },
  {
   "cell_type": "code",
   "execution_count": 172,
   "id": "1761a13e",
   "metadata": {
    "ExecuteTime": {
     "end_time": "2021-12-09T02:46:15.163041Z",
     "start_time": "2021-12-09T02:46:15.127008Z"
    }
   },
   "outputs": [],
   "source": [
    "# Removing (statistical) outliers for Sales\n",
    "Q1 = profit_sales_shippingCost.Sales.quantile(0.25)\n",
    "Q3 = profit_sales_shippingCost.Sales.quantile(0.75)\n",
    "IQR = Q3 - Q1\n",
    "rfm = profit_sales_shippingCost[(profit_sales_shippingCost.Sales >= Q1 - 1.5*IQR) & (profit_sales_shippingCost.Sales <= Q3 + 1.5*IQR)]\n",
    "\n",
    "# Removing (statistical) outliers for Shipping Cost\n",
    "Q1 = profit_sales_shippingCost.ShippingCost.quantile(0.25)\n",
    "Q3 = profit_sales_shippingCost.ShippingCost.quantile(0.75)\n",
    "IQR = Q3 - Q1\n",
    "rfm = profit_sales_shippingCost[(profit_sales_shippingCost.ShippingCost >= Q1 - 1.5*IQR) & (profit_sales_shippingCost.ShippingCost <= Q3 + 1.5*IQR)]"
   ]
  },
  {
   "cell_type": "code",
   "execution_count": 173,
   "id": "c3972c43",
   "metadata": {
    "ExecuteTime": {
     "end_time": "2021-12-09T02:46:18.337394Z",
     "start_time": "2021-12-09T02:46:16.136177Z"
    }
   },
   "outputs": [
    {
     "data": {
      "text/plain": [
       "(-15000.0, 15000.0)"
      ]
     },
     "execution_count": 173,
     "metadata": {},
     "output_type": "execute_result"
    },
    {
     "data": {
      "image/png": "[encoded data removed]",
      "text/plain": [
       "<Figure size 360x360 with 1 Axes>"
      ]
     },
     "metadata": {
      "needs_background": "light"
     },
     "output_type": "display_data"
    }
   ],
   "source": [
    "sns.displot(profit_sales_shippingCost['Profit'])\n",
    "plt.ylim(0, 500)\n",
    "plt.xlim(-15000, 15000)"
   ]
  },
  {
   "cell_type": "code",
   "execution_count": 174,
   "id": "7ed11e19",
   "metadata": {
    "ExecuteTime": {
     "end_time": "2021-12-09T02:46:19.722036Z",
     "start_time": "2021-12-09T02:46:18.344428Z"
    }
   },
   "outputs": [
    {
     "data": {
      "text/plain": [
       "(0.0, 15000.0)"
      ]
     },
     "execution_count": 174,
     "metadata": {},
     "output_type": "execute_result"
    },
    {
     "data": {
      "image/png": "[encoded data removed]",
      "text/plain": [
       "<Figure size 360x360 with 1 Axes>"
      ]
     },
     "metadata": {
      "needs_background": "light"
     },
     "output_type": "display_data"
    }
   ],
   "source": [
    "sns.displot(profit_sales_shippingCost['Sales'])\n",
    "plt.ylim(0, 500)\n",
    "plt.xlim(0, 15000)"
   ]
  },
  {
   "cell_type": "code",
   "execution_count": 175,
   "id": "2b978b09",
   "metadata": {
    "ExecuteTime": {
     "end_time": "2021-12-09T02:46:21.060201Z",
     "start_time": "2021-12-09T02:46:19.724031Z"
    }
   },
   "outputs": [
    {
     "data": {
      "text/plain": [
       "(0.0, 15000.0)"
      ]
     },
     "execution_count": 175,
     "metadata": {},
     "output_type": "execute_result"
    },
    {
     "data": {
      "image/png": "[encoded data removed]",
      "text/plain": [
       "<Figure size 360x360 with 1 Axes>"
      ]
     },
     "metadata": {
      "needs_background": "light"
     },
     "output_type": "display_data"
    }
   ],
   "source": [
    "sns.displot(profit_sales_shippingCost['ShippingCost'])\n",
    "plt.ylim(0, 500)\n",
    "plt.xlim(0, 15000)"
   ]
  },
  {
   "cell_type": "code",
   "execution_count": 176,
   "id": "b308be82",
   "metadata": {
    "ExecuteTime": {
     "end_time": "2021-12-09T02:46:21.106480Z",
     "start_time": "2021-12-09T02:46:21.062197Z"
    }
   },
   "outputs": [
    {
     "data": {
      "text/plain": [
       "(3636, 3)"
      ]
     },
     "execution_count": 176,
     "metadata": {},
     "output_type": "execute_result"
    }
   ],
   "source": [
    "# Rescaling the attributes\n",
    "\n",
    "psc = profit_sales_shippingCost[['Profit', 'Sales', 'ShippingCost']]\n",
    "\n",
    "# Instantiate\n",
    "scaler = MinMaxScaler()\n",
    "\n",
    "# fit_transform\n",
    "psc_scaled = scaler.fit_transform(psc)\n",
    "psc_scaled.shape"
   ]
  },
  {
   "cell_type": "code",
   "execution_count": 177,
   "id": "f88628d9",
   "metadata": {
    "ExecuteTime": {
     "end_time": "2021-12-09T02:46:24.988947Z",
     "start_time": "2021-12-09T02:46:24.967010Z"
    }
   },
   "outputs": [
    {
     "data": {
      "text/html": [
       "<div>\n",
       "<style scoped>\n",
       "    .dataframe tbody tr th:only-of-type {\n",
       "        vertical-align: middle;\n",
       "    }\n",
       "\n",
       "    .dataframe tbody tr th {\n",
       "        vertical-align: top;\n",
       "    }\n",
       "\n",
       "    .dataframe thead th {\n",
       "        text-align: right;\n",
       "    }\n",
       "</style>\n",
       "<table border=\"1\" class=\"dataframe\">\n",
       "  <thead>\n",
       "    <tr style=\"text-align: right;\">\n",
       "      <th></th>\n",
       "      <th>Profit</th>\n",
       "      <th>Sales</th>\n",
       "      <th>ShippingCost</th>\n",
       "    </tr>\n",
       "  </thead>\n",
       "  <tbody>\n",
       "    <tr>\n",
       "      <th>0</th>\n",
       "      <td>0.307408</td>\n",
       "      <td>0.014829</td>\n",
       "      <td>0.014516</td>\n",
       "    </tr>\n",
       "    <tr>\n",
       "      <th>1</th>\n",
       "      <td>0.297927</td>\n",
       "      <td>0.003816</td>\n",
       "      <td>0.003038</td>\n",
       "    </tr>\n",
       "    <tr>\n",
       "      <th>2</th>\n",
       "      <td>0.296441</td>\n",
       "      <td>0.001505</td>\n",
       "      <td>0.001117</td>\n",
       "    </tr>\n",
       "    <tr>\n",
       "      <th>3</th>\n",
       "      <td>0.277934</td>\n",
       "      <td>0.004145</td>\n",
       "      <td>0.004541</td>\n",
       "    </tr>\n",
       "    <tr>\n",
       "      <th>4</th>\n",
       "      <td>0.297368</td>\n",
       "      <td>0.005280</td>\n",
       "      <td>0.004309</td>\n",
       "    </tr>\n",
       "  </tbody>\n",
       "</table>\n",
       "</div>"
      ],
      "text/plain": [
       "     Profit     Sales  ShippingCost\n",
       "0  0.307408  0.014829      0.014516\n",
       "1  0.297927  0.003816      0.003038\n",
       "2  0.296441  0.001505      0.001117\n",
       "3  0.277934  0.004145      0.004541\n",
       "4  0.297368  0.005280      0.004309"
      ]
     },
     "execution_count": 177,
     "metadata": {},
     "output_type": "execute_result"
    }
   ],
   "source": [
    "psc_scaled = pd.DataFrame(psc_scaled)\n",
    "psc_scaled.columns = ['Profit', 'Sales', 'ShippingCost']\n",
    "psc_scaled.head()"
   ]
  },
  {
   "cell_type": "code",
   "execution_count": 179,
   "id": "353ae216",
   "metadata": {
    "ExecuteTime": {
     "end_time": "2021-12-09T02:47:18.954156Z",
     "start_time": "2021-12-09T02:47:16.665031Z"
    }
   },
   "outputs": [
    {
     "data": {
      "text/plain": [
       "Text(0, 0.5, 'Average within Cluster Sum Of Squares')"
      ]
     },
     "execution_count": 179,
     "metadata": {},
     "output_type": "execute_result"
    },
    {
     "data": {
      "image/png": "[encoded data removed]",
      "text/plain": [
       "<Figure size 720x576 with 1 Axes>"
      ]
     },
     "metadata": {
      "needs_background": "light"
     },
     "output_type": "display_data"
    }
   ],
   "source": [
    "# Elbow-curve/SSD\n",
    "\n",
    "ssd = []\n",
    "range_n_clusters = [2, 3, 4, 5, 6, 7, 8]\n",
    "for num_clusters in range_n_clusters:\n",
    "    kmeans = KMeans(n_clusters=num_clusters, max_iter=50, init='random', algorithm='elkan')\n",
    "    kmeans.fit(psc_scaled)\n",
    "    \n",
    "    ssd.append(kmeans.inertia_)\n",
    "    \n",
    "# plot the SSDs for each n_clusters\n",
    "plt.plot(ssd)\n",
    "plt.xlabel('Number of Clusters')\n",
    "plt.ylabel('Average within Cluster Sum Of Squares')\n",
    "# y-axis: SSD\n",
    "# x-axis: Number of clusters\n",
    "# Choose a balance point to avoid over-fitting."
   ]
  },
  {
   "cell_type": "code",
   "execution_count": 180,
   "id": "c1b8bdd0",
   "metadata": {
    "ExecuteTime": {
     "end_time": "2021-12-09T02:47:46.559418Z",
     "start_time": "2021-12-09T02:47:42.684848Z"
    }
   },
   "outputs": [
    {
     "name": "stdout",
     "output_type": "stream",
     "text": [
      "For n_clusters=2, the silhouette score is 0.9303563385577867\n",
      "For n_clusters=3, the silhouette score is 0.8247740621199919\n",
      "For n_clusters=4, the silhouette score is 0.7083841380446546\n",
      "For n_clusters=5, the silhouette score is 0.6275937650989983\n",
      "For n_clusters=6, the silhouette score is 0.6855947899637531\n",
      "For n_clusters=7, the silhouette score is 0.6208916381702443\n",
      "For n_clusters=8, the silhouette score is 0.6003082813233102\n"
     ]
    }
   ],
   "source": [
    "# Silhouette analysis\n",
    "range_n_clusters = [2, 3, 4, 5, 6, 7, 8]\n",
    "\n",
    "for num_clusters in range_n_clusters:\n",
    "    \n",
    "    # intialise kmeans\n",
    "    kmeans = KMeans(n_clusters=num_clusters, max_iter=50, init='random', algorithm='elkan')\n",
    "    kmeans.fit(psc_scaled)\n",
    "    \n",
    "    cluster_labels = kmeans.labels_\n",
    "    \n",
    "    # silhouette score\n",
    "    silhouette_avg = silhouette_score(psc_scaled, cluster_labels)\n",
    "    print(\"For n_clusters={0}, the silhouette score is {1}\".format(num_clusters, silhouette_avg))\n",
    "    \n",
    "# The higher the point, the higher similarities between items within a cluster and \n",
    "# the higher dissimilarites bettwen items in different clusters.\n",
    "# Choose a balance number to avoid over-fitting."
   ]
  },
  {
   "cell_type": "code",
   "execution_count": 200,
   "id": "db06acc9",
   "metadata": {
    "ExecuteTime": {
     "end_time": "2021-12-09T03:08:08.278295Z",
     "start_time": "2021-12-09T03:08:07.615409Z"
    }
   },
   "outputs": [
    {
     "data": {
      "text/plain": [
       "KMeans(algorithm='elkan', init='random', max_iter=50, n_clusters=4)"
      ]
     },
     "execution_count": 200,
     "metadata": {},
     "output_type": "execute_result"
    }
   ],
   "source": [
    "# Final model with k=4\n",
    "kmeans = KMeans(n_clusters=4, max_iter=50, init='random', algorithm='elkan')\n",
    "kmeans.fit(psc_scaled)"
   ]
  },
  {
   "cell_type": "code",
   "execution_count": 201,
   "id": "e9296ed3",
   "metadata": {
    "ExecuteTime": {
     "end_time": "2021-12-09T03:08:09.372621Z",
     "start_time": "2021-12-09T03:08:09.036260Z"
    }
   },
   "outputs": [
    {
     "data": {
      "text/plain": [
       "array([0, 0, 0, ..., 0, 0, 0])"
      ]
     },
     "execution_count": 201,
     "metadata": {},
     "output_type": "execute_result"
    }
   ],
   "source": [
    " kmeans.labels_"
   ]
  },
  {
   "cell_type": "code",
   "execution_count": 202,
   "id": "09c9f19e",
   "metadata": {
    "ExecuteTime": {
     "end_time": "2021-12-09T03:08:09.651858Z",
     "start_time": "2021-12-09T03:08:09.527885Z"
    }
   },
   "outputs": [
    {
     "data": {
      "text/html": [
       "<div>\n",
       "<style scoped>\n",
       "    .dataframe tbody tr th:only-of-type {\n",
       "        vertical-align: middle;\n",
       "    }\n",
       "\n",
       "    .dataframe tbody tr th {\n",
       "        vertical-align: top;\n",
       "    }\n",
       "\n",
       "    .dataframe thead th {\n",
       "        text-align: right;\n",
       "    }\n",
       "</style>\n",
       "<table border=\"1\" class=\"dataframe\">\n",
       "  <thead>\n",
       "    <tr style=\"text-align: right;\">\n",
       "      <th></th>\n",
       "      <th>Profit</th>\n",
       "      <th>Sales</th>\n",
       "      <th>ShippingCost</th>\n",
       "      <th>Cluster_Id</th>\n",
       "    </tr>\n",
       "  </thead>\n",
       "  <tbody>\n",
       "    <tr>\n",
       "      <th>0</th>\n",
       "      <td>1116.981</td>\n",
       "      <td>3803.151</td>\n",
       "      <td>391.28</td>\n",
       "      <td>0</td>\n",
       "    </tr>\n",
       "    <tr>\n",
       "      <th>1</th>\n",
       "      <td>283.005</td>\n",
       "      <td>979.695</td>\n",
       "      <td>81.97</td>\n",
       "      <td>0</td>\n",
       "    </tr>\n",
       "    <tr>\n",
       "      <th>2</th>\n",
       "      <td>152.310</td>\n",
       "      <td>387.330</td>\n",
       "      <td>30.19</td>\n",
       "      <td>0</td>\n",
       "    </tr>\n",
       "    <tr>\n",
       "      <th>3</th>\n",
       "      <td>-1475.556</td>\n",
       "      <td>1064.124</td>\n",
       "      <td>122.45</td>\n",
       "      <td>0</td>\n",
       "    </tr>\n",
       "    <tr>\n",
       "      <th>4</th>\n",
       "      <td>233.820</td>\n",
       "      <td>1354.950</td>\n",
       "      <td>116.22</td>\n",
       "      <td>0</td>\n",
       "    </tr>\n",
       "  </tbody>\n",
       "</table>\n",
       "</div>"
      ],
      "text/plain": [
       "     Profit     Sales  ShippingCost  Cluster_Id\n",
       "0  1116.981  3803.151        391.28           0\n",
       "1   283.005   979.695         81.97           0\n",
       "2   152.310   387.330         30.19           0\n",
       "3 -1475.556  1064.124        122.45           0\n",
       "4   233.820  1354.950        116.22           0"
      ]
     },
     "execution_count": 202,
     "metadata": {},
     "output_type": "execute_result"
    }
   ],
   "source": [
    "# assign the label\n",
    "psc['Cluster_Id'] = kmeans.labels_\n",
    "psc.head()"
   ]
  },
  {
   "cell_type": "code",
   "execution_count": 203,
   "id": "b0082687",
   "metadata": {
    "ExecuteTime": {
     "end_time": "2021-12-09T03:08:10.433434Z",
     "start_time": "2021-12-09T03:08:10.065913Z"
    }
   },
   "outputs": [
    {
     "data": {
      "text/plain": [
       "<AxesSubplot:xlabel='Cluster_Id', ylabel='Profit'>"
      ]
     },
     "execution_count": 203,
     "metadata": {},
     "output_type": "execute_result"
    },
    {
     "data": {
      "image/png": "[encoded data removed]",
      "text/plain": [
       "<Figure size 720x576 with 1 Axes>"
      ]
     },
     "metadata": {
      "needs_background": "light"
     },
     "output_type": "display_data"
    }
   ],
   "source": [
    "# Box plot to visualize Cluster Id vs Profit\n",
    "\n",
    "sns.boxplot(x='Cluster_Id', y='Profit', data=psc)"
   ]
  },
  {
   "cell_type": "code",
   "execution_count": 204,
   "id": "8715a159",
   "metadata": {
    "ExecuteTime": {
     "end_time": "2021-12-09T03:08:15.008630Z",
     "start_time": "2021-12-09T03:08:11.767362Z"
    }
   },
   "outputs": [
    {
     "data": {
      "text/plain": [
       "<AxesSubplot:xlabel='Cluster_Id', ylabel='Sales'>"
      ]
     },
     "execution_count": 204,
     "metadata": {},
     "output_type": "execute_result"
    },
    {
     "data": {
      "image/png": "[encoded data removed]",
      "text/plain": [
       "<Figure size 720x576 with 1 Axes>"
      ]
     },
     "metadata": {
      "needs_background": "light"
     },
     "output_type": "display_data"
    }
   ],
   "source": [
    "# Box plot to visualize Cluster Id vs Sales\n",
    "\n",
    "sns.boxplot(x='Cluster_Id', y='Sales', data=psc)"
   ]
  },
  {
   "cell_type": "code",
   "execution_count": 205,
   "id": "3b38bd0e",
   "metadata": {
    "ExecuteTime": {
     "end_time": "2021-12-09T03:08:15.490453Z",
     "start_time": "2021-12-09T03:08:15.011590Z"
    }
   },
   "outputs": [
    {
     "data": {
      "text/plain": [
       "<AxesSubplot:xlabel='Cluster_Id', ylabel='ShippingCost'>"
      ]
     },
     "execution_count": 205,
     "metadata": {},
     "output_type": "execute_result"
    },
    {
     "data": {
      "image/png": "[encoded data removed]",
      "text/plain": [
       "<Figure size 720x576 with 1 Axes>"
      ]
     },
     "metadata": {
      "needs_background": "light"
     },
     "output_type": "display_data"
    }
   ],
   "source": [
    "# Box plot to visualize Cluster Id vs Shipping Cost\n",
    "\n",
    "sns.boxplot(x='Cluster_Id', y='ShippingCost', data=psc)"
   ]
  },
  {
   "cell_type": "code",
   "execution_count": 199,
   "id": "38c6ffc1",
   "metadata": {
    "ExecuteTime": {
     "end_time": "2021-12-09T02:51:29.529705Z",
     "start_time": "2021-12-09T02:49:07.711389Z"
    }
   },
   "outputs": [
    {
     "data": {
      "text/plain": [
       "Text(0, 0.5, 'Average within Cluster Sum Of Squares')"
      ]
     },
     "execution_count": 199,
     "metadata": {},
     "output_type": "execute_result"
    },
    {
     "data": {
      "image/png": "[encoded data removed]",
      "text/plain": [
       "<Figure size 720x576 with 1 Axes>"
      ]
     },
     "metadata": {
      "needs_background": "light"
     },
     "output_type": "display_data"
    }
   ],
   "source": [
    "# Elbow-curve/SSD\n",
    "\n",
    "ssd = []\n",
    "range_n_clusters = [2, 3, 4, 5, 6, 7, 8]\n",
    "for num_clusters in range_n_clusters:\n",
    "    kmedoids = KMedoids(n_clusters=num_clusters, max_iter=50, method='pam')\n",
    "    kmedoids.fit(psc_scaled)\n",
    "    \n",
    "    ssd.append(kmedoids.inertia_)\n",
    "    \n",
    "# plot the SSDs for each n_clusters\n",
    "plt.plot(ssd)\n",
    "plt.xlabel('Number of Clusters')\n",
    "plt.ylabel('Average within Cluster Sum Of Squares')\n",
    "# y-axis: SSD\n",
    "# x-axis: Number of clusters\n",
    "# Choose a balance point to avoid over-fitting."
   ]
  },
  {
   "cell_type": "code",
   "execution_count": 27,
   "id": "f8c03618",
   "metadata": {
    "ExecuteTime": {
     "end_time": "2021-12-08T19:33:33.110396Z",
     "start_time": "2021-12-08T19:31:04.304760Z"
    }
   },
   "outputs": [
    {
     "name": "stdout",
     "output_type": "stream",
     "text": [
      "For n_clusters=2, the silhouette score is 0.6278010736392924\n",
      "For n_clusters=3, the silhouette score is 0.5926872496150054\n",
      "For n_clusters=4, the silhouette score is 0.4648899175929373\n",
      "For n_clusters=5, the silhouette score is 0.43888416557236487\n",
      "For n_clusters=6, the silhouette score is 0.3431243511722141\n",
      "For n_clusters=7, the silhouette score is 0.3535063035731479\n",
      "For n_clusters=8, the silhouette score is 0.3986867827934289\n"
     ]
    }
   ],
   "source": [
    "# Silhouette analysis\n",
    "range_n_clusters = [2, 3, 4, 5, 6, 7, 8]\n",
    "\n",
    "for num_clusters in range_n_clusters:\n",
    "    \n",
    "    # intialise kmeans\n",
    "    kmedoids = KMedoids(n_clusters=num_clusters, max_iter=50, method='pam')\n",
    "    kmedoids.fit(psc_scaled)\n",
    "    \n",
    "    cluster_labels = kmedoids.labels_\n",
    "    \n",
    "    # silhouette score\n",
    "    silhouette_avg = silhouette_score(psc_scaled, cluster_labels)\n",
    "    print(\"For n_clusters={0}, the silhouette score is {1}\".format(num_clusters, silhouette_avg))\n",
    "    \n",
    "# The higher the point, the higher similarities between items within a cluster and \n",
    "# the higher dissimilarites bettwen items in different clusters.\n",
    "# Choose a balance number to avoid over-fitting."
   ]
  },
  {
   "cell_type": "code",
   "execution_count": 28,
   "id": "a3f0c987",
   "metadata": {
    "ExecuteTime": {
     "end_time": "2021-12-08T19:35:28.371645Z",
     "start_time": "2021-12-08T19:35:21.013542Z"
    }
   },
   "outputs": [
    {
     "data": {
      "text/plain": [
       "KMedoids(init='build', max_iter=50, method='pam', n_clusters=4)"
      ]
     },
     "execution_count": 28,
     "metadata": {},
     "output_type": "execute_result"
    }
   ],
   "source": [
    "# Final model with k=4\n",
    "kmedoids = KMedoids(n_clusters=4, max_iter=50, init='build', method='pam')\n",
    "kmedoids.fit(psc_scaled)"
   ]
  },
  {
   "cell_type": "code",
   "execution_count": 29,
   "id": "5fa5d13a",
   "metadata": {
    "ExecuteTime": {
     "end_time": "2021-12-08T19:35:35.648872Z",
     "start_time": "2021-12-08T19:35:35.627933Z"
    }
   },
   "outputs": [
    {
     "data": {
      "text/html": [
       "<div>\n",
       "<style scoped>\n",
       "    .dataframe tbody tr th:only-of-type {\n",
       "        vertical-align: middle;\n",
       "    }\n",
       "\n",
       "    .dataframe tbody tr th {\n",
       "        vertical-align: top;\n",
       "    }\n",
       "\n",
       "    .dataframe thead th {\n",
       "        text-align: right;\n",
       "    }\n",
       "</style>\n",
       "<table border=\"1\" class=\"dataframe\">\n",
       "  <thead>\n",
       "    <tr style=\"text-align: right;\">\n",
       "      <th></th>\n",
       "      <th>Profit</th>\n",
       "      <th>Sales</th>\n",
       "      <th>ShippingCost</th>\n",
       "      <th>Cluster_Id</th>\n",
       "    </tr>\n",
       "  </thead>\n",
       "  <tbody>\n",
       "    <tr>\n",
       "      <th>0</th>\n",
       "      <td>1116.981</td>\n",
       "      <td>3803.151</td>\n",
       "      <td>391.28</td>\n",
       "      <td>3</td>\n",
       "    </tr>\n",
       "    <tr>\n",
       "      <th>1</th>\n",
       "      <td>283.005</td>\n",
       "      <td>979.695</td>\n",
       "      <td>81.97</td>\n",
       "      <td>0</td>\n",
       "    </tr>\n",
       "    <tr>\n",
       "      <th>2</th>\n",
       "      <td>152.310</td>\n",
       "      <td>387.330</td>\n",
       "      <td>30.19</td>\n",
       "      <td>0</td>\n",
       "    </tr>\n",
       "    <tr>\n",
       "      <th>3</th>\n",
       "      <td>-1475.556</td>\n",
       "      <td>1064.124</td>\n",
       "      <td>122.45</td>\n",
       "      <td>0</td>\n",
       "    </tr>\n",
       "    <tr>\n",
       "      <th>4</th>\n",
       "      <td>233.820</td>\n",
       "      <td>1354.950</td>\n",
       "      <td>116.22</td>\n",
       "      <td>0</td>\n",
       "    </tr>\n",
       "  </tbody>\n",
       "</table>\n",
       "</div>"
      ],
      "text/plain": [
       "     Profit     Sales  ShippingCost  Cluster_Id\n",
       "0  1116.981  3803.151        391.28           3\n",
       "1   283.005   979.695         81.97           0\n",
       "2   152.310   387.330         30.19           0\n",
       "3 -1475.556  1064.124        122.45           0\n",
       "4   233.820  1354.950        116.22           0"
      ]
     },
     "execution_count": 29,
     "metadata": {},
     "output_type": "execute_result"
    }
   ],
   "source": [
    "# assign the label\n",
    "psc['Cluster_Id'] = kmedoids.labels_\n",
    "psc.head()"
   ]
  },
  {
   "cell_type": "code",
   "execution_count": 30,
   "id": "8b6feffe",
   "metadata": {
    "ExecuteTime": {
     "end_time": "2021-12-08T19:35:40.006946Z",
     "start_time": "2021-12-08T19:35:39.850884Z"
    }
   },
   "outputs": [
    {
     "data": {
      "text/plain": [
       "<AxesSubplot:xlabel='Cluster_Id', ylabel='Profit'>"
      ]
     },
     "execution_count": 30,
     "metadata": {},
     "output_type": "execute_result"
    },
    {
     "data": {
      "image/png": "[encoded data removed]",
      "text/plain": [
       "<Figure size 720x576 with 1 Axes>"
      ]
     },
     "metadata": {
      "needs_background": "light"
     },
     "output_type": "display_data"
    }
   ],
   "source": [
    "# Box plot to visualize Cluster Id vs Profit\n",
    "\n",
    "sns.boxplot(x='Cluster_Id', y='Profit', data=psc)"
   ]
  },
  {
   "cell_type": "code",
   "execution_count": 31,
   "id": "75c2b9fc",
   "metadata": {
    "ExecuteTime": {
     "end_time": "2021-12-08T19:35:44.855421Z",
     "start_time": "2021-12-08T19:35:44.698840Z"
    }
   },
   "outputs": [
    {
     "data": {
      "text/plain": [
       "<AxesSubplot:xlabel='Cluster_Id', ylabel='Sales'>"
      ]
     },
     "execution_count": 31,
     "metadata": {},
     "output_type": "execute_result"
    },
    {
     "data": {
      "image/png": "[encoded data removed]",
      "text/plain": [
       "<Figure size 720x576 with 1 Axes>"
      ]
     },
     "metadata": {
      "needs_background": "light"
     },
     "output_type": "display_data"
    }
   ],
   "source": [
    "# Box plot to visualize Cluster Id vs Sales\n",
    "\n",
    "sns.boxplot(x='Cluster_Id', y='Sales', data=psc)"
   ]
  },
  {
   "cell_type": "code",
   "execution_count": 32,
   "id": "92336e70",
   "metadata": {
    "ExecuteTime": {
     "end_time": "2021-12-08T19:35:46.747727Z",
     "start_time": "2021-12-08T19:35:46.557263Z"
    }
   },
   "outputs": [
    {
     "data": {
      "text/plain": [
       "<AxesSubplot:xlabel='Cluster_Id', ylabel='ShippingCost'>"
      ]
     },
     "execution_count": 32,
     "metadata": {},
     "output_type": "execute_result"
    },
    {
     "data": {
      "image/png": "[encoded data removed]",
      "text/plain": [
       "<Figure size 720x576 with 1 Axes>"
      ]
     },
     "metadata": {
      "needs_background": "light"
     },
     "output_type": "display_data"
    }
   ],
   "source": [
    "# Box plot to visualize Cluster Id vs Shipping Cost\n",
    "\n",
    "sns.boxplot(x='Cluster_Id', y='ShippingCost', data=psc)"
   ]
  },
  {
   "cell_type": "code",
   "execution_count": 116,
   "id": "2a350081",
   "metadata": {
    "ExecuteTime": {
     "end_time": "2021-12-08T23:41:22.122399Z",
     "start_time": "2021-12-08T23:41:22.101459Z"
    }
   },
   "outputs": [],
   "source": [
    "psc_0 = psc.loc[(psc['Cluster_Id'] == 2) & (psc['Profit'] > 1000)]"
   ]
  },
  {
   "cell_type": "code",
   "execution_count": 117,
   "id": "ec4498be",
   "metadata": {
    "ExecuteTime": {
     "end_time": "2021-12-08T23:41:23.149077Z",
     "start_time": "2021-12-08T23:41:23.112140Z"
    }
   },
   "outputs": [],
   "source": [
    "psc_0 = psc_0.sort_values(by=['ShippingCost'], ascending=False)"
   ]
  },
  {
   "cell_type": "code",
   "execution_count": 118,
   "id": "18819719",
   "metadata": {
    "ExecuteTime": {
     "end_time": "2021-12-08T23:41:24.324872Z",
     "start_time": "2021-12-08T23:41:24.304893Z"
    }
   },
   "outputs": [
    {
     "data": {
      "text/html": [
       "<div>\n",
       "<style scoped>\n",
       "    .dataframe tbody tr th:only-of-type {\n",
       "        vertical-align: middle;\n",
       "    }\n",
       "\n",
       "    .dataframe tbody tr th {\n",
       "        vertical-align: top;\n",
       "    }\n",
       "\n",
       "    .dataframe thead th {\n",
       "        text-align: right;\n",
       "    }\n",
       "</style>\n",
       "<table border=\"1\" class=\"dataframe\">\n",
       "  <thead>\n",
       "    <tr style=\"text-align: right;\">\n",
       "      <th></th>\n",
       "      <th>Profit</th>\n",
       "      <th>Sales</th>\n",
       "      <th>ShippingCost</th>\n",
       "      <th>Cluster_Id</th>\n",
       "    </tr>\n",
       "  </thead>\n",
       "  <tbody>\n",
       "    <tr>\n",
       "      <th>2936</th>\n",
       "      <td>29156.09670</td>\n",
       "      <td>119540.74200</td>\n",
       "      <td>11581.45</td>\n",
       "      <td>2</td>\n",
       "    </tr>\n",
       "    <tr>\n",
       "      <th>3107</th>\n",
       "      <td>16002.80700</td>\n",
       "      <td>101945.51700</td>\n",
       "      <td>11183.66</td>\n",
       "      <td>2</td>\n",
       "    </tr>\n",
       "    <tr>\n",
       "      <th>2843</th>\n",
       "      <td>17507.38540</td>\n",
       "      <td>112669.09200</td>\n",
       "      <td>10753.24</td>\n",
       "      <td>2</td>\n",
       "    </tr>\n",
       "    <tr>\n",
       "      <th>1508</th>\n",
       "      <td>3826.98420</td>\n",
       "      <td>94321.32420</td>\n",
       "      <td>10735.47</td>\n",
       "      <td>2</td>\n",
       "    </tr>\n",
       "    <tr>\n",
       "      <th>1895</th>\n",
       "      <td>17378.71500</td>\n",
       "      <td>86945.80500</td>\n",
       "      <td>9890.22</td>\n",
       "      <td>2</td>\n",
       "    </tr>\n",
       "    <tr>\n",
       "      <th>1989</th>\n",
       "      <td>17853.71804</td>\n",
       "      <td>83707.49804</td>\n",
       "      <td>9393.94</td>\n",
       "      <td>2</td>\n",
       "    </tr>\n",
       "    <tr>\n",
       "      <th>2106</th>\n",
       "      <td>13342.29176</td>\n",
       "      <td>85728.55176</td>\n",
       "      <td>8860.27</td>\n",
       "      <td>2</td>\n",
       "    </tr>\n",
       "    <tr>\n",
       "      <th>1202</th>\n",
       "      <td>4453.78200</td>\n",
       "      <td>72626.92200</td>\n",
       "      <td>8824.94</td>\n",
       "      <td>2</td>\n",
       "    </tr>\n",
       "    <tr>\n",
       "      <th>497</th>\n",
       "      <td>10526.29500</td>\n",
       "      <td>75729.01500</td>\n",
       "      <td>8405.25</td>\n",
       "      <td>2</td>\n",
       "    </tr>\n",
       "    <tr>\n",
       "      <th>2082</th>\n",
       "      <td>11304.09960</td>\n",
       "      <td>73939.16400</td>\n",
       "      <td>7558.13</td>\n",
       "      <td>2</td>\n",
       "    </tr>\n",
       "    <tr>\n",
       "      <th>26</th>\n",
       "      <td>8495.53200</td>\n",
       "      <td>57896.71200</td>\n",
       "      <td>7351.59</td>\n",
       "      <td>2</td>\n",
       "    </tr>\n",
       "    <tr>\n",
       "      <th>2445</th>\n",
       "      <td>10327.43700</td>\n",
       "      <td>63315.86700</td>\n",
       "      <td>7155.86</td>\n",
       "      <td>2</td>\n",
       "    </tr>\n",
       "    <tr>\n",
       "      <th>3391</th>\n",
       "      <td>15660.84000</td>\n",
       "      <td>62023.53000</td>\n",
       "      <td>7093.83</td>\n",
       "      <td>2</td>\n",
       "    </tr>\n",
       "    <tr>\n",
       "      <th>2484</th>\n",
       "      <td>8633.50200</td>\n",
       "      <td>64292.20200</td>\n",
       "      <td>6858.28</td>\n",
       "      <td>2</td>\n",
       "    </tr>\n",
       "    <tr>\n",
       "      <th>375</th>\n",
       "      <td>6872.12850</td>\n",
       "      <td>61917.89850</td>\n",
       "      <td>6628.87</td>\n",
       "      <td>2</td>\n",
       "    </tr>\n",
       "    <tr>\n",
       "      <th>2870</th>\n",
       "      <td>15036.51040</td>\n",
       "      <td>57699.39040</td>\n",
       "      <td>5623.04</td>\n",
       "      <td>2</td>\n",
       "    </tr>\n",
       "    <tr>\n",
       "      <th>1959</th>\n",
       "      <td>12382.76100</td>\n",
       "      <td>51386.03100</td>\n",
       "      <td>5441.87</td>\n",
       "      <td>2</td>\n",
       "    </tr>\n",
       "    <tr>\n",
       "      <th>2292</th>\n",
       "      <td>8208.02400</td>\n",
       "      <td>48461.99400</td>\n",
       "      <td>5335.65</td>\n",
       "      <td>2</td>\n",
       "    </tr>\n",
       "    <tr>\n",
       "      <th>2138</th>\n",
       "      <td>10301.94956</td>\n",
       "      <td>47898.40956</td>\n",
       "      <td>5305.68</td>\n",
       "      <td>2</td>\n",
       "    </tr>\n",
       "    <tr>\n",
       "      <th>1666</th>\n",
       "      <td>9976.26000</td>\n",
       "      <td>42536.52000</td>\n",
       "      <td>4856.78</td>\n",
       "      <td>2</td>\n",
       "    </tr>\n",
       "    <tr>\n",
       "      <th>2840</th>\n",
       "      <td>6377.19600</td>\n",
       "      <td>47521.02900</td>\n",
       "      <td>4817.67</td>\n",
       "      <td>2</td>\n",
       "    </tr>\n",
       "    <tr>\n",
       "      <th>3518</th>\n",
       "      <td>6904.51500</td>\n",
       "      <td>42247.18500</td>\n",
       "      <td>4659.13</td>\n",
       "      <td>2</td>\n",
       "    </tr>\n",
       "    <tr>\n",
       "      <th>912</th>\n",
       "      <td>10297.48000</td>\n",
       "      <td>41425.95000</td>\n",
       "      <td>4626.84</td>\n",
       "      <td>2</td>\n",
       "    </tr>\n",
       "    <tr>\n",
       "      <th>1314</th>\n",
       "      <td>10379.37300</td>\n",
       "      <td>40430.22300</td>\n",
       "      <td>4525.88</td>\n",
       "      <td>2</td>\n",
       "    </tr>\n",
       "    <tr>\n",
       "      <th>904</th>\n",
       "      <td>13181.79080</td>\n",
       "      <td>42446.94400</td>\n",
       "      <td>4417.31</td>\n",
       "      <td>2</td>\n",
       "    </tr>\n",
       "    <tr>\n",
       "      <th>3003</th>\n",
       "      <td>8853.06000</td>\n",
       "      <td>40286.25000</td>\n",
       "      <td>4352.89</td>\n",
       "      <td>2</td>\n",
       "    </tr>\n",
       "    <tr>\n",
       "      <th>554</th>\n",
       "      <td>8528.10000</td>\n",
       "      <td>38439.78000</td>\n",
       "      <td>4171.78</td>\n",
       "      <td>2</td>\n",
       "    </tr>\n",
       "    <tr>\n",
       "      <th>772</th>\n",
       "      <td>5897.10130</td>\n",
       "      <td>38706.24300</td>\n",
       "      <td>4124.40</td>\n",
       "      <td>2</td>\n",
       "    </tr>\n",
       "    <tr>\n",
       "      <th>1842</th>\n",
       "      <td>8011.59016</td>\n",
       "      <td>36489.43016</td>\n",
       "      <td>4079.98</td>\n",
       "      <td>2</td>\n",
       "    </tr>\n",
       "    <tr>\n",
       "      <th>3116</th>\n",
       "      <td>9411.44548</td>\n",
       "      <td>38965.56548</td>\n",
       "      <td>4074.64</td>\n",
       "      <td>2</td>\n",
       "    </tr>\n",
       "    <tr>\n",
       "      <th>291</th>\n",
       "      <td>2696.93500</td>\n",
       "      <td>33484.99500</td>\n",
       "      <td>3949.48</td>\n",
       "      <td>2</td>\n",
       "    </tr>\n",
       "    <tr>\n",
       "      <th>2958</th>\n",
       "      <td>8533.63200</td>\n",
       "      <td>31275.79200</td>\n",
       "      <td>3948.71</td>\n",
       "      <td>2</td>\n",
       "    </tr>\n",
       "    <tr>\n",
       "      <th>3054</th>\n",
       "      <td>6200.69740</td>\n",
       "      <td>43054.34200</td>\n",
       "      <td>3932.53</td>\n",
       "      <td>2</td>\n",
       "    </tr>\n",
       "    <tr>\n",
       "      <th>613</th>\n",
       "      <td>6872.40000</td>\n",
       "      <td>29797.77000</td>\n",
       "      <td>3681.77</td>\n",
       "      <td>2</td>\n",
       "    </tr>\n",
       "    <tr>\n",
       "      <th>3047</th>\n",
       "      <td>7611.18892</td>\n",
       "      <td>32231.40892</td>\n",
       "      <td>3512.91</td>\n",
       "      <td>2</td>\n",
       "    </tr>\n",
       "    <tr>\n",
       "      <th>2035</th>\n",
       "      <td>4507.29600</td>\n",
       "      <td>31048.20600</td>\n",
       "      <td>3345.41</td>\n",
       "      <td>2</td>\n",
       "    </tr>\n",
       "    <tr>\n",
       "      <th>2717</th>\n",
       "      <td>8689.14000</td>\n",
       "      <td>33035.25000</td>\n",
       "      <td>3227.77</td>\n",
       "      <td>2</td>\n",
       "    </tr>\n",
       "    <tr>\n",
       "      <th>2604</th>\n",
       "      <td>4361.90820</td>\n",
       "      <td>26882.30820</td>\n",
       "      <td>3224.46</td>\n",
       "      <td>2</td>\n",
       "    </tr>\n",
       "    <tr>\n",
       "      <th>3104</th>\n",
       "      <td>5311.08000</td>\n",
       "      <td>22499.43000</td>\n",
       "      <td>3204.78</td>\n",
       "      <td>2</td>\n",
       "    </tr>\n",
       "    <tr>\n",
       "      <th>888</th>\n",
       "      <td>5565.90000</td>\n",
       "      <td>31014.63000</td>\n",
       "      <td>3109.03</td>\n",
       "      <td>2</td>\n",
       "    </tr>\n",
       "    <tr>\n",
       "      <th>70</th>\n",
       "      <td>4909.78830</td>\n",
       "      <td>25418.96000</td>\n",
       "      <td>3048.01</td>\n",
       "      <td>2</td>\n",
       "    </tr>\n",
       "    <tr>\n",
       "      <th>337</th>\n",
       "      <td>4080.25500</td>\n",
       "      <td>31633.33500</td>\n",
       "      <td>2895.03</td>\n",
       "      <td>2</td>\n",
       "    </tr>\n",
       "    <tr>\n",
       "      <th>857</th>\n",
       "      <td>5630.85000</td>\n",
       "      <td>22274.67000</td>\n",
       "      <td>2893.12</td>\n",
       "      <td>2</td>\n",
       "    </tr>\n",
       "    <tr>\n",
       "      <th>248</th>\n",
       "      <td>7363.92000</td>\n",
       "      <td>28867.62000</td>\n",
       "      <td>2792.83</td>\n",
       "      <td>2</td>\n",
       "    </tr>\n",
       "    <tr>\n",
       "      <th>2903</th>\n",
       "      <td>5856.72112</td>\n",
       "      <td>24530.24112</td>\n",
       "      <td>2760.87</td>\n",
       "      <td>2</td>\n",
       "    </tr>\n",
       "    <tr>\n",
       "      <th>1572</th>\n",
       "      <td>5138.92000</td>\n",
       "      <td>24681.18000</td>\n",
       "      <td>2754.02</td>\n",
       "      <td>2</td>\n",
       "    </tr>\n",
       "    <tr>\n",
       "      <th>1557</th>\n",
       "      <td>4838.13000</td>\n",
       "      <td>23254.89000</td>\n",
       "      <td>2688.76</td>\n",
       "      <td>2</td>\n",
       "    </tr>\n",
       "    <tr>\n",
       "      <th>2291</th>\n",
       "      <td>5793.75880</td>\n",
       "      <td>28576.11900</td>\n",
       "      <td>2639.04</td>\n",
       "      <td>2</td>\n",
       "    </tr>\n",
       "    <tr>\n",
       "      <th>771</th>\n",
       "      <td>5606.11670</td>\n",
       "      <td>25283.32400</td>\n",
       "      <td>2481.48</td>\n",
       "      <td>2</td>\n",
       "    </tr>\n",
       "  </tbody>\n",
       "</table>\n",
       "</div>"
      ],
      "text/plain": [
       "           Profit         Sales  ShippingCost  Cluster_Id\n",
       "2936  29156.09670  119540.74200      11581.45           2\n",
       "3107  16002.80700  101945.51700      11183.66           2\n",
       "2843  17507.38540  112669.09200      10753.24           2\n",
       "1508   3826.98420   94321.32420      10735.47           2\n",
       "1895  17378.71500   86945.80500       9890.22           2\n",
       "1989  17853.71804   83707.49804       9393.94           2\n",
       "2106  13342.29176   85728.55176       8860.27           2\n",
       "1202   4453.78200   72626.92200       8824.94           2\n",
       "497   10526.29500   75729.01500       8405.25           2\n",
       "2082  11304.09960   73939.16400       7558.13           2\n",
       "26     8495.53200   57896.71200       7351.59           2\n",
       "2445  10327.43700   63315.86700       7155.86           2\n",
       "3391  15660.84000   62023.53000       7093.83           2\n",
       "2484   8633.50200   64292.20200       6858.28           2\n",
       "375    6872.12850   61917.89850       6628.87           2\n",
       "2870  15036.51040   57699.39040       5623.04           2\n",
       "1959  12382.76100   51386.03100       5441.87           2\n",
       "2292   8208.02400   48461.99400       5335.65           2\n",
       "2138  10301.94956   47898.40956       5305.68           2\n",
       "1666   9976.26000   42536.52000       4856.78           2\n",
       "2840   6377.19600   47521.02900       4817.67           2\n",
       "3518   6904.51500   42247.18500       4659.13           2\n",
       "912   10297.48000   41425.95000       4626.84           2\n",
       "1314  10379.37300   40430.22300       4525.88           2\n",
       "904   13181.79080   42446.94400       4417.31           2\n",
       "3003   8853.06000   40286.25000       4352.89           2\n",
       "554    8528.10000   38439.78000       4171.78           2\n",
       "772    5897.10130   38706.24300       4124.40           2\n",
       "1842   8011.59016   36489.43016       4079.98           2\n",
       "3116   9411.44548   38965.56548       4074.64           2\n",
       "291    2696.93500   33484.99500       3949.48           2\n",
       "2958   8533.63200   31275.79200       3948.71           2\n",
       "3054   6200.69740   43054.34200       3932.53           2\n",
       "613    6872.40000   29797.77000       3681.77           2\n",
       "3047   7611.18892   32231.40892       3512.91           2\n",
       "2035   4507.29600   31048.20600       3345.41           2\n",
       "2717   8689.14000   33035.25000       3227.77           2\n",
       "2604   4361.90820   26882.30820       3224.46           2\n",
       "3104   5311.08000   22499.43000       3204.78           2\n",
       "888    5565.90000   31014.63000       3109.03           2\n",
       "70     4909.78830   25418.96000       3048.01           2\n",
       "337    4080.25500   31633.33500       2895.03           2\n",
       "857    5630.85000   22274.67000       2893.12           2\n",
       "248    7363.92000   28867.62000       2792.83           2\n",
       "2903   5856.72112   24530.24112       2760.87           2\n",
       "1572   5138.92000   24681.18000       2754.02           2\n",
       "1557   4838.13000   23254.89000       2688.76           2\n",
       "2291   5793.75880   28576.11900       2639.04           2\n",
       "771    5606.11670   25283.32400       2481.48           2"
      ]
     },
     "execution_count": 118,
     "metadata": {},
     "output_type": "execute_result"
    }
   ],
   "source": [
    "psc_0"
   ]
  },
  {
   "cell_type": "code",
   "execution_count": 138,
   "id": "f428d930",
   "metadata": {
    "ExecuteTime": {
     "end_time": "2021-12-08T23:51:47.140605Z",
     "start_time": "2021-12-08T23:51:47.124648Z"
    }
   },
   "outputs": [],
   "source": [
    "high_orders = profit_sales_shippingCost[profit_sales_shippingCost.index.isin(psc_0.index)].sort_values(by=['ShippingCost'], ascending=False)"
   ]
  },
  {
   "cell_type": "code",
   "execution_count": 139,
   "id": "d82fa7a6",
   "metadata": {
    "ExecuteTime": {
     "end_time": "2021-12-08T23:52:06.409184Z",
     "start_time": "2021-12-08T23:52:06.204185Z"
    }
   },
   "outputs": [
    {
     "data": {
      "text/html": [
       "<div>\n",
       "<style scoped>\n",
       "    .dataframe tbody tr th:only-of-type {\n",
       "        vertical-align: middle;\n",
       "    }\n",
       "\n",
       "    .dataframe tbody tr th {\n",
       "        vertical-align: top;\n",
       "    }\n",
       "\n",
       "    .dataframe thead th {\n",
       "        text-align: right;\n",
       "    }\n",
       "</style>\n",
       "<table border=\"1\" class=\"dataframe\">\n",
       "  <thead>\n",
       "    <tr style=\"text-align: right;\">\n",
       "      <th></th>\n",
       "      <th>City</th>\n",
       "      <th>Profit</th>\n",
       "      <th>Sales</th>\n",
       "      <th>ShippingCost</th>\n",
       "    </tr>\n",
       "  </thead>\n",
       "  <tbody>\n",
       "    <tr>\n",
       "      <th>2936</th>\n",
       "      <td>Seattle</td>\n",
       "      <td>29156.09670</td>\n",
       "      <td>119540.74200</td>\n",
       "      <td>11581.45</td>\n",
       "    </tr>\n",
       "    <tr>\n",
       "      <th>3107</th>\n",
       "      <td>Sydney</td>\n",
       "      <td>16002.80700</td>\n",
       "      <td>101945.51700</td>\n",
       "      <td>11183.66</td>\n",
       "    </tr>\n",
       "    <tr>\n",
       "      <th>2843</th>\n",
       "      <td>San Francisco</td>\n",
       "      <td>17507.38540</td>\n",
       "      <td>112669.09200</td>\n",
       "      <td>10753.24</td>\n",
       "    </tr>\n",
       "    <tr>\n",
       "      <th>1508</th>\n",
       "      <td>Jakarta</td>\n",
       "      <td>3826.98420</td>\n",
       "      <td>94321.32420</td>\n",
       "      <td>10735.47</td>\n",
       "    </tr>\n",
       "    <tr>\n",
       "      <th>1895</th>\n",
       "      <td>London</td>\n",
       "      <td>17378.71500</td>\n",
       "      <td>86945.80500</td>\n",
       "      <td>9890.22</td>\n",
       "    </tr>\n",
       "    <tr>\n",
       "      <th>1989</th>\n",
       "      <td>Managua</td>\n",
       "      <td>17853.71804</td>\n",
       "      <td>83707.49804</td>\n",
       "      <td>9393.94</td>\n",
       "    </tr>\n",
       "    <tr>\n",
       "      <th>2106</th>\n",
       "      <td>Mexico City</td>\n",
       "      <td>13342.29176</td>\n",
       "      <td>85728.55176</td>\n",
       "      <td>8860.27</td>\n",
       "    </tr>\n",
       "    <tr>\n",
       "      <th>1202</th>\n",
       "      <td>Gold Coast</td>\n",
       "      <td>4453.78200</td>\n",
       "      <td>72626.92200</td>\n",
       "      <td>8824.94</td>\n",
       "    </tr>\n",
       "    <tr>\n",
       "      <th>497</th>\n",
       "      <td>Brisbane</td>\n",
       "      <td>10526.29500</td>\n",
       "      <td>75729.01500</td>\n",
       "      <td>8405.25</td>\n",
       "    </tr>\n",
       "    <tr>\n",
       "      <th>2082</th>\n",
       "      <td>Melbourne</td>\n",
       "      <td>11304.09960</td>\n",
       "      <td>73939.16400</td>\n",
       "      <td>7558.13</td>\n",
       "    </tr>\n",
       "    <tr>\n",
       "      <th>26</th>\n",
       "      <td>Adelaide</td>\n",
       "      <td>8495.53200</td>\n",
       "      <td>57896.71200</td>\n",
       "      <td>7351.59</td>\n",
       "    </tr>\n",
       "    <tr>\n",
       "      <th>2445</th>\n",
       "      <td>Paris</td>\n",
       "      <td>10327.43700</td>\n",
       "      <td>63315.86700</td>\n",
       "      <td>7155.86</td>\n",
       "    </tr>\n",
       "    <tr>\n",
       "      <th>3391</th>\n",
       "      <td>Vienna</td>\n",
       "      <td>15660.84000</td>\n",
       "      <td>62023.53000</td>\n",
       "      <td>7093.83</td>\n",
       "    </tr>\n",
       "    <tr>\n",
       "      <th>2484</th>\n",
       "      <td>Perth</td>\n",
       "      <td>8633.50200</td>\n",
       "      <td>64292.20200</td>\n",
       "      <td>6858.28</td>\n",
       "    </tr>\n",
       "    <tr>\n",
       "      <th>375</th>\n",
       "      <td>Berlin</td>\n",
       "      <td>6872.12850</td>\n",
       "      <td>61917.89850</td>\n",
       "      <td>6628.87</td>\n",
       "    </tr>\n",
       "    <tr>\n",
       "      <th>2870</th>\n",
       "      <td>San Salvador</td>\n",
       "      <td>15036.51040</td>\n",
       "      <td>57699.39040</td>\n",
       "      <td>5623.04</td>\n",
       "    </tr>\n",
       "    <tr>\n",
       "      <th>1959</th>\n",
       "      <td>Madrid</td>\n",
       "      <td>12382.76100</td>\n",
       "      <td>51386.03100</td>\n",
       "      <td>5441.87</td>\n",
       "    </tr>\n",
       "    <tr>\n",
       "      <th>2292</th>\n",
       "      <td>Newcastle</td>\n",
       "      <td>8208.02400</td>\n",
       "      <td>48461.99400</td>\n",
       "      <td>5335.65</td>\n",
       "    </tr>\n",
       "    <tr>\n",
       "      <th>2138</th>\n",
       "      <td>Mixco</td>\n",
       "      <td>10301.94956</td>\n",
       "      <td>47898.40956</td>\n",
       "      <td>5305.68</td>\n",
       "    </tr>\n",
       "    <tr>\n",
       "      <th>1666</th>\n",
       "      <td>Kinshasa</td>\n",
       "      <td>9976.26000</td>\n",
       "      <td>42536.52000</td>\n",
       "      <td>4856.78</td>\n",
       "    </tr>\n",
       "    <tr>\n",
       "      <th>2840</th>\n",
       "      <td>San Diego</td>\n",
       "      <td>6377.19600</td>\n",
       "      <td>47521.02900</td>\n",
       "      <td>4817.67</td>\n",
       "    </tr>\n",
       "    <tr>\n",
       "      <th>3518</th>\n",
       "      <td>Wollongong</td>\n",
       "      <td>6904.51500</td>\n",
       "      <td>42247.18500</td>\n",
       "      <td>4659.13</td>\n",
       "    </tr>\n",
       "    <tr>\n",
       "      <th>912</th>\n",
       "      <td>Dhaka</td>\n",
       "      <td>10297.48000</td>\n",
       "      <td>41425.95000</td>\n",
       "      <td>4626.84</td>\n",
       "    </tr>\n",
       "    <tr>\n",
       "      <th>1314</th>\n",
       "      <td>Hamburg</td>\n",
       "      <td>10379.37300</td>\n",
       "      <td>40430.22300</td>\n",
       "      <td>4525.88</td>\n",
       "    </tr>\n",
       "    <tr>\n",
       "      <th>904</th>\n",
       "      <td>Detroit</td>\n",
       "      <td>13181.79080</td>\n",
       "      <td>42446.94400</td>\n",
       "      <td>4417.31</td>\n",
       "    </tr>\n",
       "    <tr>\n",
       "      <th>3003</th>\n",
       "      <td>Singapore</td>\n",
       "      <td>8853.06000</td>\n",
       "      <td>40286.25000</td>\n",
       "      <td>4352.89</td>\n",
       "    </tr>\n",
       "    <tr>\n",
       "      <th>554</th>\n",
       "      <td>Cairo</td>\n",
       "      <td>8528.10000</td>\n",
       "      <td>38439.78000</td>\n",
       "      <td>4171.78</td>\n",
       "    </tr>\n",
       "    <tr>\n",
       "      <th>772</th>\n",
       "      <td>Columbus</td>\n",
       "      <td>5897.10130</td>\n",
       "      <td>38706.24300</td>\n",
       "      <td>4124.40</td>\n",
       "    </tr>\n",
       "    <tr>\n",
       "      <th>1842</th>\n",
       "      <td>León</td>\n",
       "      <td>8011.59016</td>\n",
       "      <td>36489.43016</td>\n",
       "      <td>4079.98</td>\n",
       "    </tr>\n",
       "    <tr>\n",
       "      <th>3116</th>\n",
       "      <td>São Paulo</td>\n",
       "      <td>9411.44548</td>\n",
       "      <td>38965.56548</td>\n",
       "      <td>4074.64</td>\n",
       "    </tr>\n",
       "    <tr>\n",
       "      <th>291</th>\n",
       "      <td>Barcelona</td>\n",
       "      <td>2696.93500</td>\n",
       "      <td>33484.99500</td>\n",
       "      <td>3949.48</td>\n",
       "    </tr>\n",
       "    <tr>\n",
       "      <th>2958</th>\n",
       "      <td>Shanghai</td>\n",
       "      <td>8533.63200</td>\n",
       "      <td>31275.79200</td>\n",
       "      <td>3948.71</td>\n",
       "    </tr>\n",
       "    <tr>\n",
       "      <th>3054</th>\n",
       "      <td>Springfield</td>\n",
       "      <td>6200.69740</td>\n",
       "      <td>43054.34200</td>\n",
       "      <td>3932.53</td>\n",
       "    </tr>\n",
       "    <tr>\n",
       "      <th>613</th>\n",
       "      <td>Casablanca</td>\n",
       "      <td>6872.40000</td>\n",
       "      <td>29797.77000</td>\n",
       "      <td>3681.77</td>\n",
       "    </tr>\n",
       "    <tr>\n",
       "      <th>3047</th>\n",
       "      <td>Soyapango</td>\n",
       "      <td>7611.18892</td>\n",
       "      <td>32231.40892</td>\n",
       "      <td>3512.91</td>\n",
       "    </tr>\n",
       "    <tr>\n",
       "      <th>2035</th>\n",
       "      <td>Marseille</td>\n",
       "      <td>4507.29600</td>\n",
       "      <td>31048.20600</td>\n",
       "      <td>3345.41</td>\n",
       "    </tr>\n",
       "    <tr>\n",
       "      <th>2717</th>\n",
       "      <td>Riyadh</td>\n",
       "      <td>8689.14000</td>\n",
       "      <td>33035.25000</td>\n",
       "      <td>3227.77</td>\n",
       "    </tr>\n",
       "    <tr>\n",
       "      <th>2604</th>\n",
       "      <td>Puebla</td>\n",
       "      <td>4361.90820</td>\n",
       "      <td>26882.30820</td>\n",
       "      <td>3224.46</td>\n",
       "    </tr>\n",
       "    <tr>\n",
       "      <th>3104</th>\n",
       "      <td>Suzhou</td>\n",
       "      <td>5311.08000</td>\n",
       "      <td>22499.43000</td>\n",
       "      <td>3204.78</td>\n",
       "    </tr>\n",
       "    <tr>\n",
       "      <th>888</th>\n",
       "      <td>Delhi</td>\n",
       "      <td>5565.90000</td>\n",
       "      <td>31014.63000</td>\n",
       "      <td>3109.03</td>\n",
       "    </tr>\n",
       "    <tr>\n",
       "      <th>70</th>\n",
       "      <td>Alexandria</td>\n",
       "      <td>4909.78830</td>\n",
       "      <td>25418.96000</td>\n",
       "      <td>3048.01</td>\n",
       "    </tr>\n",
       "    <tr>\n",
       "      <th>337</th>\n",
       "      <td>Beijing</td>\n",
       "      <td>4080.25500</td>\n",
       "      <td>31633.33500</td>\n",
       "      <td>2895.03</td>\n",
       "    </tr>\n",
       "    <tr>\n",
       "      <th>857</th>\n",
       "      <td>Dakar</td>\n",
       "      <td>5630.85000</td>\n",
       "      <td>22274.67000</td>\n",
       "      <td>2893.12</td>\n",
       "    </tr>\n",
       "    <tr>\n",
       "      <th>248</th>\n",
       "      <td>Baghdad</td>\n",
       "      <td>7363.92000</td>\n",
       "      <td>28867.62000</td>\n",
       "      <td>2792.83</td>\n",
       "    </tr>\n",
       "    <tr>\n",
       "      <th>2903</th>\n",
       "      <td>Santiago de Cuba</td>\n",
       "      <td>5856.72112</td>\n",
       "      <td>24530.24112</td>\n",
       "      <td>2760.87</td>\n",
       "    </tr>\n",
       "    <tr>\n",
       "      <th>1572</th>\n",
       "      <td>Juárez</td>\n",
       "      <td>5138.92000</td>\n",
       "      <td>24681.18000</td>\n",
       "      <td>2754.02</td>\n",
       "    </tr>\n",
       "    <tr>\n",
       "      <th>1557</th>\n",
       "      <td>Johannesburg</td>\n",
       "      <td>4838.13000</td>\n",
       "      <td>23254.89000</td>\n",
       "      <td>2688.76</td>\n",
       "    </tr>\n",
       "    <tr>\n",
       "      <th>2291</th>\n",
       "      <td>Newark</td>\n",
       "      <td>5793.75880</td>\n",
       "      <td>28576.11900</td>\n",
       "      <td>2639.04</td>\n",
       "    </tr>\n",
       "    <tr>\n",
       "      <th>771</th>\n",
       "      <td>Columbia</td>\n",
       "      <td>5606.11670</td>\n",
       "      <td>25283.32400</td>\n",
       "      <td>2481.48</td>\n",
       "    </tr>\n",
       "  </tbody>\n",
       "</table>\n",
       "</div>"
      ],
      "text/plain": [
       "                  City       Profit         Sales  ShippingCost\n",
       "2936           Seattle  29156.09670  119540.74200      11581.45\n",
       "3107            Sydney  16002.80700  101945.51700      11183.66\n",
       "2843     San Francisco  17507.38540  112669.09200      10753.24\n",
       "1508           Jakarta   3826.98420   94321.32420      10735.47\n",
       "1895            London  17378.71500   86945.80500       9890.22\n",
       "1989           Managua  17853.71804   83707.49804       9393.94\n",
       "2106       Mexico City  13342.29176   85728.55176       8860.27\n",
       "1202        Gold Coast   4453.78200   72626.92200       8824.94\n",
       "497           Brisbane  10526.29500   75729.01500       8405.25\n",
       "2082         Melbourne  11304.09960   73939.16400       7558.13\n",
       "26            Adelaide   8495.53200   57896.71200       7351.59\n",
       "2445             Paris  10327.43700   63315.86700       7155.86\n",
       "3391            Vienna  15660.84000   62023.53000       7093.83\n",
       "2484             Perth   8633.50200   64292.20200       6858.28\n",
       "375             Berlin   6872.12850   61917.89850       6628.87\n",
       "2870      San Salvador  15036.51040   57699.39040       5623.04\n",
       "1959            Madrid  12382.76100   51386.03100       5441.87\n",
       "2292         Newcastle   8208.02400   48461.99400       5335.65\n",
       "2138             Mixco  10301.94956   47898.40956       5305.68\n",
       "1666          Kinshasa   9976.26000   42536.52000       4856.78\n",
       "2840         San Diego   6377.19600   47521.02900       4817.67\n",
       "3518        Wollongong   6904.51500   42247.18500       4659.13\n",
       "912              Dhaka  10297.48000   41425.95000       4626.84\n",
       "1314           Hamburg  10379.37300   40430.22300       4525.88\n",
       "904            Detroit  13181.79080   42446.94400       4417.31\n",
       "3003         Singapore   8853.06000   40286.25000       4352.89\n",
       "554              Cairo   8528.10000   38439.78000       4171.78\n",
       "772           Columbus   5897.10130   38706.24300       4124.40\n",
       "1842              León   8011.59016   36489.43016       4079.98\n",
       "3116         São Paulo   9411.44548   38965.56548       4074.64\n",
       "291          Barcelona   2696.93500   33484.99500       3949.48\n",
       "2958          Shanghai   8533.63200   31275.79200       3948.71\n",
       "3054       Springfield   6200.69740   43054.34200       3932.53\n",
       "613         Casablanca   6872.40000   29797.77000       3681.77\n",
       "3047         Soyapango   7611.18892   32231.40892       3512.91\n",
       "2035         Marseille   4507.29600   31048.20600       3345.41\n",
       "2717            Riyadh   8689.14000   33035.25000       3227.77\n",
       "2604            Puebla   4361.90820   26882.30820       3224.46\n",
       "3104            Suzhou   5311.08000   22499.43000       3204.78\n",
       "888              Delhi   5565.90000   31014.63000       3109.03\n",
       "70          Alexandria   4909.78830   25418.96000       3048.01\n",
       "337            Beijing   4080.25500   31633.33500       2895.03\n",
       "857              Dakar   5630.85000   22274.67000       2893.12\n",
       "248            Baghdad   7363.92000   28867.62000       2792.83\n",
       "2903  Santiago de Cuba   5856.72112   24530.24112       2760.87\n",
       "1572            Juárez   5138.92000   24681.18000       2754.02\n",
       "1557      Johannesburg   4838.13000   23254.89000       2688.76\n",
       "2291            Newark   5793.75880   28576.11900       2639.04\n",
       "771           Columbia   5606.11670   25283.32400       2481.48"
      ]
     },
     "execution_count": 139,
     "metadata": {},
     "output_type": "execute_result"
    }
   ],
   "source": [
    "high_orders"
   ]
  },
  {
   "cell_type": "code",
   "execution_count": 149,
   "id": "4457e76e",
   "metadata": {
    "ExecuteTime": {
     "end_time": "2021-12-08T23:57:15.454483Z",
     "start_time": "2021-12-08T23:57:15.343698Z"
    }
   },
   "outputs": [],
   "source": [
    "['Sales'].sum()"
   ]
  },
  {
   "cell_type": "code",
   "execution_count": 150,
   "id": "bcde70a0",
   "metadata": {
    "ExecuteTime": {
     "end_time": "2021-12-08T23:57:17.212118Z",
     "start_time": "2021-12-08T23:57:15.608617Z"
    }
   },
   "outputs": [
    {
     "data": {
      "text/html": [
       "<div>\n",
       "<style scoped>\n",
       "    .dataframe tbody tr th:only-of-type {\n",
       "        vertical-align: middle;\n",
       "    }\n",
       "\n",
       "    .dataframe tbody tr th {\n",
       "        vertical-align: top;\n",
       "    }\n",
       "\n",
       "    .dataframe thead th {\n",
       "        text-align: right;\n",
       "    }\n",
       "</style>\n",
       "<table border=\"1\" class=\"dataframe\">\n",
       "  <thead>\n",
       "    <tr style=\"text-align: right;\">\n",
       "      <th></th>\n",
       "      <th>Row ID</th>\n",
       "      <th>Order ID</th>\n",
       "      <th>Order Date</th>\n",
       "      <th>Ship Date</th>\n",
       "      <th>Ship Mode</th>\n",
       "      <th>Customer ID</th>\n",
       "      <th>Customer Name</th>\n",
       "      <th>Segment</th>\n",
       "      <th>City</th>\n",
       "      <th>State</th>\n",
       "      <th>...</th>\n",
       "      <th>Product ID</th>\n",
       "      <th>Category</th>\n",
       "      <th>Sub-Category</th>\n",
       "      <th>Product Name</th>\n",
       "      <th>Sales</th>\n",
       "      <th>Quantity</th>\n",
       "      <th>Discount</th>\n",
       "      <th>Profit</th>\n",
       "      <th>Shipping Cost</th>\n",
       "      <th>Order Priority</th>\n",
       "    </tr>\n",
       "  </thead>\n",
       "  <tbody>\n",
       "    <tr>\n",
       "      <th>0</th>\n",
       "      <td>NaN</td>\n",
       "      <td>NaN</td>\n",
       "      <td>NaN</td>\n",
       "      <td>NaN</td>\n",
       "      <td>NaN</td>\n",
       "      <td>NaN</td>\n",
       "      <td>NaN</td>\n",
       "      <td>NaN</td>\n",
       "      <td>NaN</td>\n",
       "      <td>NaN</td>\n",
       "      <td>...</td>\n",
       "      <td>NaN</td>\n",
       "      <td>NaN</td>\n",
       "      <td>NaN</td>\n",
       "      <td>NaN</td>\n",
       "      <td>NaN</td>\n",
       "      <td>NaN</td>\n",
       "      <td>NaN</td>\n",
       "      <td>NaN</td>\n",
       "      <td>NaN</td>\n",
       "      <td>NaN</td>\n",
       "    </tr>\n",
       "    <tr>\n",
       "      <th>1</th>\n",
       "      <td>NaN</td>\n",
       "      <td>NaN</td>\n",
       "      <td>NaN</td>\n",
       "      <td>NaN</td>\n",
       "      <td>NaN</td>\n",
       "      <td>NaN</td>\n",
       "      <td>NaN</td>\n",
       "      <td>NaN</td>\n",
       "      <td>NaN</td>\n",
       "      <td>NaN</td>\n",
       "      <td>...</td>\n",
       "      <td>NaN</td>\n",
       "      <td>NaN</td>\n",
       "      <td>NaN</td>\n",
       "      <td>NaN</td>\n",
       "      <td>NaN</td>\n",
       "      <td>NaN</td>\n",
       "      <td>NaN</td>\n",
       "      <td>NaN</td>\n",
       "      <td>NaN</td>\n",
       "      <td>NaN</td>\n",
       "    </tr>\n",
       "    <tr>\n",
       "      <th>2</th>\n",
       "      <td>NaN</td>\n",
       "      <td>NaN</td>\n",
       "      <td>NaN</td>\n",
       "      <td>NaN</td>\n",
       "      <td>NaN</td>\n",
       "      <td>NaN</td>\n",
       "      <td>NaN</td>\n",
       "      <td>NaN</td>\n",
       "      <td>NaN</td>\n",
       "      <td>NaN</td>\n",
       "      <td>...</td>\n",
       "      <td>NaN</td>\n",
       "      <td>NaN</td>\n",
       "      <td>NaN</td>\n",
       "      <td>NaN</td>\n",
       "      <td>NaN</td>\n",
       "      <td>NaN</td>\n",
       "      <td>NaN</td>\n",
       "      <td>NaN</td>\n",
       "      <td>NaN</td>\n",
       "      <td>NaN</td>\n",
       "    </tr>\n",
       "    <tr>\n",
       "      <th>3</th>\n",
       "      <td>NaN</td>\n",
       "      <td>NaN</td>\n",
       "      <td>NaN</td>\n",
       "      <td>NaN</td>\n",
       "      <td>NaN</td>\n",
       "      <td>NaN</td>\n",
       "      <td>NaN</td>\n",
       "      <td>NaN</td>\n",
       "      <td>NaN</td>\n",
       "      <td>NaN</td>\n",
       "      <td>...</td>\n",
       "      <td>NaN</td>\n",
       "      <td>NaN</td>\n",
       "      <td>NaN</td>\n",
       "      <td>NaN</td>\n",
       "      <td>NaN</td>\n",
       "      <td>NaN</td>\n",
       "      <td>NaN</td>\n",
       "      <td>NaN</td>\n",
       "      <td>NaN</td>\n",
       "      <td>NaN</td>\n",
       "    </tr>\n",
       "    <tr>\n",
       "      <th>4</th>\n",
       "      <td>NaN</td>\n",
       "      <td>NaN</td>\n",
       "      <td>NaN</td>\n",
       "      <td>NaN</td>\n",
       "      <td>NaN</td>\n",
       "      <td>NaN</td>\n",
       "      <td>NaN</td>\n",
       "      <td>NaN</td>\n",
       "      <td>NaN</td>\n",
       "      <td>NaN</td>\n",
       "      <td>...</td>\n",
       "      <td>NaN</td>\n",
       "      <td>NaN</td>\n",
       "      <td>NaN</td>\n",
       "      <td>NaN</td>\n",
       "      <td>NaN</td>\n",
       "      <td>NaN</td>\n",
       "      <td>NaN</td>\n",
       "      <td>NaN</td>\n",
       "      <td>NaN</td>\n",
       "      <td>NaN</td>\n",
       "    </tr>\n",
       "    <tr>\n",
       "      <th>...</th>\n",
       "      <td>...</td>\n",
       "      <td>...</td>\n",
       "      <td>...</td>\n",
       "      <td>...</td>\n",
       "      <td>...</td>\n",
       "      <td>...</td>\n",
       "      <td>...</td>\n",
       "      <td>...</td>\n",
       "      <td>...</td>\n",
       "      <td>...</td>\n",
       "      <td>...</td>\n",
       "      <td>...</td>\n",
       "      <td>...</td>\n",
       "      <td>...</td>\n",
       "      <td>...</td>\n",
       "      <td>...</td>\n",
       "      <td>...</td>\n",
       "      <td>...</td>\n",
       "      <td>...</td>\n",
       "      <td>...</td>\n",
       "      <td>...</td>\n",
       "    </tr>\n",
       "    <tr>\n",
       "      <th>51285</th>\n",
       "      <td>NaN</td>\n",
       "      <td>NaN</td>\n",
       "      <td>NaN</td>\n",
       "      <td>NaN</td>\n",
       "      <td>NaN</td>\n",
       "      <td>NaN</td>\n",
       "      <td>NaN</td>\n",
       "      <td>NaN</td>\n",
       "      <td>NaN</td>\n",
       "      <td>NaN</td>\n",
       "      <td>...</td>\n",
       "      <td>NaN</td>\n",
       "      <td>NaN</td>\n",
       "      <td>NaN</td>\n",
       "      <td>NaN</td>\n",
       "      <td>NaN</td>\n",
       "      <td>NaN</td>\n",
       "      <td>NaN</td>\n",
       "      <td>NaN</td>\n",
       "      <td>NaN</td>\n",
       "      <td>NaN</td>\n",
       "    </tr>\n",
       "    <tr>\n",
       "      <th>51286</th>\n",
       "      <td>NaN</td>\n",
       "      <td>NaN</td>\n",
       "      <td>NaN</td>\n",
       "      <td>NaN</td>\n",
       "      <td>NaN</td>\n",
       "      <td>NaN</td>\n",
       "      <td>NaN</td>\n",
       "      <td>NaN</td>\n",
       "      <td>NaN</td>\n",
       "      <td>NaN</td>\n",
       "      <td>...</td>\n",
       "      <td>NaN</td>\n",
       "      <td>NaN</td>\n",
       "      <td>NaN</td>\n",
       "      <td>NaN</td>\n",
       "      <td>NaN</td>\n",
       "      <td>NaN</td>\n",
       "      <td>NaN</td>\n",
       "      <td>NaN</td>\n",
       "      <td>NaN</td>\n",
       "      <td>NaN</td>\n",
       "    </tr>\n",
       "    <tr>\n",
       "      <th>51287</th>\n",
       "      <td>NaN</td>\n",
       "      <td>NaN</td>\n",
       "      <td>NaN</td>\n",
       "      <td>NaN</td>\n",
       "      <td>NaN</td>\n",
       "      <td>NaN</td>\n",
       "      <td>NaN</td>\n",
       "      <td>NaN</td>\n",
       "      <td>NaN</td>\n",
       "      <td>NaN</td>\n",
       "      <td>...</td>\n",
       "      <td>NaN</td>\n",
       "      <td>NaN</td>\n",
       "      <td>NaN</td>\n",
       "      <td>NaN</td>\n",
       "      <td>NaN</td>\n",
       "      <td>NaN</td>\n",
       "      <td>NaN</td>\n",
       "      <td>NaN</td>\n",
       "      <td>NaN</td>\n",
       "      <td>NaN</td>\n",
       "    </tr>\n",
       "    <tr>\n",
       "      <th>51288</th>\n",
       "      <td>NaN</td>\n",
       "      <td>NaN</td>\n",
       "      <td>NaN</td>\n",
       "      <td>NaN</td>\n",
       "      <td>NaN</td>\n",
       "      <td>NaN</td>\n",
       "      <td>NaN</td>\n",
       "      <td>NaN</td>\n",
       "      <td>NaN</td>\n",
       "      <td>NaN</td>\n",
       "      <td>...</td>\n",
       "      <td>NaN</td>\n",
       "      <td>NaN</td>\n",
       "      <td>NaN</td>\n",
       "      <td>NaN</td>\n",
       "      <td>NaN</td>\n",
       "      <td>NaN</td>\n",
       "      <td>NaN</td>\n",
       "      <td>NaN</td>\n",
       "      <td>NaN</td>\n",
       "      <td>NaN</td>\n",
       "    </tr>\n",
       "    <tr>\n",
       "      <th>51289</th>\n",
       "      <td>NaN</td>\n",
       "      <td>NaN</td>\n",
       "      <td>NaN</td>\n",
       "      <td>NaN</td>\n",
       "      <td>NaN</td>\n",
       "      <td>NaN</td>\n",
       "      <td>NaN</td>\n",
       "      <td>NaN</td>\n",
       "      <td>NaN</td>\n",
       "      <td>NaN</td>\n",
       "      <td>...</td>\n",
       "      <td>NaN</td>\n",
       "      <td>NaN</td>\n",
       "      <td>NaN</td>\n",
       "      <td>NaN</td>\n",
       "      <td>NaN</td>\n",
       "      <td>NaN</td>\n",
       "      <td>NaN</td>\n",
       "      <td>NaN</td>\n",
       "      <td>NaN</td>\n",
       "      <td>NaN</td>\n",
       "    </tr>\n",
       "  </tbody>\n",
       "</table>\n",
       "<p>51290 rows × 24 columns</p>\n",
       "</div>"
      ],
      "text/plain": [
       "       Row ID Order ID Order Date Ship Date Ship Mode Customer ID  \\\n",
       "0         NaN      NaN        NaN       NaN       NaN         NaN   \n",
       "1         NaN      NaN        NaN       NaN       NaN         NaN   \n",
       "2         NaN      NaN        NaN       NaN       NaN         NaN   \n",
       "3         NaN      NaN        NaN       NaN       NaN         NaN   \n",
       "4         NaN      NaN        NaN       NaN       NaN         NaN   \n",
       "...       ...      ...        ...       ...       ...         ...   \n",
       "51285     NaN      NaN        NaN       NaN       NaN         NaN   \n",
       "51286     NaN      NaN        NaN       NaN       NaN         NaN   \n",
       "51287     NaN      NaN        NaN       NaN       NaN         NaN   \n",
       "51288     NaN      NaN        NaN       NaN       NaN         NaN   \n",
       "51289     NaN      NaN        NaN       NaN       NaN         NaN   \n",
       "\n",
       "      Customer Name Segment City State  ... Product ID  Category Sub-Category  \\\n",
       "0               NaN     NaN  NaN   NaN  ...        NaN       NaN          NaN   \n",
       "1               NaN     NaN  NaN   NaN  ...        NaN       NaN          NaN   \n",
       "2               NaN     NaN  NaN   NaN  ...        NaN       NaN          NaN   \n",
       "3               NaN     NaN  NaN   NaN  ...        NaN       NaN          NaN   \n",
       "4               NaN     NaN  NaN   NaN  ...        NaN       NaN          NaN   \n",
       "...             ...     ...  ...   ...  ...        ...       ...          ...   \n",
       "51285           NaN     NaN  NaN   NaN  ...        NaN       NaN          NaN   \n",
       "51286           NaN     NaN  NaN   NaN  ...        NaN       NaN          NaN   \n",
       "51287           NaN     NaN  NaN   NaN  ...        NaN       NaN          NaN   \n",
       "51288           NaN     NaN  NaN   NaN  ...        NaN       NaN          NaN   \n",
       "51289           NaN     NaN  NaN   NaN  ...        NaN       NaN          NaN   \n",
       "\n",
       "      Product Name Sales Quantity Discount Profit  Shipping Cost  \\\n",
       "0              NaN   NaN      NaN      NaN    NaN            NaN   \n",
       "1              NaN   NaN      NaN      NaN    NaN            NaN   \n",
       "2              NaN   NaN      NaN      NaN    NaN            NaN   \n",
       "3              NaN   NaN      NaN      NaN    NaN            NaN   \n",
       "4              NaN   NaN      NaN      NaN    NaN            NaN   \n",
       "...            ...   ...      ...      ...    ...            ...   \n",
       "51285          NaN   NaN      NaN      NaN    NaN            NaN   \n",
       "51286          NaN   NaN      NaN      NaN    NaN            NaN   \n",
       "51287          NaN   NaN      NaN      NaN    NaN            NaN   \n",
       "51288          NaN   NaN      NaN      NaN    NaN            NaN   \n",
       "51289          NaN   NaN      NaN      NaN    NaN            NaN   \n",
       "\n",
       "       Order Priority  \n",
       "0                 NaN  \n",
       "1                 NaN  \n",
       "2                 NaN  \n",
       "3                 NaN  \n",
       "4                 NaN  \n",
       "...               ...  \n",
       "51285             NaN  \n",
       "51286             NaN  \n",
       "51287             NaN  \n",
       "51288             NaN  \n",
       "51289             NaN  \n",
       "\n",
       "[51290 rows x 24 columns]"
      ]
     },
     "execution_count": 150,
     "metadata": {},
     "output_type": "execute_result"
    }
   ],
   "source": [
    "a"
   ]
  },
  {
   "cell_type": "code",
   "execution_count": 34,
   "id": "579e77b1",
   "metadata": {
    "ExecuteTime": {
     "end_time": "2021-12-08T19:36:59.808842Z",
     "start_time": "2021-12-08T19:36:51.342443Z"
    }
   },
   "outputs": [
    {
     "data": {
      "text/plain": [
       "Text(0, 0.5, 'Average within Cluster Sum Of Squares')"
      ]
     },
     "execution_count": 34,
     "metadata": {},
     "output_type": "execute_result"
    },
    {
     "data": {
      "image/png": "[encoded data removed]",
      "text/plain": [
       "<Figure size 720x576 with 1 Axes>"
      ]
     },
     "metadata": {
      "needs_background": "light"
     },
     "output_type": "display_data"
    }
   ],
   "source": [
    "# Elbow-curve/SSD\n",
    "\n",
    "ssd = []\n",
    "range_n_clusters = [2, 3, 4, 5, 6, 7, 8]\n",
    "for num_clusters in range_n_clusters:\n",
    "    kmedoids = KMedoids(n_clusters=num_clusters, max_iter=50, init='k-medoids++', method='alternate')\n",
    "    kmedoids.fit(psc_scaled)\n",
    "    \n",
    "    ssd.append(kmedoids.inertia_)\n",
    "    \n",
    "# plot the SSDs for each n_clusters\n",
    "plt.plot(ssd)\n",
    "plt.xlabel('Number of Clusters')\n",
    "plt.ylabel('Average within Cluster Sum Of Squares')\n",
    "# y-axis: SSD\n",
    "# x-axis: Number of clusters\n",
    "# Choose a balance point to avoid over-fitting."
   ]
  },
  {
   "cell_type": "code",
   "execution_count": 35,
   "id": "89e087fb",
   "metadata": {
    "ExecuteTime": {
     "end_time": "2021-12-08T19:37:12.544834Z",
     "start_time": "2021-12-08T19:36:59.811801Z"
    }
   },
   "outputs": [
    {
     "name": "stdout",
     "output_type": "stream",
     "text": [
      "For n_clusters=2, the silhouette score is 0.6637304846664962\n",
      "For n_clusters=3, the silhouette score is 0.6201405608088065\n",
      "For n_clusters=4, the silhouette score is 0.6134898882300464\n",
      "For n_clusters=5, the silhouette score is 0.5563865031260716\n",
      "For n_clusters=6, the silhouette score is 0.5674269329241214\n",
      "For n_clusters=7, the silhouette score is 0.5980979718475006\n",
      "For n_clusters=8, the silhouette score is 0.5570649678715257\n"
     ]
    }
   ],
   "source": [
    "# Silhouette analysis\n",
    "range_n_clusters = [2, 3, 4, 5, 6, 7, 8]\n",
    "\n",
    "for num_clusters in range_n_clusters:\n",
    "    \n",
    "    # intialise kmeans\n",
    "    kmedoids = KMedoids(n_clusters=num_clusters, max_iter=50, init='k-medoids++', method='alternate')\n",
    "    kmedoids.fit(psc_scaled)\n",
    "    \n",
    "    cluster_labels = kmedoids.labels_\n",
    "    \n",
    "    # silhouette score\n",
    "    silhouette_avg = silhouette_score(psc_scaled, cluster_labels)\n",
    "    print(\"For n_clusters={0}, the silhouette score is {1}\".format(num_clusters, silhouette_avg))\n",
    "    \n",
    "# The higher the point, the higher similarities between items within a cluster and \n",
    "# the higher dissimilarites bettwen items in different clusters.\n",
    "# Choose a balance number to avoid over-fitting."
   ]
  },
  {
   "cell_type": "code",
   "execution_count": 82,
   "id": "8115fdd7",
   "metadata": {
    "ExecuteTime": {
     "end_time": "2021-12-08T23:12:26.431998Z",
     "start_time": "2021-12-08T23:12:24.316764Z"
    }
   },
   "outputs": [
    {
     "data": {
      "text/plain": [
       "KMedoids(init='k-medoids++', max_iter=50, n_clusters=4)"
      ]
     },
     "execution_count": 82,
     "metadata": {},
     "output_type": "execute_result"
    }
   ],
   "source": [
    "# Final model with k=4\n",
    "kmedoids = KMedoids(n_clusters=4, max_iter=50, init='k-medoids++', method='alternate')\n",
    "kmedoids.fit(psc_scaled)"
   ]
  },
  {
   "cell_type": "code",
   "execution_count": 83,
   "id": "c8e56df7",
   "metadata": {
    "ExecuteTime": {
     "end_time": "2021-12-08T23:12:27.022184Z",
     "start_time": "2021-12-08T23:12:26.975149Z"
    }
   },
   "outputs": [
    {
     "data": {
      "text/html": [
       "<div>\n",
       "<style scoped>\n",
       "    .dataframe tbody tr th:only-of-type {\n",
       "        vertical-align: middle;\n",
       "    }\n",
       "\n",
       "    .dataframe tbody tr th {\n",
       "        vertical-align: top;\n",
       "    }\n",
       "\n",
       "    .dataframe thead th {\n",
       "        text-align: right;\n",
       "    }\n",
       "</style>\n",
       "<table border=\"1\" class=\"dataframe\">\n",
       "  <thead>\n",
       "    <tr style=\"text-align: right;\">\n",
       "      <th></th>\n",
       "      <th>Profit</th>\n",
       "      <th>Sales</th>\n",
       "      <th>ShippingCost</th>\n",
       "      <th>Cluster_Id</th>\n",
       "    </tr>\n",
       "  </thead>\n",
       "  <tbody>\n",
       "    <tr>\n",
       "      <th>0</th>\n",
       "      <td>1116.981</td>\n",
       "      <td>3803.151</td>\n",
       "      <td>391.28</td>\n",
       "      <td>1</td>\n",
       "    </tr>\n",
       "    <tr>\n",
       "      <th>1</th>\n",
       "      <td>283.005</td>\n",
       "      <td>979.695</td>\n",
       "      <td>81.97</td>\n",
       "      <td>0</td>\n",
       "    </tr>\n",
       "    <tr>\n",
       "      <th>2</th>\n",
       "      <td>152.310</td>\n",
       "      <td>387.330</td>\n",
       "      <td>30.19</td>\n",
       "      <td>0</td>\n",
       "    </tr>\n",
       "    <tr>\n",
       "      <th>3</th>\n",
       "      <td>-1475.556</td>\n",
       "      <td>1064.124</td>\n",
       "      <td>122.45</td>\n",
       "      <td>0</td>\n",
       "    </tr>\n",
       "    <tr>\n",
       "      <th>4</th>\n",
       "      <td>233.820</td>\n",
       "      <td>1354.950</td>\n",
       "      <td>116.22</td>\n",
       "      <td>0</td>\n",
       "    </tr>\n",
       "  </tbody>\n",
       "</table>\n",
       "</div>"
      ],
      "text/plain": [
       "     Profit     Sales  ShippingCost  Cluster_Id\n",
       "0  1116.981  3803.151        391.28           1\n",
       "1   283.005   979.695         81.97           0\n",
       "2   152.310   387.330         30.19           0\n",
       "3 -1475.556  1064.124        122.45           0\n",
       "4   233.820  1354.950        116.22           0"
      ]
     },
     "execution_count": 83,
     "metadata": {},
     "output_type": "execute_result"
    }
   ],
   "source": [
    "# assign the label\n",
    "psc['Cluster_Id'] = kmedoids.labels_\n",
    "psc.head()"
   ]
  },
  {
   "cell_type": "code",
   "execution_count": 84,
   "id": "a3756fa5",
   "metadata": {
    "ExecuteTime": {
     "end_time": "2021-12-08T23:12:27.913459Z",
     "start_time": "2021-12-08T23:12:27.719976Z"
    }
   },
   "outputs": [
    {
     "data": {
      "text/plain": [
       "<AxesSubplot:xlabel='Cluster_Id', ylabel='Profit'>"
      ]
     },
     "execution_count": 84,
     "metadata": {},
     "output_type": "execute_result"
    },
    {
     "data": {
      "image/png": "[encoded data removed]",
      "text/plain": [
       "<Figure size 720x576 with 1 Axes>"
      ]
     },
     "metadata": {
      "needs_background": "light"
     },
     "output_type": "display_data"
    }
   ],
   "source": [
    "# Box plot to visualize Cluster Id vs Profit\n",
    "\n",
    "sns.boxplot(x='Cluster_Id', y='Profit', data=psc)"
   ]
  },
  {
   "cell_type": "code",
   "execution_count": 85,
   "id": "d5472224",
   "metadata": {
    "ExecuteTime": {
     "end_time": "2021-12-08T23:12:29.266079Z",
     "start_time": "2021-12-08T23:12:29.080132Z"
    }
   },
   "outputs": [
    {
     "data": {
      "text/plain": [
       "<AxesSubplot:xlabel='Cluster_Id', ylabel='Sales'>"
      ]
     },
     "execution_count": 85,
     "metadata": {},
     "output_type": "execute_result"
    },
    {
     "data": {
      "image/png": "[encoded data removed]",
      "text/plain": [
       "<Figure size 720x576 with 1 Axes>"
      ]
     },
     "metadata": {
      "needs_background": "light"
     },
     "output_type": "display_data"
    }
   ],
   "source": [
    "# Box plot to visualize Cluster Id vs Sales\n",
    "\n",
    "sns.boxplot(x='Cluster_Id', y='Sales', data=psc)"
   ]
  },
  {
   "cell_type": "code",
   "execution_count": 86,
   "id": "0d080ae4",
   "metadata": {
    "ExecuteTime": {
     "end_time": "2021-12-08T23:12:29.872703Z",
     "start_time": "2021-12-08T23:12:29.680038Z"
    }
   },
   "outputs": [
    {
     "data": {
      "text/plain": [
       "<AxesSubplot:xlabel='Cluster_Id', ylabel='ShippingCost'>"
      ]
     },
     "execution_count": 86,
     "metadata": {},
     "output_type": "execute_result"
    },
    {
     "data": {
      "image/png": "[encoded data removed]",
      "text/plain": [
       "<Figure size 720x576 with 1 Axes>"
      ]
     },
     "metadata": {
      "needs_background": "light"
     },
     "output_type": "display_data"
    }
   ],
   "source": [
    "# Box plot to visualize Cluster Id vs Shipping Cost\n",
    "\n",
    "sns.boxplot(x='Cluster_Id', y='ShippingCost', data=psc)"
   ]
  },
  {
   "cell_type": "code",
   "execution_count": 89,
   "id": "c52db04f",
   "metadata": {
    "ExecuteTime": {
     "end_time": "2021-12-08T23:12:57.622069Z",
     "start_time": "2021-12-08T23:12:57.601129Z"
    }
   },
   "outputs": [],
   "source": [
    "psc_0 = psc.loc[(psc['Cluster_Id'] == 3)]"
   ]
  },
  {
   "cell_type": "code",
   "execution_count": 90,
   "id": "a4829e64",
   "metadata": {
    "ExecuteTime": {
     "end_time": "2021-12-08T23:12:58.168860Z",
     "start_time": "2021-12-08T23:12:58.151900Z"
    }
   },
   "outputs": [
    {
     "data": {
      "text/html": [
       "<div>\n",
       "<style scoped>\n",
       "    .dataframe tbody tr th:only-of-type {\n",
       "        vertical-align: middle;\n",
       "    }\n",
       "\n",
       "    .dataframe tbody tr th {\n",
       "        vertical-align: top;\n",
       "    }\n",
       "\n",
       "    .dataframe thead th {\n",
       "        text-align: right;\n",
       "    }\n",
       "</style>\n",
       "<table border=\"1\" class=\"dataframe\">\n",
       "  <thead>\n",
       "    <tr style=\"text-align: right;\">\n",
       "      <th></th>\n",
       "      <th>Profit</th>\n",
       "      <th>Sales</th>\n",
       "      <th>ShippingCost</th>\n",
       "      <th>Cluster_Id</th>\n",
       "    </tr>\n",
       "  </thead>\n",
       "  <tbody>\n",
       "    <tr>\n",
       "      <th>2290</th>\n",
       "      <td>62036.9837</td>\n",
       "      <td>256368.161</td>\n",
       "      <td>26948.17</td>\n",
       "      <td>3</td>\n",
       "    </tr>\n",
       "    <tr>\n",
       "      <th>1910</th>\n",
       "      <td>30440.7579</td>\n",
       "      <td>175851.341</td>\n",
       "      <td>18777.07</td>\n",
       "      <td>3</td>\n",
       "    </tr>\n",
       "  </tbody>\n",
       "</table>\n",
       "</div>"
      ],
      "text/plain": [
       "          Profit       Sales  ShippingCost  Cluster_Id\n",
       "2290  62036.9837  256368.161      26948.17           3\n",
       "1910  30440.7579  175851.341      18777.07           3"
      ]
     },
     "execution_count": 90,
     "metadata": {},
     "output_type": "execute_result"
    }
   ],
   "source": [
    "psc_0.sort_values(by=['ShippingCost'], ascending=False)"
   ]
  },
  {
   "cell_type": "code",
   "execution_count": 91,
   "id": "be95c27f",
   "metadata": {
    "ExecuteTime": {
     "end_time": "2021-12-08T23:21:53.844949Z",
     "start_time": "2021-12-08T23:21:53.695291Z"
    }
   },
   "outputs": [
    {
     "data": {
      "text/html": [
       "<div>\n",
       "<style scoped>\n",
       "    .dataframe tbody tr th:only-of-type {\n",
       "        vertical-align: middle;\n",
       "    }\n",
       "\n",
       "    .dataframe tbody tr th {\n",
       "        vertical-align: top;\n",
       "    }\n",
       "\n",
       "    .dataframe thead th {\n",
       "        text-align: right;\n",
       "    }\n",
       "</style>\n",
       "<table border=\"1\" class=\"dataframe\">\n",
       "  <thead>\n",
       "    <tr style=\"text-align: right;\">\n",
       "      <th></th>\n",
       "      <th>City</th>\n",
       "      <th>Profit</th>\n",
       "      <th>Sales</th>\n",
       "      <th>ShippingCost</th>\n",
       "    </tr>\n",
       "  </thead>\n",
       "  <tbody>\n",
       "    <tr>\n",
       "      <th>0</th>\n",
       "      <td>Aachen</td>\n",
       "      <td>1116.981</td>\n",
       "      <td>3803.151</td>\n",
       "      <td>391.28</td>\n",
       "    </tr>\n",
       "    <tr>\n",
       "      <th>1</th>\n",
       "      <td>Aalen</td>\n",
       "      <td>283.005</td>\n",
       "      <td>979.695</td>\n",
       "      <td>81.97</td>\n",
       "    </tr>\n",
       "    <tr>\n",
       "      <th>2</th>\n",
       "      <td>Aalst</td>\n",
       "      <td>152.310</td>\n",
       "      <td>387.330</td>\n",
       "      <td>30.19</td>\n",
       "    </tr>\n",
       "    <tr>\n",
       "      <th>3</th>\n",
       "      <td>Aba</td>\n",
       "      <td>-1475.556</td>\n",
       "      <td>1064.124</td>\n",
       "      <td>122.45</td>\n",
       "    </tr>\n",
       "    <tr>\n",
       "      <th>4</th>\n",
       "      <td>Abadan</td>\n",
       "      <td>233.820</td>\n",
       "      <td>1354.950</td>\n",
       "      <td>116.22</td>\n",
       "    </tr>\n",
       "    <tr>\n",
       "      <th>...</th>\n",
       "      <td>...</td>\n",
       "      <td>...</td>\n",
       "      <td>...</td>\n",
       "      <td>...</td>\n",
       "    </tr>\n",
       "    <tr>\n",
       "      <th>3631</th>\n",
       "      <td>Zwedru</td>\n",
       "      <td>11.850</td>\n",
       "      <td>49.410</td>\n",
       "      <td>3.09</td>\n",
       "    </tr>\n",
       "    <tr>\n",
       "      <th>3632</th>\n",
       "      <td>Zwickau</td>\n",
       "      <td>19.380</td>\n",
       "      <td>99.030</td>\n",
       "      <td>7.31</td>\n",
       "    </tr>\n",
       "    <tr>\n",
       "      <th>3633</th>\n",
       "      <td>Zwolle</td>\n",
       "      <td>-55.095</td>\n",
       "      <td>150.585</td>\n",
       "      <td>24.38</td>\n",
       "    </tr>\n",
       "    <tr>\n",
       "      <th>3634</th>\n",
       "      <td>eMbalenhle</td>\n",
       "      <td>13.620</td>\n",
       "      <td>75.900</td>\n",
       "      <td>9.39</td>\n",
       "    </tr>\n",
       "    <tr>\n",
       "      <th>3635</th>\n",
       "      <td>Águas Lindas de Goiás</td>\n",
       "      <td>41.040</td>\n",
       "      <td>186.960</td>\n",
       "      <td>27.35</td>\n",
       "    </tr>\n",
       "  </tbody>\n",
       "</table>\n",
       "<p>3636 rows × 4 columns</p>\n",
       "</div>"
      ],
      "text/plain": [
       "                       City    Profit     Sales  ShippingCost\n",
       "0                    Aachen  1116.981  3803.151        391.28\n",
       "1                     Aalen   283.005   979.695         81.97\n",
       "2                     Aalst   152.310   387.330         30.19\n",
       "3                       Aba -1475.556  1064.124        122.45\n",
       "4                    Abadan   233.820  1354.950        116.22\n",
       "...                     ...       ...       ...           ...\n",
       "3631                 Zwedru    11.850    49.410          3.09\n",
       "3632                Zwickau    19.380    99.030          7.31\n",
       "3633                 Zwolle   -55.095   150.585         24.38\n",
       "3634             eMbalenhle    13.620    75.900          9.39\n",
       "3635  Águas Lindas de Goiás    41.040   186.960         27.35\n",
       "\n",
       "[3636 rows x 4 columns]"
      ]
     },
     "execution_count": 91,
     "metadata": {},
     "output_type": "execute_result"
    }
   ],
   "source": [
    "profit_sales_shippingCost"
   ]
  },
  {
   "cell_type": "code",
   "execution_count": 106,
   "id": "61e3b9c5",
   "metadata": {
    "ExecuteTime": {
     "end_time": "2021-12-08T23:35:33.398591Z",
     "start_time": "2021-12-08T23:35:32.967915Z"
    }
   },
   "outputs": [],
   "source": [
    "high_value_orders = orders[orders.index.isin(psc_0.index)]\n"
   ]
  },
  {
   "cell_type": "code",
   "execution_count": 109,
   "id": "0ac3f7c5",
   "metadata": {
    "ExecuteTime": {
     "end_time": "2021-12-08T23:36:23.140162Z",
     "start_time": "2021-12-08T23:36:22.966498Z"
    }
   },
   "outputs": [
    {
     "data": {
      "text/html": [
       "<div>\n",
       "<style scoped>\n",
       "    .dataframe tbody tr th:only-of-type {\n",
       "        vertical-align: middle;\n",
       "    }\n",
       "\n",
       "    .dataframe tbody tr th {\n",
       "        vertical-align: top;\n",
       "    }\n",
       "\n",
       "    .dataframe thead th {\n",
       "        text-align: right;\n",
       "    }\n",
       "</style>\n",
       "<table border=\"1\" class=\"dataframe\">\n",
       "  <thead>\n",
       "    <tr style=\"text-align: right;\">\n",
       "      <th></th>\n",
       "      <th>Row ID</th>\n",
       "      <th>Order ID</th>\n",
       "      <th>Order Date</th>\n",
       "      <th>Ship Date</th>\n",
       "      <th>Ship Mode</th>\n",
       "      <th>Customer ID</th>\n",
       "      <th>Customer Name</th>\n",
       "      <th>Segment</th>\n",
       "      <th>City</th>\n",
       "      <th>State</th>\n",
       "      <th>...</th>\n",
       "      <th>Product ID</th>\n",
       "      <th>Category</th>\n",
       "      <th>Sub-Category</th>\n",
       "      <th>Product Name</th>\n",
       "      <th>Sales</th>\n",
       "      <th>Quantity</th>\n",
       "      <th>Discount</th>\n",
       "      <th>Profit</th>\n",
       "      <th>Shipping Cost</th>\n",
       "      <th>Order Priority</th>\n",
       "    </tr>\n",
       "  </thead>\n",
       "  <tbody>\n",
       "    <tr>\n",
       "      <th>26</th>\n",
       "      <td>15218</td>\n",
       "      <td>ES-2011-3893444</td>\n",
       "      <td>1/3/2011</td>\n",
       "      <td>5/3/2011</td>\n",
       "      <td>Standard Class</td>\n",
       "      <td>TB-21400</td>\n",
       "      <td>Tom Boeckenhauer</td>\n",
       "      <td>Consumer</td>\n",
       "      <td>Berlin</td>\n",
       "      <td>Berlin</td>\n",
       "      <td>...</td>\n",
       "      <td>OFF-AP-10002568</td>\n",
       "      <td>Office Supplies</td>\n",
       "      <td>Appliances</td>\n",
       "      <td>Hamilton Beach Toaster, Black</td>\n",
       "      <td>364.4160</td>\n",
       "      <td>8</td>\n",
       "      <td>0.20</td>\n",
       "      <td>45.4560</td>\n",
       "      <td>80.67</td>\n",
       "      <td>High</td>\n",
       "    </tr>\n",
       "    <tr>\n",
       "      <th>70</th>\n",
       "      <td>21918</td>\n",
       "      <td>IN-2011-59986</td>\n",
       "      <td>1/3/2011</td>\n",
       "      <td>3/3/2011</td>\n",
       "      <td>First Class</td>\n",
       "      <td>KH-16360</td>\n",
       "      <td>Katherine Hughes</td>\n",
       "      <td>Consumer</td>\n",
       "      <td>Adelaide</td>\n",
       "      <td>South Australia</td>\n",
       "      <td>...</td>\n",
       "      <td>OFF-BI-10004436</td>\n",
       "      <td>Office Supplies</td>\n",
       "      <td>Binders</td>\n",
       "      <td>Acco Hole Reinforcements, Recycled</td>\n",
       "      <td>12.6360</td>\n",
       "      <td>2</td>\n",
       "      <td>0.10</td>\n",
       "      <td>-1.1640</td>\n",
       "      <td>1.05</td>\n",
       "      <td>High</td>\n",
       "    </tr>\n",
       "    <tr>\n",
       "      <th>248</th>\n",
       "      <td>21082</td>\n",
       "      <td>ID-2011-77619</td>\n",
       "      <td>1/11/2011</td>\n",
       "      <td>2/11/2011</td>\n",
       "      <td>First Class</td>\n",
       "      <td>MK-18160</td>\n",
       "      <td>Mike Kennedy</td>\n",
       "      <td>Consumer</td>\n",
       "      <td>Seoul</td>\n",
       "      <td>Seoul</td>\n",
       "      <td>...</td>\n",
       "      <td>OFF-AP-10002882</td>\n",
       "      <td>Office Supplies</td>\n",
       "      <td>Appliances</td>\n",
       "      <td>KitchenAid Coffee Grinder, Silver</td>\n",
       "      <td>142.4400</td>\n",
       "      <td>4</td>\n",
       "      <td>0.50</td>\n",
       "      <td>-25.6800</td>\n",
       "      <td>30.95</td>\n",
       "      <td>Critical</td>\n",
       "    </tr>\n",
       "    <tr>\n",
       "      <th>291</th>\n",
       "      <td>44461</td>\n",
       "      <td>AL-2011-4500</td>\n",
       "      <td>1/11/2011</td>\n",
       "      <td>5/11/2011</td>\n",
       "      <td>Standard Class</td>\n",
       "      <td>EM-3825</td>\n",
       "      <td>Elizabeth Moffitt</td>\n",
       "      <td>Corporate</td>\n",
       "      <td>Korce</td>\n",
       "      <td>Korçë</td>\n",
       "      <td>...</td>\n",
       "      <td>OFF-AVE-10002892</td>\n",
       "      <td>Office Supplies</td>\n",
       "      <td>Binders</td>\n",
       "      <td>Avery 3-Hole Punch, Recycled</td>\n",
       "      <td>28.2300</td>\n",
       "      <td>1</td>\n",
       "      <td>0.00</td>\n",
       "      <td>0.0000</td>\n",
       "      <td>1.94</td>\n",
       "      <td>Medium</td>\n",
       "    </tr>\n",
       "    <tr>\n",
       "      <th>337</th>\n",
       "      <td>41701</td>\n",
       "      <td>NI-2011-1760</td>\n",
       "      <td>1/12/2011</td>\n",
       "      <td>3/12/2011</td>\n",
       "      <td>Second Class</td>\n",
       "      <td>FG-4260</td>\n",
       "      <td>Frank Gastineau</td>\n",
       "      <td>Home Office</td>\n",
       "      <td>Ibadan</td>\n",
       "      <td>Oyo</td>\n",
       "      <td>...</td>\n",
       "      <td>OFF-ADV-10002549</td>\n",
       "      <td>Office Supplies</td>\n",
       "      <td>Fasteners</td>\n",
       "      <td>Advantus Rubber Bands, Assorted Sizes</td>\n",
       "      <td>25.2720</td>\n",
       "      <td>6</td>\n",
       "      <td>0.70</td>\n",
       "      <td>-40.6080</td>\n",
       "      <td>3.10</td>\n",
       "      <td>High</td>\n",
       "    </tr>\n",
       "    <tr>\n",
       "      <th>375</th>\n",
       "      <td>10718</td>\n",
       "      <td>ES-2011-1640672</td>\n",
       "      <td>2/2/2011</td>\n",
       "      <td>5/2/2011</td>\n",
       "      <td>First Class</td>\n",
       "      <td>KH-16630</td>\n",
       "      <td>Ken Heidel</td>\n",
       "      <td>Corporate</td>\n",
       "      <td>Dresden</td>\n",
       "      <td>Saxony</td>\n",
       "      <td>...</td>\n",
       "      <td>OFF-PA-10000908</td>\n",
       "      <td>Office Supplies</td>\n",
       "      <td>Paper</td>\n",
       "      <td>Xerox Note Cards, Premium</td>\n",
       "      <td>13.1850</td>\n",
       "      <td>1</td>\n",
       "      <td>0.50</td>\n",
       "      <td>-7.9350</td>\n",
       "      <td>1.83</td>\n",
       "      <td>High</td>\n",
       "    </tr>\n",
       "    <tr>\n",
       "      <th>497</th>\n",
       "      <td>26112</td>\n",
       "      <td>IN-2011-52125</td>\n",
       "      <td>2/8/2011</td>\n",
       "      <td>3/8/2011</td>\n",
       "      <td>First Class</td>\n",
       "      <td>RH-19495</td>\n",
       "      <td>Rick Hansen</td>\n",
       "      <td>Consumer</td>\n",
       "      <td>Shangzhi</td>\n",
       "      <td>Heilongjiang</td>\n",
       "      <td>...</td>\n",
       "      <td>FUR-CH-10000110</td>\n",
       "      <td>Furniture</td>\n",
       "      <td>Chairs</td>\n",
       "      <td>Hon Bag Chairs, Red</td>\n",
       "      <td>90.3000</td>\n",
       "      <td>2</td>\n",
       "      <td>0.00</td>\n",
       "      <td>38.8200</td>\n",
       "      <td>22.38</td>\n",
       "      <td>High</td>\n",
       "    </tr>\n",
       "    <tr>\n",
       "      <th>554</th>\n",
       "      <td>49885</td>\n",
       "      <td>CG-2011-6740</td>\n",
       "      <td>2/9/2011</td>\n",
       "      <td>3/9/2011</td>\n",
       "      <td>First Class</td>\n",
       "      <td>SO-10335</td>\n",
       "      <td>Sean O'Donnell</td>\n",
       "      <td>Consumer</td>\n",
       "      <td>Kinshasa</td>\n",
       "      <td>Kinshasa</td>\n",
       "      <td>...</td>\n",
       "      <td>OFF-HON-10001102</td>\n",
       "      <td>Office Supplies</td>\n",
       "      <td>Labels</td>\n",
       "      <td>Hon Legal Exhibit Labels, Adjustable</td>\n",
       "      <td>35.0400</td>\n",
       "      <td>4</td>\n",
       "      <td>0.00</td>\n",
       "      <td>5.5200</td>\n",
       "      <td>10.30</td>\n",
       "      <td>High</td>\n",
       "    </tr>\n",
       "    <tr>\n",
       "      <th>613</th>\n",
       "      <td>47196</td>\n",
       "      <td>TU-2011-3090</td>\n",
       "      <td>2/11/2011</td>\n",
       "      <td>6/11/2011</td>\n",
       "      <td>Standard Class</td>\n",
       "      <td>FH-4350</td>\n",
       "      <td>Fred Harton</td>\n",
       "      <td>Consumer</td>\n",
       "      <td>Mersin</td>\n",
       "      <td>Mersin</td>\n",
       "      <td>...</td>\n",
       "      <td>TEC-MOT-10001950</td>\n",
       "      <td>Technology</td>\n",
       "      <td>Phones</td>\n",
       "      <td>Motorola Headset, Full Size</td>\n",
       "      <td>64.8240</td>\n",
       "      <td>2</td>\n",
       "      <td>0.60</td>\n",
       "      <td>-61.5960</td>\n",
       "      <td>5.51</td>\n",
       "      <td>Medium</td>\n",
       "    </tr>\n",
       "    <tr>\n",
       "      <th>771</th>\n",
       "      <td>47551</td>\n",
       "      <td>CG-2011-9150</td>\n",
       "      <td>3/5/2011</td>\n",
       "      <td>7/5/2011</td>\n",
       "      <td>Standard Class</td>\n",
       "      <td>EH-3990</td>\n",
       "      <td>Erica Hackney</td>\n",
       "      <td>Consumer</td>\n",
       "      <td>Kisangani</td>\n",
       "      <td>Orientale</td>\n",
       "      <td>...</td>\n",
       "      <td>OFF-ELD-10000024</td>\n",
       "      <td>Office Supplies</td>\n",
       "      <td>Storage</td>\n",
       "      <td>Eldon Folders, Blue</td>\n",
       "      <td>16.9800</td>\n",
       "      <td>1</td>\n",
       "      <td>0.00</td>\n",
       "      <td>2.8800</td>\n",
       "      <td>1.21</td>\n",
       "      <td>High</td>\n",
       "    </tr>\n",
       "    <tr>\n",
       "      <th>772</th>\n",
       "      <td>35159</td>\n",
       "      <td>CA-2011-135755</td>\n",
       "      <td>3/5/2011</td>\n",
       "      <td>10/5/2011</td>\n",
       "      <td>Standard Class</td>\n",
       "      <td>NC-18415</td>\n",
       "      <td>Nathan Cano</td>\n",
       "      <td>Consumer</td>\n",
       "      <td>Yonkers</td>\n",
       "      <td>New York</td>\n",
       "      <td>...</td>\n",
       "      <td>OFF-BI-10003981</td>\n",
       "      <td>Office Supplies</td>\n",
       "      <td>Binders</td>\n",
       "      <td>Avery Durable Plastic 1\" Binders</td>\n",
       "      <td>10.8960</td>\n",
       "      <td>3</td>\n",
       "      <td>0.20</td>\n",
       "      <td>3.9498</td>\n",
       "      <td>0.90</td>\n",
       "      <td>Medium</td>\n",
       "    </tr>\n",
       "    <tr>\n",
       "      <th>857</th>\n",
       "      <td>50482</td>\n",
       "      <td>TU-2011-3610</td>\n",
       "      <td>3/8/2011</td>\n",
       "      <td>6/8/2011</td>\n",
       "      <td>Second Class</td>\n",
       "      <td>JR-5700</td>\n",
       "      <td>Jocasta Rupert</td>\n",
       "      <td>Consumer</td>\n",
       "      <td>Istanbul</td>\n",
       "      <td>Istanbul</td>\n",
       "      <td>...</td>\n",
       "      <td>OFF-SME-10002417</td>\n",
       "      <td>Office Supplies</td>\n",
       "      <td>Storage</td>\n",
       "      <td>Smead Trays, Single Width</td>\n",
       "      <td>19.4040</td>\n",
       "      <td>1</td>\n",
       "      <td>0.60</td>\n",
       "      <td>-13.5960</td>\n",
       "      <td>2.64</td>\n",
       "      <td>High</td>\n",
       "    </tr>\n",
       "    <tr>\n",
       "      <th>888</th>\n",
       "      <td>49832</td>\n",
       "      <td>GG-2011-9830</td>\n",
       "      <td>3/10/2011</td>\n",
       "      <td>5/10/2011</td>\n",
       "      <td>First Class</td>\n",
       "      <td>BS-1590</td>\n",
       "      <td>Brendan Sweed</td>\n",
       "      <td>Corporate</td>\n",
       "      <td>Tbilisi</td>\n",
       "      <td>Tbilisi</td>\n",
       "      <td>...</td>\n",
       "      <td>OFF-AVE-10004251</td>\n",
       "      <td>Office Supplies</td>\n",
       "      <td>Binders</td>\n",
       "      <td>Avery Binding Machine, Economy</td>\n",
       "      <td>97.6800</td>\n",
       "      <td>2</td>\n",
       "      <td>0.00</td>\n",
       "      <td>11.7000</td>\n",
       "      <td>13.19</td>\n",
       "      <td>Medium</td>\n",
       "    </tr>\n",
       "    <tr>\n",
       "      <th>904</th>\n",
       "      <td>11180</td>\n",
       "      <td>IT-2011-3461936</td>\n",
       "      <td>3/10/2011</td>\n",
       "      <td>9/10/2011</td>\n",
       "      <td>Standard Class</td>\n",
       "      <td>AG-10900</td>\n",
       "      <td>Arthur Gainer</td>\n",
       "      <td>Consumer</td>\n",
       "      <td>Novara</td>\n",
       "      <td>Piedmont</td>\n",
       "      <td>...</td>\n",
       "      <td>OFF-LA-10002490</td>\n",
       "      <td>Office Supplies</td>\n",
       "      <td>Labels</td>\n",
       "      <td>Hon Round Labels, Alphabetical</td>\n",
       "      <td>38.8800</td>\n",
       "      <td>6</td>\n",
       "      <td>0.00</td>\n",
       "      <td>0.3600</td>\n",
       "      <td>1.98</td>\n",
       "      <td>Medium</td>\n",
       "    </tr>\n",
       "    <tr>\n",
       "      <th>912</th>\n",
       "      <td>21286</td>\n",
       "      <td>IN-2011-28087</td>\n",
       "      <td>3/11/2011</td>\n",
       "      <td>5/11/2011</td>\n",
       "      <td>Second Class</td>\n",
       "      <td>DP-13105</td>\n",
       "      <td>Dave Poirier</td>\n",
       "      <td>Corporate</td>\n",
       "      <td>Gold Coast</td>\n",
       "      <td>Queensland</td>\n",
       "      <td>...</td>\n",
       "      <td>OFF-AP-10004246</td>\n",
       "      <td>Office Supplies</td>\n",
       "      <td>Appliances</td>\n",
       "      <td>Breville Stove, Red</td>\n",
       "      <td>2526.9300</td>\n",
       "      <td>5</td>\n",
       "      <td>0.10</td>\n",
       "      <td>561.4800</td>\n",
       "      <td>689.80</td>\n",
       "      <td>Critical</td>\n",
       "    </tr>\n",
       "    <tr>\n",
       "      <th>1202</th>\n",
       "      <td>31615</td>\n",
       "      <td>CA-2011-164973</td>\n",
       "      <td>4/11/2011</td>\n",
       "      <td>9/11/2011</td>\n",
       "      <td>Standard Class</td>\n",
       "      <td>NM-18445</td>\n",
       "      <td>Nathan Mautz</td>\n",
       "      <td>Home Office</td>\n",
       "      <td>New York City</td>\n",
       "      <td>New York</td>\n",
       "      <td>...</td>\n",
       "      <td>TEC-MA-10002927</td>\n",
       "      <td>Technology</td>\n",
       "      <td>Machines</td>\n",
       "      <td>Canon imageCLASS MF7460 Monochrome Digital Las...</td>\n",
       "      <td>3991.9800</td>\n",
       "      <td>2</td>\n",
       "      <td>0.00</td>\n",
       "      <td>1995.9900</td>\n",
       "      <td>276.89</td>\n",
       "      <td>High</td>\n",
       "    </tr>\n",
       "    <tr>\n",
       "      <th>1314</th>\n",
       "      <td>13707</td>\n",
       "      <td>ES-2011-5793145</td>\n",
       "      <td>5/5/2011</td>\n",
       "      <td>10/5/2011</td>\n",
       "      <td>Standard Class</td>\n",
       "      <td>SC-20695</td>\n",
       "      <td>Steve Chapman</td>\n",
       "      <td>Corporate</td>\n",
       "      <td>Vienna</td>\n",
       "      <td>Vienna</td>\n",
       "      <td>...</td>\n",
       "      <td>TEC-CO-10000660</td>\n",
       "      <td>Technology</td>\n",
       "      <td>Copiers</td>\n",
       "      <td>Hewlett Copy Machine, Color</td>\n",
       "      <td>1047.4800</td>\n",
       "      <td>4</td>\n",
       "      <td>0.00</td>\n",
       "      <td>523.6800</td>\n",
       "      <td>90.56</td>\n",
       "      <td>Medium</td>\n",
       "    </tr>\n",
       "    <tr>\n",
       "      <th>1508</th>\n",
       "      <td>36869</td>\n",
       "      <td>CA-2011-151162</td>\n",
       "      <td>5/12/2011</td>\n",
       "      <td>9/12/2011</td>\n",
       "      <td>Standard Class</td>\n",
       "      <td>EA-14035</td>\n",
       "      <td>Erin Ashbrook</td>\n",
       "      <td>Corporate</td>\n",
       "      <td>Columbus</td>\n",
       "      <td>Ohio</td>\n",
       "      <td>...</td>\n",
       "      <td>OFF-BI-10003719</td>\n",
       "      <td>Office Supplies</td>\n",
       "      <td>Binders</td>\n",
       "      <td>Large Capacity Hanging Post Binders</td>\n",
       "      <td>29.9400</td>\n",
       "      <td>4</td>\n",
       "      <td>0.70</td>\n",
       "      <td>-23.9520</td>\n",
       "      <td>0.63</td>\n",
       "      <td>Medium</td>\n",
       "    </tr>\n",
       "    <tr>\n",
       "      <th>1557</th>\n",
       "      <td>48702</td>\n",
       "      <td>RO-2011-2520</td>\n",
       "      <td>6/5/2011</td>\n",
       "      <td>11/5/2011</td>\n",
       "      <td>Standard Class</td>\n",
       "      <td>AT-735</td>\n",
       "      <td>Annie Thurman</td>\n",
       "      <td>Consumer</td>\n",
       "      <td>Galati</td>\n",
       "      <td>Galati</td>\n",
       "      <td>...</td>\n",
       "      <td>TEC-NOK-10002555</td>\n",
       "      <td>Technology</td>\n",
       "      <td>Phones</td>\n",
       "      <td>Nokia Audio Dock, VoIP</td>\n",
       "      <td>166.8300</td>\n",
       "      <td>1</td>\n",
       "      <td>0.00</td>\n",
       "      <td>46.7100</td>\n",
       "      <td>13.93</td>\n",
       "      <td>Medium</td>\n",
       "    </tr>\n",
       "    <tr>\n",
       "      <th>1572</th>\n",
       "      <td>43386</td>\n",
       "      <td>RO-2011-6750</td>\n",
       "      <td>6/5/2011</td>\n",
       "      <td>11/5/2011</td>\n",
       "      <td>Standard Class</td>\n",
       "      <td>BS-1800</td>\n",
       "      <td>Bryan Spruell</td>\n",
       "      <td>Home Office</td>\n",
       "      <td>Botosani</td>\n",
       "      <td>Botosani</td>\n",
       "      <td>...</td>\n",
       "      <td>OFF-GRE-10001521</td>\n",
       "      <td>Office Supplies</td>\n",
       "      <td>Paper</td>\n",
       "      <td>Green Bar Message Books, Recycled</td>\n",
       "      <td>23.7000</td>\n",
       "      <td>1</td>\n",
       "      <td>0.00</td>\n",
       "      <td>8.5200</td>\n",
       "      <td>1.30</td>\n",
       "      <td>Medium</td>\n",
       "    </tr>\n",
       "    <tr>\n",
       "      <th>1666</th>\n",
       "      <td>21852</td>\n",
       "      <td>IN-2011-50060</td>\n",
       "      <td>6/9/2011</td>\n",
       "      <td>13-09-2011</td>\n",
       "      <td>Standard Class</td>\n",
       "      <td>MC-17575</td>\n",
       "      <td>Matt Collins</td>\n",
       "      <td>Consumer</td>\n",
       "      <td>Yancheng</td>\n",
       "      <td>Jiangsu</td>\n",
       "      <td>...</td>\n",
       "      <td>FUR-CH-10004447</td>\n",
       "      <td>Furniture</td>\n",
       "      <td>Chairs</td>\n",
       "      <td>Harbour Creations Rocking Chair, Set of Two</td>\n",
       "      <td>149.3400</td>\n",
       "      <td>1</td>\n",
       "      <td>0.00</td>\n",
       "      <td>2.9700</td>\n",
       "      <td>8.50</td>\n",
       "      <td>Medium</td>\n",
       "    </tr>\n",
       "    <tr>\n",
       "      <th>1842</th>\n",
       "      <td>37860</td>\n",
       "      <td>CA-2011-166086</td>\n",
       "      <td>7/5/2011</td>\n",
       "      <td>12/5/2011</td>\n",
       "      <td>Standard Class</td>\n",
       "      <td>CT-11995</td>\n",
       "      <td>Carol Triggs</td>\n",
       "      <td>Consumer</td>\n",
       "      <td>Lawrence</td>\n",
       "      <td>Massachusetts</td>\n",
       "      <td>...</td>\n",
       "      <td>FUR-TA-10003469</td>\n",
       "      <td>Furniture</td>\n",
       "      <td>Tables</td>\n",
       "      <td>Balt Split Level Computer Training Table</td>\n",
       "      <td>194.2500</td>\n",
       "      <td>2</td>\n",
       "      <td>0.30</td>\n",
       "      <td>-38.8500</td>\n",
       "      <td>21.73</td>\n",
       "      <td>High</td>\n",
       "    </tr>\n",
       "    <tr>\n",
       "      <th>1895</th>\n",
       "      <td>4342</td>\n",
       "      <td>MX-2011-103345</td>\n",
       "      <td>7/6/2011</td>\n",
       "      <td>14-06-2011</td>\n",
       "      <td>Standard Class</td>\n",
       "      <td>DK-12895</td>\n",
       "      <td>Dana Kaydos</td>\n",
       "      <td>Consumer</td>\n",
       "      <td>Monterrey</td>\n",
       "      <td>Nuevo León</td>\n",
       "      <td>...</td>\n",
       "      <td>OFF-EN-10002348</td>\n",
       "      <td>Office Supplies</td>\n",
       "      <td>Envelopes</td>\n",
       "      <td>Cameo Peel and Seal, Set of 50</td>\n",
       "      <td>42.0000</td>\n",
       "      <td>3</td>\n",
       "      <td>0.00</td>\n",
       "      <td>2.5200</td>\n",
       "      <td>2.97</td>\n",
       "      <td>Medium</td>\n",
       "    </tr>\n",
       "    <tr>\n",
       "      <th>1959</th>\n",
       "      <td>50358</td>\n",
       "      <td>RO-2011-2770</td>\n",
       "      <td>7/9/2011</td>\n",
       "      <td>13-09-2011</td>\n",
       "      <td>Standard Class</td>\n",
       "      <td>KN-6705</td>\n",
       "      <td>Kristina Nunn</td>\n",
       "      <td>Home Office</td>\n",
       "      <td>Bacau</td>\n",
       "      <td>Bacau</td>\n",
       "      <td>...</td>\n",
       "      <td>TEC-KON-10003077</td>\n",
       "      <td>Technology</td>\n",
       "      <td>Machines</td>\n",
       "      <td>Konica Calculator, Wireless</td>\n",
       "      <td>51.6300</td>\n",
       "      <td>1</td>\n",
       "      <td>0.00</td>\n",
       "      <td>24.2400</td>\n",
       "      <td>2.42</td>\n",
       "      <td>Medium</td>\n",
       "    </tr>\n",
       "    <tr>\n",
       "      <th>1989</th>\n",
       "      <td>2229</td>\n",
       "      <td>MX-2011-155271</td>\n",
       "      <td>7/10/2011</td>\n",
       "      <td>10/10/2011</td>\n",
       "      <td>Second Class</td>\n",
       "      <td>CL-12565</td>\n",
       "      <td>Clay Ludtke</td>\n",
       "      <td>Consumer</td>\n",
       "      <td>Cienfuegos</td>\n",
       "      <td>Cienfuegos</td>\n",
       "      <td>...</td>\n",
       "      <td>OFF-BI-10001324</td>\n",
       "      <td>Office Supplies</td>\n",
       "      <td>Binders</td>\n",
       "      <td>Acco 3-Hole Punch, Economy</td>\n",
       "      <td>80.3200</td>\n",
       "      <td>4</td>\n",
       "      <td>0.00</td>\n",
       "      <td>6.4000</td>\n",
       "      <td>12.82</td>\n",
       "      <td>High</td>\n",
       "    </tr>\n",
       "    <tr>\n",
       "      <th>2035</th>\n",
       "      <td>22460</td>\n",
       "      <td>ID-2011-23012</td>\n",
       "      <td>7/11/2011</td>\n",
       "      <td>9/11/2011</td>\n",
       "      <td>Second Class</td>\n",
       "      <td>NC-18625</td>\n",
       "      <td>Noah Childs</td>\n",
       "      <td>Corporate</td>\n",
       "      <td>Daejeon</td>\n",
       "      <td>Daejeon</td>\n",
       "      <td>...</td>\n",
       "      <td>TEC-MA-10002520</td>\n",
       "      <td>Technology</td>\n",
       "      <td>Machines</td>\n",
       "      <td>Panasonic Receipt Printer, White</td>\n",
       "      <td>238.6200</td>\n",
       "      <td>4</td>\n",
       "      <td>0.50</td>\n",
       "      <td>-176.5800</td>\n",
       "      <td>29.31</td>\n",
       "      <td>Medium</td>\n",
       "    </tr>\n",
       "    <tr>\n",
       "      <th>2082</th>\n",
       "      <td>38277</td>\n",
       "      <td>CA-2011-146990</td>\n",
       "      <td>7/11/2011</td>\n",
       "      <td>8/11/2011</td>\n",
       "      <td>First Class</td>\n",
       "      <td>BP-11095</td>\n",
       "      <td>Bart Pistole</td>\n",
       "      <td>Corporate</td>\n",
       "      <td>New York City</td>\n",
       "      <td>New York</td>\n",
       "      <td>...</td>\n",
       "      <td>OFF-FA-10000611</td>\n",
       "      <td>Office Supplies</td>\n",
       "      <td>Fasteners</td>\n",
       "      <td>Binder Clips by OIC</td>\n",
       "      <td>5.9200</td>\n",
       "      <td>4</td>\n",
       "      <td>0.00</td>\n",
       "      <td>2.8416</td>\n",
       "      <td>0.47</td>\n",
       "      <td>Medium</td>\n",
       "    </tr>\n",
       "    <tr>\n",
       "      <th>2106</th>\n",
       "      <td>24174</td>\n",
       "      <td>IN-2011-38307</td>\n",
       "      <td>7/12/2011</td>\n",
       "      <td>11/12/2011</td>\n",
       "      <td>Standard Class</td>\n",
       "      <td>SE-20110</td>\n",
       "      <td>Sanjit Engle</td>\n",
       "      <td>Consumer</td>\n",
       "      <td>Latur</td>\n",
       "      <td>Maharashtra</td>\n",
       "      <td>...</td>\n",
       "      <td>OFF-BI-10000305</td>\n",
       "      <td>Office Supplies</td>\n",
       "      <td>Binders</td>\n",
       "      <td>Wilson Jones Index Tab, Durable</td>\n",
       "      <td>15.9000</td>\n",
       "      <td>2</td>\n",
       "      <td>0.00</td>\n",
       "      <td>2.8200</td>\n",
       "      <td>2.34</td>\n",
       "      <td>High</td>\n",
       "    </tr>\n",
       "    <tr>\n",
       "      <th>2138</th>\n",
       "      <td>23821</td>\n",
       "      <td>IN-2011-67028</td>\n",
       "      <td>8/3/2011</td>\n",
       "      <td>12/3/2011</td>\n",
       "      <td>Standard Class</td>\n",
       "      <td>DK-13150</td>\n",
       "      <td>David Kendrick</td>\n",
       "      <td>Corporate</td>\n",
       "      <td>Manila</td>\n",
       "      <td>National Capital</td>\n",
       "      <td>...</td>\n",
       "      <td>TEC-PH-10003713</td>\n",
       "      <td>Technology</td>\n",
       "      <td>Phones</td>\n",
       "      <td>Nokia Smart Phone, Cordless</td>\n",
       "      <td>954.2250</td>\n",
       "      <td>2</td>\n",
       "      <td>0.25</td>\n",
       "      <td>38.1450</td>\n",
       "      <td>20.84</td>\n",
       "      <td>Medium</td>\n",
       "    </tr>\n",
       "    <tr>\n",
       "      <th>2291</th>\n",
       "      <td>43815</td>\n",
       "      <td>NI-2011-4700</td>\n",
       "      <td>8/9/2011</td>\n",
       "      <td>10/9/2011</td>\n",
       "      <td>Second Class</td>\n",
       "      <td>PO-8865</td>\n",
       "      <td>Patrick O'Donnell</td>\n",
       "      <td>Consumer</td>\n",
       "      <td>Lagos</td>\n",
       "      <td>Lagos</td>\n",
       "      <td>...</td>\n",
       "      <td>OFF-SAN-10003393</td>\n",
       "      <td>Office Supplies</td>\n",
       "      <td>Paper</td>\n",
       "      <td>SanDisk Cards &amp; Envelopes, Recycled</td>\n",
       "      <td>86.9940</td>\n",
       "      <td>6</td>\n",
       "      <td>0.70</td>\n",
       "      <td>-191.4660</td>\n",
       "      <td>7.51</td>\n",
       "      <td>High</td>\n",
       "    </tr>\n",
       "    <tr>\n",
       "      <th>2292</th>\n",
       "      <td>44340</td>\n",
       "      <td>NI-2011-1020</td>\n",
       "      <td>8/9/2011</td>\n",
       "      <td>10/9/2011</td>\n",
       "      <td>Second Class</td>\n",
       "      <td>LD-7005</td>\n",
       "      <td>Lisa DeCherney</td>\n",
       "      <td>Consumer</td>\n",
       "      <td>Kano</td>\n",
       "      <td>Kano</td>\n",
       "      <td>...</td>\n",
       "      <td>OFF-STA-10000247</td>\n",
       "      <td>Office Supplies</td>\n",
       "      <td>Art</td>\n",
       "      <td>Stanley Canvas, Fluorescent</td>\n",
       "      <td>60.8760</td>\n",
       "      <td>4</td>\n",
       "      <td>0.70</td>\n",
       "      <td>-77.1240</td>\n",
       "      <td>7.35</td>\n",
       "      <td>High</td>\n",
       "    </tr>\n",
       "    <tr>\n",
       "      <th>2445</th>\n",
       "      <td>29582</td>\n",
       "      <td>ID-2011-46483</td>\n",
       "      <td>9/1/2011</td>\n",
       "      <td>13-01-2011</td>\n",
       "      <td>Standard Class</td>\n",
       "      <td>SC-20050</td>\n",
       "      <td>Sample Company A</td>\n",
       "      <td>Home Office</td>\n",
       "      <td>San Pedro</td>\n",
       "      <td>Calabarzon</td>\n",
       "      <td>...</td>\n",
       "      <td>OFF-PA-10003405</td>\n",
       "      <td>Office Supplies</td>\n",
       "      <td>Paper</td>\n",
       "      <td>Green Bar Memo Slips, Premium</td>\n",
       "      <td>9.3225</td>\n",
       "      <td>1</td>\n",
       "      <td>0.45</td>\n",
       "      <td>-1.7175</td>\n",
       "      <td>0.69</td>\n",
       "      <td>High</td>\n",
       "    </tr>\n",
       "    <tr>\n",
       "      <th>2484</th>\n",
       "      <td>15023</td>\n",
       "      <td>IT-2011-1716540</td>\n",
       "      <td>9/4/2011</td>\n",
       "      <td>11/4/2011</td>\n",
       "      <td>Second Class</td>\n",
       "      <td>CS-12490</td>\n",
       "      <td>Cindy Schnelling</td>\n",
       "      <td>Corporate</td>\n",
       "      <td>Coimbra</td>\n",
       "      <td>Coimbra</td>\n",
       "      <td>...</td>\n",
       "      <td>OFF-EN-10002013</td>\n",
       "      <td>Office Supplies</td>\n",
       "      <td>Envelopes</td>\n",
       "      <td>Cameo Business Envelopes, Security-Tint</td>\n",
       "      <td>16.9500</td>\n",
       "      <td>2</td>\n",
       "      <td>0.50</td>\n",
       "      <td>-4.7700</td>\n",
       "      <td>3.41</td>\n",
       "      <td>High</td>\n",
       "    </tr>\n",
       "    <tr>\n",
       "      <th>2604</th>\n",
       "      <td>38729</td>\n",
       "      <td>CA-2011-161249</td>\n",
       "      <td>9/8/2011</td>\n",
       "      <td>13-08-2011</td>\n",
       "      <td>Standard Class</td>\n",
       "      <td>RD-19720</td>\n",
       "      <td>Roger Demir</td>\n",
       "      <td>Consumer</td>\n",
       "      <td>Phoenix</td>\n",
       "      <td>Arizona</td>\n",
       "      <td>...</td>\n",
       "      <td>OFF-FA-10004838</td>\n",
       "      <td>Office Supplies</td>\n",
       "      <td>Fasteners</td>\n",
       "      <td>Super Bands, 12/Pack</td>\n",
       "      <td>4.4640</td>\n",
       "      <td>3</td>\n",
       "      <td>0.20</td>\n",
       "      <td>-0.9486</td>\n",
       "      <td>0.23</td>\n",
       "      <td>Medium</td>\n",
       "    </tr>\n",
       "    <tr>\n",
       "      <th>2717</th>\n",
       "      <td>13681</td>\n",
       "      <td>ES-2011-5898391</td>\n",
       "      <td>9/12/2011</td>\n",
       "      <td>10/12/2011</td>\n",
       "      <td>First Class</td>\n",
       "      <td>MG-17650</td>\n",
       "      <td>Matthew Grinstein</td>\n",
       "      <td>Home Office</td>\n",
       "      <td>Lunel</td>\n",
       "      <td>Languedoc-Roussillon</td>\n",
       "      <td>...</td>\n",
       "      <td>OFF-BI-10004554</td>\n",
       "      <td>Office Supplies</td>\n",
       "      <td>Binders</td>\n",
       "      <td>Avery Index Tab, Clear</td>\n",
       "      <td>12.6600</td>\n",
       "      <td>2</td>\n",
       "      <td>0.00</td>\n",
       "      <td>0.4800</td>\n",
       "      <td>2.67</td>\n",
       "      <td>High</td>\n",
       "    </tr>\n",
       "    <tr>\n",
       "      <th>2840</th>\n",
       "      <td>40993</td>\n",
       "      <td>CA-2011-144281</td>\n",
       "      <td>10/6/2011</td>\n",
       "      <td>15-06-2011</td>\n",
       "      <td>Second Class</td>\n",
       "      <td>HK-14890</td>\n",
       "      <td>Heather Kirkland</td>\n",
       "      <td>Corporate</td>\n",
       "      <td>Detroit</td>\n",
       "      <td>Michigan</td>\n",
       "      <td>...</td>\n",
       "      <td>OFF-LA-10003930</td>\n",
       "      <td>Office Supplies</td>\n",
       "      <td>Labels</td>\n",
       "      <td>Dot Matrix Printer Tape Reel Labels, White, 50...</td>\n",
       "      <td>491.5500</td>\n",
       "      <td>5</td>\n",
       "      <td>0.00</td>\n",
       "      <td>240.8595</td>\n",
       "      <td>11.76</td>\n",
       "      <td>Medium</td>\n",
       "    </tr>\n",
       "    <tr>\n",
       "      <th>2843</th>\n",
       "      <td>21673</td>\n",
       "      <td>IN-2011-54561</td>\n",
       "      <td>10/6/2011</td>\n",
       "      <td>17-06-2011</td>\n",
       "      <td>Standard Class</td>\n",
       "      <td>JM-15535</td>\n",
       "      <td>Jessica Myrick</td>\n",
       "      <td>Consumer</td>\n",
       "      <td>Saga</td>\n",
       "      <td>Saga</td>\n",
       "      <td>...</td>\n",
       "      <td>OFF-FA-10001375</td>\n",
       "      <td>Office Supplies</td>\n",
       "      <td>Fasteners</td>\n",
       "      <td>Accos Clamps, 12 Pack</td>\n",
       "      <td>75.2400</td>\n",
       "      <td>4</td>\n",
       "      <td>0.00</td>\n",
       "      <td>6.0000</td>\n",
       "      <td>8.22</td>\n",
       "      <td>Low</td>\n",
       "    </tr>\n",
       "    <tr>\n",
       "      <th>2870</th>\n",
       "      <td>42199</td>\n",
       "      <td>PL-2011-10</td>\n",
       "      <td>10/8/2011</td>\n",
       "      <td>13-08-2011</td>\n",
       "      <td>Second Class</td>\n",
       "      <td>NS-8505</td>\n",
       "      <td>Neola Schneider</td>\n",
       "      <td>Consumer</td>\n",
       "      <td>Poznan</td>\n",
       "      <td>Greater Poland</td>\n",
       "      <td>...</td>\n",
       "      <td>OFF-GRE-10002561</td>\n",
       "      <td>Office Supplies</td>\n",
       "      <td>Paper</td>\n",
       "      <td>Green Bar Message Books, Premium</td>\n",
       "      <td>23.7900</td>\n",
       "      <td>1</td>\n",
       "      <td>0.00</td>\n",
       "      <td>2.3700</td>\n",
       "      <td>4.15</td>\n",
       "      <td>Critical</td>\n",
       "    </tr>\n",
       "    <tr>\n",
       "      <th>2903</th>\n",
       "      <td>40169</td>\n",
       "      <td>US-2011-105137</td>\n",
       "      <td>10/10/2011</td>\n",
       "      <td>10/10/2011</td>\n",
       "      <td>Same Day</td>\n",
       "      <td>RB-19435</td>\n",
       "      <td>Richard Bierner</td>\n",
       "      <td>Consumer</td>\n",
       "      <td>Columbus</td>\n",
       "      <td>Ohio</td>\n",
       "      <td>...</td>\n",
       "      <td>TEC-MA-10002694</td>\n",
       "      <td>Technology</td>\n",
       "      <td>Machines</td>\n",
       "      <td>Hewlett-Packard Deskjet F4180 All-in-One Color...</td>\n",
       "      <td>101.9940</td>\n",
       "      <td>2</td>\n",
       "      <td>0.70</td>\n",
       "      <td>-71.3958</td>\n",
       "      <td>8.91</td>\n",
       "      <td>High</td>\n",
       "    </tr>\n",
       "    <tr>\n",
       "      <th>2936</th>\n",
       "      <td>5833</td>\n",
       "      <td>MX-2011-135398</td>\n",
       "      <td>10/11/2011</td>\n",
       "      <td>14-11-2011</td>\n",
       "      <td>Standard Class</td>\n",
       "      <td>TZ-21445</td>\n",
       "      <td>Tom Zandusky</td>\n",
       "      <td>Corporate</td>\n",
       "      <td>Obregón</td>\n",
       "      <td>Sonora</td>\n",
       "      <td>...</td>\n",
       "      <td>TEC-AC-10004743</td>\n",
       "      <td>Technology</td>\n",
       "      <td>Accessories</td>\n",
       "      <td>Logitech Router, USB</td>\n",
       "      <td>330.0400</td>\n",
       "      <td>2</td>\n",
       "      <td>0.00</td>\n",
       "      <td>118.8000</td>\n",
       "      <td>12.11</td>\n",
       "      <td>Medium</td>\n",
       "    </tr>\n",
       "    <tr>\n",
       "      <th>2958</th>\n",
       "      <td>36463</td>\n",
       "      <td>CA-2011-121006</td>\n",
       "      <td>10/11/2011</td>\n",
       "      <td>16-11-2011</td>\n",
       "      <td>Standard Class</td>\n",
       "      <td>SC-20020</td>\n",
       "      <td>Sam Craven</td>\n",
       "      <td>Consumer</td>\n",
       "      <td>Midland</td>\n",
       "      <td>Michigan</td>\n",
       "      <td>...</td>\n",
       "      <td>OFF-PA-10002479</td>\n",
       "      <td>Office Supplies</td>\n",
       "      <td>Paper</td>\n",
       "      <td>Xerox 4200 Series MultiUse Premium Copy Paper ...</td>\n",
       "      <td>15.8400</td>\n",
       "      <td>3</td>\n",
       "      <td>0.00</td>\n",
       "      <td>7.1280</td>\n",
       "      <td>0.87</td>\n",
       "      <td>Medium</td>\n",
       "    </tr>\n",
       "    <tr>\n",
       "      <th>3003</th>\n",
       "      <td>31055</td>\n",
       "      <td>ID-2011-82589</td>\n",
       "      <td>11/1/2011</td>\n",
       "      <td>15-01-2011</td>\n",
       "      <td>Standard Class</td>\n",
       "      <td>TN-21040</td>\n",
       "      <td>Tanja Norvell</td>\n",
       "      <td>Home Office</td>\n",
       "      <td>Dunedin</td>\n",
       "      <td>Otago</td>\n",
       "      <td>...</td>\n",
       "      <td>OFF-EN-10000128</td>\n",
       "      <td>Office Supplies</td>\n",
       "      <td>Envelopes</td>\n",
       "      <td>GlobeWeis Interoffice Envelope, Set of 50</td>\n",
       "      <td>114.7680</td>\n",
       "      <td>4</td>\n",
       "      <td>0.40</td>\n",
       "      <td>-47.8320</td>\n",
       "      <td>10.52</td>\n",
       "      <td>Medium</td>\n",
       "    </tr>\n",
       "    <tr>\n",
       "      <th>3047</th>\n",
       "      <td>26597</td>\n",
       "      <td>ID-2011-23978</td>\n",
       "      <td>11/4/2011</td>\n",
       "      <td>18-04-2011</td>\n",
       "      <td>Standard Class</td>\n",
       "      <td>SS-20875</td>\n",
       "      <td>Sung Shariari</td>\n",
       "      <td>Consumer</td>\n",
       "      <td>Kendari</td>\n",
       "      <td>Sulawesi Tenggara</td>\n",
       "      <td>...</td>\n",
       "      <td>OFF-ST-10004608</td>\n",
       "      <td>Office Supplies</td>\n",
       "      <td>Storage</td>\n",
       "      <td>Smead Shelving, Industrial</td>\n",
       "      <td>492.1236</td>\n",
       "      <td>12</td>\n",
       "      <td>0.17</td>\n",
       "      <td>-41.7564</td>\n",
       "      <td>83.25</td>\n",
       "      <td>Low</td>\n",
       "    </tr>\n",
       "    <tr>\n",
       "      <th>3054</th>\n",
       "      <td>7800</td>\n",
       "      <td>MX-2011-101175</td>\n",
       "      <td>11/4/2011</td>\n",
       "      <td>13-04-2011</td>\n",
       "      <td>Second Class</td>\n",
       "      <td>JS-15595</td>\n",
       "      <td>Jill Stevenson</td>\n",
       "      <td>Corporate</td>\n",
       "      <td>Mejicanos</td>\n",
       "      <td>San Salvador</td>\n",
       "      <td>...</td>\n",
       "      <td>OFF-ST-10000028</td>\n",
       "      <td>Office Supplies</td>\n",
       "      <td>Storage</td>\n",
       "      <td>Rogers Shelving, Blue</td>\n",
       "      <td>82.8400</td>\n",
       "      <td>2</td>\n",
       "      <td>0.00</td>\n",
       "      <td>21.5200</td>\n",
       "      <td>9.87</td>\n",
       "      <td>Medium</td>\n",
       "    </tr>\n",
       "    <tr>\n",
       "      <th>3104</th>\n",
       "      <td>41230</td>\n",
       "      <td>CA-2011-166555</td>\n",
       "      <td>11/7/2011</td>\n",
       "      <td>14-07-2011</td>\n",
       "      <td>First Class</td>\n",
       "      <td>JK-15205</td>\n",
       "      <td>Jamie Kunitz</td>\n",
       "      <td>Consumer</td>\n",
       "      <td>Niagara Falls</td>\n",
       "      <td>New York</td>\n",
       "      <td>...</td>\n",
       "      <td>TEC-PH-10004912</td>\n",
       "      <td>Technology</td>\n",
       "      <td>Phones</td>\n",
       "      <td>Cisco SPA112 2 Port Phone Adapter</td>\n",
       "      <td>164.8500</td>\n",
       "      <td>3</td>\n",
       "      <td>0.00</td>\n",
       "      <td>47.8065</td>\n",
       "      <td>21.73</td>\n",
       "      <td>Medium</td>\n",
       "    </tr>\n",
       "    <tr>\n",
       "      <th>3107</th>\n",
       "      <td>32326</td>\n",
       "      <td>CA-2011-163552</td>\n",
       "      <td>11/7/2011</td>\n",
       "      <td>15-07-2011</td>\n",
       "      <td>Standard Class</td>\n",
       "      <td>LA-16780</td>\n",
       "      <td>Laura Armstrong</td>\n",
       "      <td>Corporate</td>\n",
       "      <td>Hackensack</td>\n",
       "      <td>New Jersey</td>\n",
       "      <td>...</td>\n",
       "      <td>TEC-PH-10003885</td>\n",
       "      <td>Technology</td>\n",
       "      <td>Phones</td>\n",
       "      <td>Cisco SPA508G</td>\n",
       "      <td>197.9700</td>\n",
       "      <td>3</td>\n",
       "      <td>0.00</td>\n",
       "      <td>57.4113</td>\n",
       "      <td>13.28</td>\n",
       "      <td>Medium</td>\n",
       "    </tr>\n",
       "    <tr>\n",
       "      <th>3116</th>\n",
       "      <td>37098</td>\n",
       "      <td>CA-2011-123225</td>\n",
       "      <td>11/7/2011</td>\n",
       "      <td>14-07-2011</td>\n",
       "      <td>First Class</td>\n",
       "      <td>MN-17935</td>\n",
       "      <td>Michael Nguyen</td>\n",
       "      <td>Consumer</td>\n",
       "      <td>El Paso</td>\n",
       "      <td>Texas</td>\n",
       "      <td>...</td>\n",
       "      <td>OFF-PA-10000552</td>\n",
       "      <td>Office Supplies</td>\n",
       "      <td>Paper</td>\n",
       "      <td>Xerox 200</td>\n",
       "      <td>10.3680</td>\n",
       "      <td>2</td>\n",
       "      <td>0.20</td>\n",
       "      <td>3.6288</td>\n",
       "      <td>1.17</td>\n",
       "      <td>High</td>\n",
       "    </tr>\n",
       "    <tr>\n",
       "      <th>3391</th>\n",
       "      <td>15600</td>\n",
       "      <td>ES-2011-2087720</td>\n",
       "      <td>12/8/2011</td>\n",
       "      <td>19-08-2011</td>\n",
       "      <td>Standard Class</td>\n",
       "      <td>CB-12415</td>\n",
       "      <td>Christy Brittain</td>\n",
       "      <td>Consumer</td>\n",
       "      <td>Sunderland</td>\n",
       "      <td>England</td>\n",
       "      <td>...</td>\n",
       "      <td>TEC-PH-10001432</td>\n",
       "      <td>Technology</td>\n",
       "      <td>Phones</td>\n",
       "      <td>Motorola Signal Booster, Cordless</td>\n",
       "      <td>583.9200</td>\n",
       "      <td>4</td>\n",
       "      <td>0.00</td>\n",
       "      <td>262.6800</td>\n",
       "      <td>6.58</td>\n",
       "      <td>Medium</td>\n",
       "    </tr>\n",
       "    <tr>\n",
       "      <th>3518</th>\n",
       "      <td>45926</td>\n",
       "      <td>CG-2011-9940</td>\n",
       "      <td>12/12/2011</td>\n",
       "      <td>16-12-2011</td>\n",
       "      <td>Standard Class</td>\n",
       "      <td>AZ-750</td>\n",
       "      <td>Annie Zypern</td>\n",
       "      <td>Consumer</td>\n",
       "      <td>Kinshasa</td>\n",
       "      <td>Kinshasa</td>\n",
       "      <td>...</td>\n",
       "      <td>OFF-TEN-10000025</td>\n",
       "      <td>Office Supplies</td>\n",
       "      <td>Storage</td>\n",
       "      <td>Tenex Lockers, Blue</td>\n",
       "      <td>204.1500</td>\n",
       "      <td>1</td>\n",
       "      <td>0.00</td>\n",
       "      <td>53.0700</td>\n",
       "      <td>12.82</td>\n",
       "      <td>Medium</td>\n",
       "    </tr>\n",
       "  </tbody>\n",
       "</table>\n",
       "<p>49 rows × 24 columns</p>\n",
       "</div>"
      ],
      "text/plain": [
       "      Row ID         Order ID  Order Date   Ship Date       Ship Mode  \\\n",
       "26     15218  ES-2011-3893444    1/3/2011    5/3/2011  Standard Class   \n",
       "70     21918    IN-2011-59986    1/3/2011    3/3/2011     First Class   \n",
       "248    21082    ID-2011-77619   1/11/2011   2/11/2011     First Class   \n",
       "291    44461     AL-2011-4500   1/11/2011   5/11/2011  Standard Class   \n",
       "337    41701     NI-2011-1760   1/12/2011   3/12/2011    Second Class   \n",
       "375    10718  ES-2011-1640672    2/2/2011    5/2/2011     First Class   \n",
       "497    26112    IN-2011-52125    2/8/2011    3/8/2011     First Class   \n",
       "554    49885     CG-2011-6740    2/9/2011    3/9/2011     First Class   \n",
       "613    47196     TU-2011-3090   2/11/2011   6/11/2011  Standard Class   \n",
       "771    47551     CG-2011-9150    3/5/2011    7/5/2011  Standard Class   \n",
       "772    35159   CA-2011-135755    3/5/2011   10/5/2011  Standard Class   \n",
       "857    50482     TU-2011-3610    3/8/2011    6/8/2011    Second Class   \n",
       "888    49832     GG-2011-9830   3/10/2011   5/10/2011     First Class   \n",
       "904    11180  IT-2011-3461936   3/10/2011   9/10/2011  Standard Class   \n",
       "912    21286    IN-2011-28087   3/11/2011   5/11/2011    Second Class   \n",
       "1202   31615   CA-2011-164973   4/11/2011   9/11/2011  Standard Class   \n",
       "1314   13707  ES-2011-5793145    5/5/2011   10/5/2011  Standard Class   \n",
       "1508   36869   CA-2011-151162   5/12/2011   9/12/2011  Standard Class   \n",
       "1557   48702     RO-2011-2520    6/5/2011   11/5/2011  Standard Class   \n",
       "1572   43386     RO-2011-6750    6/5/2011   11/5/2011  Standard Class   \n",
       "1666   21852    IN-2011-50060    6/9/2011  13-09-2011  Standard Class   \n",
       "1842   37860   CA-2011-166086    7/5/2011   12/5/2011  Standard Class   \n",
       "1895    4342   MX-2011-103345    7/6/2011  14-06-2011  Standard Class   \n",
       "1959   50358     RO-2011-2770    7/9/2011  13-09-2011  Standard Class   \n",
       "1989    2229   MX-2011-155271   7/10/2011  10/10/2011    Second Class   \n",
       "2035   22460    ID-2011-23012   7/11/2011   9/11/2011    Second Class   \n",
       "2082   38277   CA-2011-146990   7/11/2011   8/11/2011     First Class   \n",
       "2106   24174    IN-2011-38307   7/12/2011  11/12/2011  Standard Class   \n",
       "2138   23821    IN-2011-67028    8/3/2011   12/3/2011  Standard Class   \n",
       "2291   43815     NI-2011-4700    8/9/2011   10/9/2011    Second Class   \n",
       "2292   44340     NI-2011-1020    8/9/2011   10/9/2011    Second Class   \n",
       "2445   29582    ID-2011-46483    9/1/2011  13-01-2011  Standard Class   \n",
       "2484   15023  IT-2011-1716540    9/4/2011   11/4/2011    Second Class   \n",
       "2604   38729   CA-2011-161249    9/8/2011  13-08-2011  Standard Class   \n",
       "2717   13681  ES-2011-5898391   9/12/2011  10/12/2011     First Class   \n",
       "2840   40993   CA-2011-144281   10/6/2011  15-06-2011    Second Class   \n",
       "2843   21673    IN-2011-54561   10/6/2011  17-06-2011  Standard Class   \n",
       "2870   42199       PL-2011-10   10/8/2011  13-08-2011    Second Class   \n",
       "2903   40169   US-2011-105137  10/10/2011  10/10/2011        Same Day   \n",
       "2936    5833   MX-2011-135398  10/11/2011  14-11-2011  Standard Class   \n",
       "2958   36463   CA-2011-121006  10/11/2011  16-11-2011  Standard Class   \n",
       "3003   31055    ID-2011-82589   11/1/2011  15-01-2011  Standard Class   \n",
       "3047   26597    ID-2011-23978   11/4/2011  18-04-2011  Standard Class   \n",
       "3054    7800   MX-2011-101175   11/4/2011  13-04-2011    Second Class   \n",
       "3104   41230   CA-2011-166555   11/7/2011  14-07-2011     First Class   \n",
       "3107   32326   CA-2011-163552   11/7/2011  15-07-2011  Standard Class   \n",
       "3116   37098   CA-2011-123225   11/7/2011  14-07-2011     First Class   \n",
       "3391   15600  ES-2011-2087720   12/8/2011  19-08-2011  Standard Class   \n",
       "3518   45926     CG-2011-9940  12/12/2011  16-12-2011  Standard Class   \n",
       "\n",
       "     Customer ID      Customer Name      Segment           City  \\\n",
       "26      TB-21400   Tom Boeckenhauer     Consumer         Berlin   \n",
       "70      KH-16360   Katherine Hughes     Consumer       Adelaide   \n",
       "248     MK-18160       Mike Kennedy     Consumer          Seoul   \n",
       "291      EM-3825  Elizabeth Moffitt    Corporate          Korce   \n",
       "337      FG-4260    Frank Gastineau  Home Office         Ibadan   \n",
       "375     KH-16630         Ken Heidel    Corporate        Dresden   \n",
       "497     RH-19495        Rick Hansen     Consumer       Shangzhi   \n",
       "554     SO-10335     Sean O'Donnell     Consumer       Kinshasa   \n",
       "613      FH-4350        Fred Harton     Consumer         Mersin   \n",
       "771      EH-3990      Erica Hackney     Consumer      Kisangani   \n",
       "772     NC-18415        Nathan Cano     Consumer        Yonkers   \n",
       "857      JR-5700     Jocasta Rupert     Consumer       Istanbul   \n",
       "888      BS-1590      Brendan Sweed    Corporate        Tbilisi   \n",
       "904     AG-10900      Arthur Gainer     Consumer         Novara   \n",
       "912     DP-13105       Dave Poirier    Corporate     Gold Coast   \n",
       "1202    NM-18445       Nathan Mautz  Home Office  New York City   \n",
       "1314    SC-20695      Steve Chapman    Corporate         Vienna   \n",
       "1508    EA-14035      Erin Ashbrook    Corporate       Columbus   \n",
       "1557      AT-735      Annie Thurman     Consumer         Galati   \n",
       "1572     BS-1800      Bryan Spruell  Home Office       Botosani   \n",
       "1666    MC-17575       Matt Collins     Consumer       Yancheng   \n",
       "1842    CT-11995       Carol Triggs     Consumer       Lawrence   \n",
       "1895    DK-12895        Dana Kaydos     Consumer      Monterrey   \n",
       "1959     KN-6705      Kristina Nunn  Home Office          Bacau   \n",
       "1989    CL-12565        Clay Ludtke     Consumer     Cienfuegos   \n",
       "2035    NC-18625        Noah Childs    Corporate        Daejeon   \n",
       "2082    BP-11095       Bart Pistole    Corporate  New York City   \n",
       "2106    SE-20110       Sanjit Engle     Consumer          Latur   \n",
       "2138    DK-13150     David Kendrick    Corporate         Manila   \n",
       "2291     PO-8865  Patrick O'Donnell     Consumer          Lagos   \n",
       "2292     LD-7005     Lisa DeCherney     Consumer           Kano   \n",
       "2445    SC-20050   Sample Company A  Home Office      San Pedro   \n",
       "2484    CS-12490   Cindy Schnelling    Corporate        Coimbra   \n",
       "2604    RD-19720        Roger Demir     Consumer        Phoenix   \n",
       "2717    MG-17650  Matthew Grinstein  Home Office          Lunel   \n",
       "2840    HK-14890   Heather Kirkland    Corporate        Detroit   \n",
       "2843    JM-15535     Jessica Myrick     Consumer           Saga   \n",
       "2870     NS-8505    Neola Schneider     Consumer         Poznan   \n",
       "2903    RB-19435    Richard Bierner     Consumer       Columbus   \n",
       "2936    TZ-21445       Tom Zandusky    Corporate        Obregón   \n",
       "2958    SC-20020         Sam Craven     Consumer        Midland   \n",
       "3003    TN-21040      Tanja Norvell  Home Office        Dunedin   \n",
       "3047    SS-20875      Sung Shariari     Consumer        Kendari   \n",
       "3054    JS-15595     Jill Stevenson    Corporate      Mejicanos   \n",
       "3104    JK-15205       Jamie Kunitz     Consumer  Niagara Falls   \n",
       "3107    LA-16780    Laura Armstrong    Corporate     Hackensack   \n",
       "3116    MN-17935     Michael Nguyen     Consumer        El Paso   \n",
       "3391    CB-12415   Christy Brittain     Consumer     Sunderland   \n",
       "3518      AZ-750       Annie Zypern     Consumer       Kinshasa   \n",
       "\n",
       "                     State  ...        Product ID         Category  \\\n",
       "26                  Berlin  ...   OFF-AP-10002568  Office Supplies   \n",
       "70         South Australia  ...   OFF-BI-10004436  Office Supplies   \n",
       "248                  Seoul  ...   OFF-AP-10002882  Office Supplies   \n",
       "291                  Korçë  ...  OFF-AVE-10002892  Office Supplies   \n",
       "337                    Oyo  ...  OFF-ADV-10002549  Office Supplies   \n",
       "375                 Saxony  ...   OFF-PA-10000908  Office Supplies   \n",
       "497           Heilongjiang  ...   FUR-CH-10000110        Furniture   \n",
       "554               Kinshasa  ...  OFF-HON-10001102  Office Supplies   \n",
       "613                 Mersin  ...  TEC-MOT-10001950       Technology   \n",
       "771              Orientale  ...  OFF-ELD-10000024  Office Supplies   \n",
       "772               New York  ...   OFF-BI-10003981  Office Supplies   \n",
       "857               Istanbul  ...  OFF-SME-10002417  Office Supplies   \n",
       "888                Tbilisi  ...  OFF-AVE-10004251  Office Supplies   \n",
       "904               Piedmont  ...   OFF-LA-10002490  Office Supplies   \n",
       "912             Queensland  ...   OFF-AP-10004246  Office Supplies   \n",
       "1202              New York  ...   TEC-MA-10002927       Technology   \n",
       "1314                Vienna  ...   TEC-CO-10000660       Technology   \n",
       "1508                  Ohio  ...   OFF-BI-10003719  Office Supplies   \n",
       "1557                Galati  ...  TEC-NOK-10002555       Technology   \n",
       "1572              Botosani  ...  OFF-GRE-10001521  Office Supplies   \n",
       "1666               Jiangsu  ...   FUR-CH-10004447        Furniture   \n",
       "1842         Massachusetts  ...   FUR-TA-10003469        Furniture   \n",
       "1895            Nuevo León  ...   OFF-EN-10002348  Office Supplies   \n",
       "1959                 Bacau  ...  TEC-KON-10003077       Technology   \n",
       "1989            Cienfuegos  ...   OFF-BI-10001324  Office Supplies   \n",
       "2035               Daejeon  ...   TEC-MA-10002520       Technology   \n",
       "2082              New York  ...   OFF-FA-10000611  Office Supplies   \n",
       "2106           Maharashtra  ...   OFF-BI-10000305  Office Supplies   \n",
       "2138      National Capital  ...   TEC-PH-10003713       Technology   \n",
       "2291                 Lagos  ...  OFF-SAN-10003393  Office Supplies   \n",
       "2292                  Kano  ...  OFF-STA-10000247  Office Supplies   \n",
       "2445            Calabarzon  ...   OFF-PA-10003405  Office Supplies   \n",
       "2484               Coimbra  ...   OFF-EN-10002013  Office Supplies   \n",
       "2604               Arizona  ...   OFF-FA-10004838  Office Supplies   \n",
       "2717  Languedoc-Roussillon  ...   OFF-BI-10004554  Office Supplies   \n",
       "2840              Michigan  ...   OFF-LA-10003930  Office Supplies   \n",
       "2843                  Saga  ...   OFF-FA-10001375  Office Supplies   \n",
       "2870        Greater Poland  ...  OFF-GRE-10002561  Office Supplies   \n",
       "2903                  Ohio  ...   TEC-MA-10002694       Technology   \n",
       "2936                Sonora  ...   TEC-AC-10004743       Technology   \n",
       "2958              Michigan  ...   OFF-PA-10002479  Office Supplies   \n",
       "3003                 Otago  ...   OFF-EN-10000128  Office Supplies   \n",
       "3047     Sulawesi Tenggara  ...   OFF-ST-10004608  Office Supplies   \n",
       "3054          San Salvador  ...   OFF-ST-10000028  Office Supplies   \n",
       "3104              New York  ...   TEC-PH-10004912       Technology   \n",
       "3107            New Jersey  ...   TEC-PH-10003885       Technology   \n",
       "3116                 Texas  ...   OFF-PA-10000552  Office Supplies   \n",
       "3391               England  ...   TEC-PH-10001432       Technology   \n",
       "3518              Kinshasa  ...  OFF-TEN-10000025  Office Supplies   \n",
       "\n",
       "     Sub-Category                                       Product Name  \\\n",
       "26     Appliances                      Hamilton Beach Toaster, Black   \n",
       "70        Binders                 Acco Hole Reinforcements, Recycled   \n",
       "248    Appliances                  KitchenAid Coffee Grinder, Silver   \n",
       "291       Binders                       Avery 3-Hole Punch, Recycled   \n",
       "337     Fasteners              Advantus Rubber Bands, Assorted Sizes   \n",
       "375         Paper                          Xerox Note Cards, Premium   \n",
       "497        Chairs                                Hon Bag Chairs, Red   \n",
       "554        Labels               Hon Legal Exhibit Labels, Adjustable   \n",
       "613        Phones                        Motorola Headset, Full Size   \n",
       "771       Storage                                Eldon Folders, Blue   \n",
       "772       Binders                   Avery Durable Plastic 1\" Binders   \n",
       "857       Storage                          Smead Trays, Single Width   \n",
       "888       Binders                     Avery Binding Machine, Economy   \n",
       "904        Labels                     Hon Round Labels, Alphabetical   \n",
       "912    Appliances                                Breville Stove, Red   \n",
       "1202     Machines  Canon imageCLASS MF7460 Monochrome Digital Las...   \n",
       "1314      Copiers                        Hewlett Copy Machine, Color   \n",
       "1508      Binders                Large Capacity Hanging Post Binders   \n",
       "1557       Phones                             Nokia Audio Dock, VoIP   \n",
       "1572        Paper                  Green Bar Message Books, Recycled   \n",
       "1666       Chairs        Harbour Creations Rocking Chair, Set of Two   \n",
       "1842       Tables           Balt Split Level Computer Training Table   \n",
       "1895    Envelopes                     Cameo Peel and Seal, Set of 50   \n",
       "1959     Machines                        Konica Calculator, Wireless   \n",
       "1989      Binders                         Acco 3-Hole Punch, Economy   \n",
       "2035     Machines                   Panasonic Receipt Printer, White   \n",
       "2082    Fasteners                                Binder Clips by OIC   \n",
       "2106      Binders                    Wilson Jones Index Tab, Durable   \n",
       "2138       Phones                        Nokia Smart Phone, Cordless   \n",
       "2291        Paper                SanDisk Cards & Envelopes, Recycled   \n",
       "2292          Art                        Stanley Canvas, Fluorescent   \n",
       "2445        Paper                      Green Bar Memo Slips, Premium   \n",
       "2484    Envelopes            Cameo Business Envelopes, Security-Tint   \n",
       "2604    Fasteners                               Super Bands, 12/Pack   \n",
       "2717      Binders                             Avery Index Tab, Clear   \n",
       "2840       Labels  Dot Matrix Printer Tape Reel Labels, White, 50...   \n",
       "2843    Fasteners                              Accos Clamps, 12 Pack   \n",
       "2870        Paper                   Green Bar Message Books, Premium   \n",
       "2903     Machines  Hewlett-Packard Deskjet F4180 All-in-One Color...   \n",
       "2936  Accessories                               Logitech Router, USB   \n",
       "2958        Paper  Xerox 4200 Series MultiUse Premium Copy Paper ...   \n",
       "3003    Envelopes          GlobeWeis Interoffice Envelope, Set of 50   \n",
       "3047      Storage                         Smead Shelving, Industrial   \n",
       "3054      Storage                              Rogers Shelving, Blue   \n",
       "3104       Phones                  Cisco SPA112 2 Port Phone Adapter   \n",
       "3107       Phones                                      Cisco SPA508G   \n",
       "3116        Paper                                          Xerox 200   \n",
       "3391       Phones                  Motorola Signal Booster, Cordless   \n",
       "3518      Storage                                Tenex Lockers, Blue   \n",
       "\n",
       "          Sales Quantity Discount     Profit  Shipping Cost  Order Priority  \n",
       "26     364.4160        8     0.20    45.4560          80.67            High  \n",
       "70      12.6360        2     0.10    -1.1640           1.05            High  \n",
       "248    142.4400        4     0.50   -25.6800          30.95        Critical  \n",
       "291     28.2300        1     0.00     0.0000           1.94          Medium  \n",
       "337     25.2720        6     0.70   -40.6080           3.10            High  \n",
       "375     13.1850        1     0.50    -7.9350           1.83            High  \n",
       "497     90.3000        2     0.00    38.8200          22.38            High  \n",
       "554     35.0400        4     0.00     5.5200          10.30            High  \n",
       "613     64.8240        2     0.60   -61.5960           5.51          Medium  \n",
       "771     16.9800        1     0.00     2.8800           1.21            High  \n",
       "772     10.8960        3     0.20     3.9498           0.90          Medium  \n",
       "857     19.4040        1     0.60   -13.5960           2.64            High  \n",
       "888     97.6800        2     0.00    11.7000          13.19          Medium  \n",
       "904     38.8800        6     0.00     0.3600           1.98          Medium  \n",
       "912   2526.9300        5     0.10   561.4800         689.80        Critical  \n",
       "1202  3991.9800        2     0.00  1995.9900         276.89            High  \n",
       "1314  1047.4800        4     0.00   523.6800          90.56          Medium  \n",
       "1508    29.9400        4     0.70   -23.9520           0.63          Medium  \n",
       "1557   166.8300        1     0.00    46.7100          13.93          Medium  \n",
       "1572    23.7000        1     0.00     8.5200           1.30          Medium  \n",
       "1666   149.3400        1     0.00     2.9700           8.50          Medium  \n",
       "1842   194.2500        2     0.30   -38.8500          21.73            High  \n",
       "1895    42.0000        3     0.00     2.5200           2.97          Medium  \n",
       "1959    51.6300        1     0.00    24.2400           2.42          Medium  \n",
       "1989    80.3200        4     0.00     6.4000          12.82            High  \n",
       "2035   238.6200        4     0.50  -176.5800          29.31          Medium  \n",
       "2082     5.9200        4     0.00     2.8416           0.47          Medium  \n",
       "2106    15.9000        2     0.00     2.8200           2.34            High  \n",
       "2138   954.2250        2     0.25    38.1450          20.84          Medium  \n",
       "2291    86.9940        6     0.70  -191.4660           7.51            High  \n",
       "2292    60.8760        4     0.70   -77.1240           7.35            High  \n",
       "2445     9.3225        1     0.45    -1.7175           0.69            High  \n",
       "2484    16.9500        2     0.50    -4.7700           3.41            High  \n",
       "2604     4.4640        3     0.20    -0.9486           0.23          Medium  \n",
       "2717    12.6600        2     0.00     0.4800           2.67            High  \n",
       "2840   491.5500        5     0.00   240.8595          11.76          Medium  \n",
       "2843    75.2400        4     0.00     6.0000           8.22             Low  \n",
       "2870    23.7900        1     0.00     2.3700           4.15        Critical  \n",
       "2903   101.9940        2     0.70   -71.3958           8.91            High  \n",
       "2936   330.0400        2     0.00   118.8000          12.11          Medium  \n",
       "2958    15.8400        3     0.00     7.1280           0.87          Medium  \n",
       "3003   114.7680        4     0.40   -47.8320          10.52          Medium  \n",
       "3047   492.1236       12     0.17   -41.7564          83.25             Low  \n",
       "3054    82.8400        2     0.00    21.5200           9.87          Medium  \n",
       "3104   164.8500        3     0.00    47.8065          21.73          Medium  \n",
       "3107   197.9700        3     0.00    57.4113          13.28          Medium  \n",
       "3116    10.3680        2     0.20     3.6288           1.17            High  \n",
       "3391   583.9200        4     0.00   262.6800           6.58          Medium  \n",
       "3518   204.1500        1     0.00    53.0700          12.82          Medium  \n",
       "\n",
       "[49 rows x 24 columns]"
      ]
     },
     "execution_count": 109,
     "metadata": {},
     "output_type": "execute_result"
    }
   ],
   "source": [
    "high_value_orders "
   ]
  },
  {
   "cell_type": "code",
   "execution_count": null,
   "id": "52c125e7",
   "metadata": {},
   "outputs": [],
   "source": []
  }
 ],
 "metadata": {
  "kernelspec": {
   "display_name": "Python 3 (ipykernel)",
   "language": "python",
   "name": "python3"
  },
  "language_info": {
   "codemirror_mode": {
    "name": "ipython",
    "version": 3
   },
   "file_extension": ".py",
   "mimetype": "text/x-python",
   "name": "python",
   "nbconvert_exporter": "python",
   "pygments_lexer": "ipython3",
   "version": "3.9.7"
  }
 },
 "nbformat": 4,
 "nbformat_minor": 5
}
