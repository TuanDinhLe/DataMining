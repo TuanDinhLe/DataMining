{
 "cells": [
  {
   "cell_type": "code",
   "execution_count": 1,
   "id": "101ea2e0",
   "metadata": {
    "ExecuteTime": {
     "end_time": "2021-12-13T00:44:54.063943Z",
     "start_time": "2021-12-13T00:44:47.464099Z"
    }
   },
   "outputs": [],
   "source": [
    "# import required libraries for dataframe and visualization\n",
    "\n",
    "import numpy as np\n",
    "import pandas as pd\n",
    "import matplotlib.pyplot as plt\n",
    "import seaborn as sns\n",
    "import datetime as dt\n",
    "\n",
    "# import required libraries for clustering\n",
    "import sklearn\n",
    "from sklearn.preprocessing import MinMaxScaler\n",
    "from sklearn.cluster import KMeans\n",
    "from sklearn_extra.cluster import KMedoids\n",
    "from sklearn.metrics import silhouette_score\n",
    "from kmodes.kprototypes import KPrototypes"
   ]
  },
  {
   "cell_type": "code",
   "execution_count": 2,
   "id": "9d655577",
   "metadata": {
    "ExecuteTime": {
     "end_time": "2021-12-13T00:44:56.686836Z",
     "start_time": "2021-12-13T00:44:56.318432Z"
    },
    "scrolled": true
   },
   "outputs": [],
   "source": [
    "# Read in all orders.\n",
    "orders = pd.read_csv('superstore_dataset2011-2015.csv', header=0, encoding='ISO-8859-1')"
   ]
  },
  {
   "cell_type": "code",
   "execution_count": 3,
   "id": "e575edb0",
   "metadata": {
    "ExecuteTime": {
     "end_time": "2021-12-13T00:44:57.447429Z",
     "start_time": "2021-12-13T00:44:57.384597Z"
    }
   },
   "outputs": [
    {
     "name": "stdout",
     "output_type": "stream",
     "text": [
      "<class 'pandas.core.frame.DataFrame'>\n",
      "RangeIndex: 51290 entries, 0 to 51289\n",
      "Data columns (total 24 columns):\n",
      " #   Column          Non-Null Count  Dtype  \n",
      "---  ------          --------------  -----  \n",
      " 0   Row ID          51290 non-null  int64  \n",
      " 1   Order ID        51290 non-null  object \n",
      " 2   Order Date      51290 non-null  object \n",
      " 3   Ship Date       51290 non-null  object \n",
      " 4   Ship Mode       51290 non-null  object \n",
      " 5   Customer ID     51290 non-null  object \n",
      " 6   Customer Name   51290 non-null  object \n",
      " 7   Segment         51290 non-null  object \n",
      " 8   City            51290 non-null  object \n",
      " 9   State           51290 non-null  object \n",
      " 10  Country         51290 non-null  object \n",
      " 11  Postal Code     9994 non-null   float64\n",
      " 12  Market          51290 non-null  object \n",
      " 13  Region          51290 non-null  object \n",
      " 14  Product ID      51290 non-null  object \n",
      " 15  Category        51290 non-null  object \n",
      " 16  Sub-Category    51290 non-null  object \n",
      " 17  Product Name    51290 non-null  object \n",
      " 18  Sales           51290 non-null  float64\n",
      " 19  Quantity        51290 non-null  int64  \n",
      " 20  Discount        51290 non-null  float64\n",
      " 21  Profit          51290 non-null  float64\n",
      " 22  Shipping Cost   51290 non-null  float64\n",
      " 23  Order Priority  51290 non-null  object \n",
      "dtypes: float64(5), int64(2), object(17)\n",
      "memory usage: 9.4+ MB\n"
     ]
    }
   ],
   "source": [
    "# Display dataset's data types.\n",
    "orders.info()"
   ]
  },
  {
   "cell_type": "code",
   "execution_count": 4,
   "id": "3ca5091c",
   "metadata": {
    "ExecuteTime": {
     "end_time": "2021-12-13T00:45:01.303795Z",
     "start_time": "2021-12-13T00:45:01.140188Z"
    }
   },
   "outputs": [],
   "source": [
    "orders = orders.drop_duplicates()"
   ]
  },
  {
   "cell_type": "code",
   "execution_count": 5,
   "id": "9c492d52",
   "metadata": {
    "ExecuteTime": {
     "end_time": "2021-12-13T00:45:02.301763Z",
     "start_time": "2021-12-13T00:45:02.242922Z"
    }
   },
   "outputs": [
    {
     "name": "stdout",
     "output_type": "stream",
     "text": [
      "<class 'pandas.core.frame.DataFrame'>\n",
      "Int64Index: 51290 entries, 0 to 51289\n",
      "Data columns (total 24 columns):\n",
      " #   Column          Non-Null Count  Dtype  \n",
      "---  ------          --------------  -----  \n",
      " 0   Row ID          51290 non-null  int64  \n",
      " 1   Order ID        51290 non-null  object \n",
      " 2   Order Date      51290 non-null  object \n",
      " 3   Ship Date       51290 non-null  object \n",
      " 4   Ship Mode       51290 non-null  object \n",
      " 5   Customer ID     51290 non-null  object \n",
      " 6   Customer Name   51290 non-null  object \n",
      " 7   Segment         51290 non-null  object \n",
      " 8   City            51290 non-null  object \n",
      " 9   State           51290 non-null  object \n",
      " 10  Country         51290 non-null  object \n",
      " 11  Postal Code     9994 non-null   float64\n",
      " 12  Market          51290 non-null  object \n",
      " 13  Region          51290 non-null  object \n",
      " 14  Product ID      51290 non-null  object \n",
      " 15  Category        51290 non-null  object \n",
      " 16  Sub-Category    51290 non-null  object \n",
      " 17  Product Name    51290 non-null  object \n",
      " 18  Sales           51290 non-null  float64\n",
      " 19  Quantity        51290 non-null  int64  \n",
      " 20  Discount        51290 non-null  float64\n",
      " 21  Profit          51290 non-null  float64\n",
      " 22  Shipping Cost   51290 non-null  float64\n",
      " 23  Order Priority  51290 non-null  object \n",
      "dtypes: float64(5), int64(2), object(17)\n",
      "memory usage: 9.8+ MB\n"
     ]
    }
   ],
   "source": [
    "orders.info()"
   ]
  },
  {
   "cell_type": "code",
   "execution_count": 6,
   "id": "0172eb15",
   "metadata": {
    "ExecuteTime": {
     "end_time": "2021-12-13T00:45:03.243629Z",
     "start_time": "2021-12-13T00:45:03.234651Z"
    }
   },
   "outputs": [
    {
     "data": {
      "text/plain": [
       "(51290, 24)"
      ]
     },
     "execution_count": 6,
     "metadata": {},
     "output_type": "execute_result"
    }
   ],
   "source": [
    "# Dsiplay the dataset's number of rows and columns pre-formatting\n",
    "orders.shape"
   ]
  },
  {
   "cell_type": "code",
   "execution_count": 7,
   "id": "42b77928",
   "metadata": {
    "ExecuteTime": {
     "end_time": "2021-12-13T00:45:04.141227Z",
     "start_time": "2021-12-13T00:45:04.096270Z"
    },
    "scrolled": true
   },
   "outputs": [
    {
     "data": {
      "text/html": [
       "<div>\n",
       "<style scoped>\n",
       "    .dataframe tbody tr th:only-of-type {\n",
       "        vertical-align: middle;\n",
       "    }\n",
       "\n",
       "    .dataframe tbody tr th {\n",
       "        vertical-align: top;\n",
       "    }\n",
       "\n",
       "    .dataframe thead th {\n",
       "        text-align: right;\n",
       "    }\n",
       "</style>\n",
       "<table border=\"1\" class=\"dataframe\">\n",
       "  <thead>\n",
       "    <tr style=\"text-align: right;\">\n",
       "      <th></th>\n",
       "      <th>Row ID</th>\n",
       "      <th>Postal Code</th>\n",
       "      <th>Sales</th>\n",
       "      <th>Quantity</th>\n",
       "      <th>Discount</th>\n",
       "      <th>Profit</th>\n",
       "      <th>Shipping Cost</th>\n",
       "    </tr>\n",
       "  </thead>\n",
       "  <tbody>\n",
       "    <tr>\n",
       "      <th>count</th>\n",
       "      <td>51290.00000</td>\n",
       "      <td>9994.000000</td>\n",
       "      <td>51290.000000</td>\n",
       "      <td>51290.000000</td>\n",
       "      <td>51290.000000</td>\n",
       "      <td>51290.000000</td>\n",
       "      <td>51290.000000</td>\n",
       "    </tr>\n",
       "    <tr>\n",
       "      <th>mean</th>\n",
       "      <td>25645.50000</td>\n",
       "      <td>55190.379428</td>\n",
       "      <td>246.490581</td>\n",
       "      <td>3.476545</td>\n",
       "      <td>0.142908</td>\n",
       "      <td>28.610982</td>\n",
       "      <td>26.375915</td>\n",
       "    </tr>\n",
       "    <tr>\n",
       "      <th>std</th>\n",
       "      <td>14806.29199</td>\n",
       "      <td>32063.693350</td>\n",
       "      <td>487.565361</td>\n",
       "      <td>2.278766</td>\n",
       "      <td>0.212280</td>\n",
       "      <td>174.340972</td>\n",
       "      <td>57.296804</td>\n",
       "    </tr>\n",
       "    <tr>\n",
       "      <th>min</th>\n",
       "      <td>1.00000</td>\n",
       "      <td>1040.000000</td>\n",
       "      <td>0.444000</td>\n",
       "      <td>1.000000</td>\n",
       "      <td>0.000000</td>\n",
       "      <td>-6599.978000</td>\n",
       "      <td>0.000000</td>\n",
       "    </tr>\n",
       "    <tr>\n",
       "      <th>25%</th>\n",
       "      <td>12823.25000</td>\n",
       "      <td>23223.000000</td>\n",
       "      <td>30.758625</td>\n",
       "      <td>2.000000</td>\n",
       "      <td>0.000000</td>\n",
       "      <td>0.000000</td>\n",
       "      <td>2.610000</td>\n",
       "    </tr>\n",
       "    <tr>\n",
       "      <th>50%</th>\n",
       "      <td>25645.50000</td>\n",
       "      <td>56430.500000</td>\n",
       "      <td>85.053000</td>\n",
       "      <td>3.000000</td>\n",
       "      <td>0.000000</td>\n",
       "      <td>9.240000</td>\n",
       "      <td>7.790000</td>\n",
       "    </tr>\n",
       "    <tr>\n",
       "      <th>75%</th>\n",
       "      <td>38467.75000</td>\n",
       "      <td>90008.000000</td>\n",
       "      <td>251.053200</td>\n",
       "      <td>5.000000</td>\n",
       "      <td>0.200000</td>\n",
       "      <td>36.810000</td>\n",
       "      <td>24.450000</td>\n",
       "    </tr>\n",
       "    <tr>\n",
       "      <th>max</th>\n",
       "      <td>51290.00000</td>\n",
       "      <td>99301.000000</td>\n",
       "      <td>22638.480000</td>\n",
       "      <td>14.000000</td>\n",
       "      <td>0.850000</td>\n",
       "      <td>8399.976000</td>\n",
       "      <td>933.570000</td>\n",
       "    </tr>\n",
       "  </tbody>\n",
       "</table>\n",
       "</div>"
      ],
      "text/plain": [
       "            Row ID   Postal Code         Sales      Quantity      Discount  \\\n",
       "count  51290.00000   9994.000000  51290.000000  51290.000000  51290.000000   \n",
       "mean   25645.50000  55190.379428    246.490581      3.476545      0.142908   \n",
       "std    14806.29199  32063.693350    487.565361      2.278766      0.212280   \n",
       "min        1.00000   1040.000000      0.444000      1.000000      0.000000   \n",
       "25%    12823.25000  23223.000000     30.758625      2.000000      0.000000   \n",
       "50%    25645.50000  56430.500000     85.053000      3.000000      0.000000   \n",
       "75%    38467.75000  90008.000000    251.053200      5.000000      0.200000   \n",
       "max    51290.00000  99301.000000  22638.480000     14.000000      0.850000   \n",
       "\n",
       "             Profit  Shipping Cost  \n",
       "count  51290.000000   51290.000000  \n",
       "mean      28.610982      26.375915  \n",
       "std      174.340972      57.296804  \n",
       "min    -6599.978000       0.000000  \n",
       "25%        0.000000       2.610000  \n",
       "50%        9.240000       7.790000  \n",
       "75%       36.810000      24.450000  \n",
       "max     8399.976000     933.570000  "
      ]
     },
     "execution_count": 7,
     "metadata": {},
     "output_type": "execute_result"
    }
   ],
   "source": [
    "# Display the dataset's basic stat.\n",
    "orders.describe()"
   ]
  },
  {
   "cell_type": "code",
   "execution_count": 8,
   "id": "fbee1be1",
   "metadata": {
    "ExecuteTime": {
     "end_time": "2021-12-13T00:45:04.891270Z",
     "start_time": "2021-12-13T00:45:04.831081Z"
    }
   },
   "outputs": [
    {
     "data": {
      "text/plain": [
       "Row ID             0.00\n",
       "Order ID           0.00\n",
       "Order Date         0.00\n",
       "Ship Date          0.00\n",
       "Ship Mode          0.00\n",
       "Customer ID        0.00\n",
       "Customer Name      0.00\n",
       "Segment            0.00\n",
       "City               0.00\n",
       "State              0.00\n",
       "Country            0.00\n",
       "Postal Code       80.51\n",
       "Market             0.00\n",
       "Region             0.00\n",
       "Product ID         0.00\n",
       "Category           0.00\n",
       "Sub-Category       0.00\n",
       "Product Name       0.00\n",
       "Sales              0.00\n",
       "Quantity           0.00\n",
       "Discount           0.00\n",
       "Profit             0.00\n",
       "Shipping Cost      0.00\n",
       "Order Priority     0.00\n",
       "dtype: float64"
      ]
     },
     "execution_count": 8,
     "metadata": {},
     "output_type": "execute_result"
    }
   ],
   "source": [
    "# Checking for null fields\n",
    "df_null = round(100*(orders.isnull().sum())/len(orders), 2)\n",
    "df_null"
   ]
  },
  {
   "cell_type": "markdown",
   "id": "72b57097",
   "metadata": {},
   "source": [
    "# Profit-Sales-ShippingCost"
   ]
  },
  {
   "cell_type": "code",
   "execution_count": 9,
   "id": "cec97811",
   "metadata": {
    "ExecuteTime": {
     "end_time": "2021-12-13T00:45:18.884680Z",
     "start_time": "2021-12-13T00:45:18.835851Z"
    }
   },
   "outputs": [
    {
     "data": {
      "text/html": [
       "<div>\n",
       "<style scoped>\n",
       "    .dataframe tbody tr th:only-of-type {\n",
       "        vertical-align: middle;\n",
       "    }\n",
       "\n",
       "    .dataframe tbody tr th {\n",
       "        vertical-align: top;\n",
       "    }\n",
       "\n",
       "    .dataframe thead th {\n",
       "        text-align: right;\n",
       "    }\n",
       "</style>\n",
       "<table border=\"1\" class=\"dataframe\">\n",
       "  <thead>\n",
       "    <tr style=\"text-align: right;\">\n",
       "      <th></th>\n",
       "      <th>City</th>\n",
       "      <th>Profit</th>\n",
       "    </tr>\n",
       "  </thead>\n",
       "  <tbody>\n",
       "    <tr>\n",
       "      <th>0</th>\n",
       "      <td>Aachen</td>\n",
       "      <td>1116.981</td>\n",
       "    </tr>\n",
       "    <tr>\n",
       "      <th>1</th>\n",
       "      <td>Aalen</td>\n",
       "      <td>283.005</td>\n",
       "    </tr>\n",
       "    <tr>\n",
       "      <th>2</th>\n",
       "      <td>Aalst</td>\n",
       "      <td>152.310</td>\n",
       "    </tr>\n",
       "    <tr>\n",
       "      <th>3</th>\n",
       "      <td>Aba</td>\n",
       "      <td>-1475.556</td>\n",
       "    </tr>\n",
       "    <tr>\n",
       "      <th>4</th>\n",
       "      <td>Abadan</td>\n",
       "      <td>233.820</td>\n",
       "    </tr>\n",
       "  </tbody>\n",
       "</table>\n",
       "</div>"
      ],
      "text/plain": [
       "     City    Profit\n",
       "0  Aachen  1116.981\n",
       "1   Aalen   283.005\n",
       "2   Aalst   152.310\n",
       "3     Aba -1475.556\n",
       "4  Abadan   233.820"
      ]
     },
     "execution_count": 9,
     "metadata": {},
     "output_type": "execute_result"
    }
   ],
   "source": [
    "# Profit column\n",
    "profit_column = orders.groupby('City')['Profit'].sum()\n",
    "profit_column = profit_column.reset_index()\n",
    "profit_column.columns = ['City', 'Profit']\n",
    "profit_column.head()"
   ]
  },
  {
   "cell_type": "code",
   "execution_count": 10,
   "id": "61de1bf9",
   "metadata": {
    "ExecuteTime": {
     "end_time": "2021-12-13T00:45:21.295036Z",
     "start_time": "2021-12-13T00:45:21.261108Z"
    }
   },
   "outputs": [
    {
     "data": {
      "text/html": [
       "<div>\n",
       "<style scoped>\n",
       "    .dataframe tbody tr th:only-of-type {\n",
       "        vertical-align: middle;\n",
       "    }\n",
       "\n",
       "    .dataframe tbody tr th {\n",
       "        vertical-align: top;\n",
       "    }\n",
       "\n",
       "    .dataframe thead th {\n",
       "        text-align: right;\n",
       "    }\n",
       "</style>\n",
       "<table border=\"1\" class=\"dataframe\">\n",
       "  <thead>\n",
       "    <tr style=\"text-align: right;\">\n",
       "      <th></th>\n",
       "      <th>City</th>\n",
       "      <th>Sales</th>\n",
       "    </tr>\n",
       "  </thead>\n",
       "  <tbody>\n",
       "    <tr>\n",
       "      <th>0</th>\n",
       "      <td>Aachen</td>\n",
       "      <td>3803.151</td>\n",
       "    </tr>\n",
       "    <tr>\n",
       "      <th>1</th>\n",
       "      <td>Aalen</td>\n",
       "      <td>979.695</td>\n",
       "    </tr>\n",
       "    <tr>\n",
       "      <th>2</th>\n",
       "      <td>Aalst</td>\n",
       "      <td>387.330</td>\n",
       "    </tr>\n",
       "    <tr>\n",
       "      <th>3</th>\n",
       "      <td>Aba</td>\n",
       "      <td>1064.124</td>\n",
       "    </tr>\n",
       "    <tr>\n",
       "      <th>4</th>\n",
       "      <td>Abadan</td>\n",
       "      <td>1354.950</td>\n",
       "    </tr>\n",
       "  </tbody>\n",
       "</table>\n",
       "</div>"
      ],
      "text/plain": [
       "     City     Sales\n",
       "0  Aachen  3803.151\n",
       "1   Aalen   979.695\n",
       "2   Aalst   387.330\n",
       "3     Aba  1064.124\n",
       "4  Abadan  1354.950"
      ]
     },
     "execution_count": 10,
     "metadata": {},
     "output_type": "execute_result"
    }
   ],
   "source": [
    "# Sales column\n",
    "sales_column = orders.groupby('City')['Sales'].sum()\n",
    "sales_column = sales_column.reset_index()\n",
    "sales_column.columns = ['City', 'Sales']\n",
    "sales_column.head()"
   ]
  },
  {
   "cell_type": "code",
   "execution_count": 11,
   "id": "4dfe69d1",
   "metadata": {
    "ExecuteTime": {
     "end_time": "2021-12-13T00:45:23.372682Z",
     "start_time": "2021-12-13T00:45:23.338737Z"
    }
   },
   "outputs": [
    {
     "data": {
      "text/html": [
       "<div>\n",
       "<style scoped>\n",
       "    .dataframe tbody tr th:only-of-type {\n",
       "        vertical-align: middle;\n",
       "    }\n",
       "\n",
       "    .dataframe tbody tr th {\n",
       "        vertical-align: top;\n",
       "    }\n",
       "\n",
       "    .dataframe thead th {\n",
       "        text-align: right;\n",
       "    }\n",
       "</style>\n",
       "<table border=\"1\" class=\"dataframe\">\n",
       "  <thead>\n",
       "    <tr style=\"text-align: right;\">\n",
       "      <th></th>\n",
       "      <th>City</th>\n",
       "      <th>ShippingCost</th>\n",
       "    </tr>\n",
       "  </thead>\n",
       "  <tbody>\n",
       "    <tr>\n",
       "      <th>0</th>\n",
       "      <td>Aachen</td>\n",
       "      <td>391.28</td>\n",
       "    </tr>\n",
       "    <tr>\n",
       "      <th>1</th>\n",
       "      <td>Aalen</td>\n",
       "      <td>81.97</td>\n",
       "    </tr>\n",
       "    <tr>\n",
       "      <th>2</th>\n",
       "      <td>Aalst</td>\n",
       "      <td>30.19</td>\n",
       "    </tr>\n",
       "    <tr>\n",
       "      <th>3</th>\n",
       "      <td>Aba</td>\n",
       "      <td>122.45</td>\n",
       "    </tr>\n",
       "    <tr>\n",
       "      <th>4</th>\n",
       "      <td>Abadan</td>\n",
       "      <td>116.22</td>\n",
       "    </tr>\n",
       "  </tbody>\n",
       "</table>\n",
       "</div>"
      ],
      "text/plain": [
       "     City  ShippingCost\n",
       "0  Aachen        391.28\n",
       "1   Aalen         81.97\n",
       "2   Aalst         30.19\n",
       "3     Aba        122.45\n",
       "4  Abadan        116.22"
      ]
     },
     "execution_count": 11,
     "metadata": {},
     "output_type": "execute_result"
    }
   ],
   "source": [
    "# Shipping Cost column\n",
    "shippingCost_column = orders.groupby('City')['Shipping Cost'].sum()\n",
    "shippingCost_column = shippingCost_column.reset_index()\n",
    "shippingCost_column.columns = ['City', 'ShippingCost']\n",
    "shippingCost_column.head()"
   ]
  },
  {
   "cell_type": "code",
   "execution_count": 12,
   "id": "67bba791",
   "metadata": {
    "ExecuteTime": {
     "end_time": "2021-12-13T00:45:24.132926Z",
     "start_time": "2021-12-13T00:45:24.096024Z"
    }
   },
   "outputs": [
    {
     "data": {
      "text/html": [
       "<div>\n",
       "<style scoped>\n",
       "    .dataframe tbody tr th:only-of-type {\n",
       "        vertical-align: middle;\n",
       "    }\n",
       "\n",
       "    .dataframe tbody tr th {\n",
       "        vertical-align: top;\n",
       "    }\n",
       "\n",
       "    .dataframe thead th {\n",
       "        text-align: right;\n",
       "    }\n",
       "</style>\n",
       "<table border=\"1\" class=\"dataframe\">\n",
       "  <thead>\n",
       "    <tr style=\"text-align: right;\">\n",
       "      <th></th>\n",
       "      <th>City</th>\n",
       "      <th>Profit</th>\n",
       "      <th>Sales</th>\n",
       "      <th>ShippingCost</th>\n",
       "    </tr>\n",
       "  </thead>\n",
       "  <tbody>\n",
       "    <tr>\n",
       "      <th>0</th>\n",
       "      <td>Aachen</td>\n",
       "      <td>1116.981</td>\n",
       "      <td>3803.151</td>\n",
       "      <td>391.28</td>\n",
       "    </tr>\n",
       "    <tr>\n",
       "      <th>1</th>\n",
       "      <td>Aalen</td>\n",
       "      <td>283.005</td>\n",
       "      <td>979.695</td>\n",
       "      <td>81.97</td>\n",
       "    </tr>\n",
       "    <tr>\n",
       "      <th>2</th>\n",
       "      <td>Aalst</td>\n",
       "      <td>152.310</td>\n",
       "      <td>387.330</td>\n",
       "      <td>30.19</td>\n",
       "    </tr>\n",
       "    <tr>\n",
       "      <th>3</th>\n",
       "      <td>Aba</td>\n",
       "      <td>-1475.556</td>\n",
       "      <td>1064.124</td>\n",
       "      <td>122.45</td>\n",
       "    </tr>\n",
       "    <tr>\n",
       "      <th>4</th>\n",
       "      <td>Abadan</td>\n",
       "      <td>233.820</td>\n",
       "      <td>1354.950</td>\n",
       "      <td>116.22</td>\n",
       "    </tr>\n",
       "  </tbody>\n",
       "</table>\n",
       "</div>"
      ],
      "text/plain": [
       "     City    Profit     Sales  ShippingCost\n",
       "0  Aachen  1116.981  3803.151        391.28\n",
       "1   Aalen   283.005   979.695         81.97\n",
       "2   Aalst   152.310   387.330         30.19\n",
       "3     Aba -1475.556  1064.124        122.45\n",
       "4  Abadan   233.820  1354.950        116.22"
      ]
     },
     "execution_count": 12,
     "metadata": {},
     "output_type": "execute_result"
    }
   ],
   "source": [
    "# Merging dataframes\n",
    "profit_sales = pd.merge(profit_column, sales_column, on='City', how='inner')\n",
    "profit_sales_shippingCost = pd.merge(profit_sales, shippingCost_column, on='City', how='inner')\n",
    "profit_sales_shippingCost.columns = ['City', 'Profit', 'Sales', 'ShippingCost']\n",
    "profit_sales_shippingCost.head()"
   ]
  },
  {
   "cell_type": "code",
   "execution_count": 13,
   "id": "ab016fd9",
   "metadata": {
    "ExecuteTime": {
     "end_time": "2021-12-13T00:45:25.145889Z",
     "start_time": "2021-12-13T00:45:24.873227Z"
    }
   },
   "outputs": [
    {
     "data": {
      "text/plain": [
       "Text(0.5, 0, 'Attributes')"
      ]
     },
     "execution_count": 13,
     "metadata": {},
     "output_type": "execute_result"
    },
    {
     "data": {
      "image/png": "[encoded data removed]",
      "text/plain": [
       "<Figure size 720x576 with 1 Axes>"
      ]
     },
     "metadata": {
      "needs_background": "light"
     },
     "output_type": "display_data"
    }
   ],
   "source": [
    "# Detect outliers\n",
    "\n",
    "attributes = ['Profit','Sales','ShippingCost']\n",
    "plt.rcParams['figure.figsize'] = [10,8]\n",
    "sns.boxplot(data = profit_sales_shippingCost[attributes], orient=\"v\", palette=\"Set2\" ,whis=1.5,saturation=1, width=0.7)\n",
    "plt.title(\"Outliers Variable Distribution\", fontsize = 14, fontweight = 'bold')\n",
    "plt.ylabel(\"Range\", fontweight = 'bold')\n",
    "plt.xlabel(\"Attributes\", fontweight = 'bold')"
   ]
  },
  {
   "cell_type": "code",
   "execution_count": 14,
   "id": "c0557f3b",
   "metadata": {
    "ExecuteTime": {
     "end_time": "2021-12-13T00:45:29.716974Z",
     "start_time": "2021-12-13T00:45:27.469269Z"
    }
   },
   "outputs": [
    {
     "data": {
      "text/plain": [
       "(-15000.0, 15000.0)"
      ]
     },
     "execution_count": 14,
     "metadata": {},
     "output_type": "execute_result"
    },
    {
     "data": {
      "image/png": "[encoded data removed]",
      "text/plain": [
       "<Figure size 360x360 with 1 Axes>"
      ]
     },
     "metadata": {
      "needs_background": "light"
     },
     "output_type": "display_data"
    }
   ],
   "source": [
    "sns.displot(profit_sales_shippingCost['Profit'])\n",
    "plt.ylim(0, 500)\n",
    "plt.xlim(-15000, 15000)"
   ]
  },
  {
   "cell_type": "code",
   "execution_count": 15,
   "id": "a1a74b9e",
   "metadata": {
    "ExecuteTime": {
     "end_time": "2021-12-13T00:45:35.025599Z",
     "start_time": "2021-12-13T00:45:33.840734Z"
    }
   },
   "outputs": [
    {
     "data": {
      "text/plain": [
       "(0.0, 15000.0)"
      ]
     },
     "execution_count": 15,
     "metadata": {},
     "output_type": "execute_result"
    },
    {
     "data": {
      "image/png": "[encoded data removed]",
      "text/plain": [
       "<Figure size 360x360 with 1 Axes>"
      ]
     },
     "metadata": {
      "needs_background": "light"
     },
     "output_type": "display_data"
    }
   ],
   "source": [
    "sns.displot(profit_sales_shippingCost['Sales'])\n",
    "plt.ylim(0, 500)\n",
    "plt.xlim(0, 15000)"
   ]
  },
  {
   "cell_type": "code",
   "execution_count": 16,
   "id": "2ce3f2bd",
   "metadata": {
    "ExecuteTime": {
     "end_time": "2021-12-13T00:45:36.365787Z",
     "start_time": "2021-12-13T00:45:35.027566Z"
    }
   },
   "outputs": [
    {
     "data": {
      "text/plain": [
       "(0.0, 15000.0)"
      ]
     },
     "execution_count": 16,
     "metadata": {},
     "output_type": "execute_result"
    },
    {
     "data": {
      "image/png": "[encoded data removed]",
      "text/plain": [
       "<Figure size 360x360 with 1 Axes>"
      ]
     },
     "metadata": {
      "needs_background": "light"
     },
     "output_type": "display_data"
    }
   ],
   "source": [
    "sns.displot(profit_sales_shippingCost['ShippingCost'])\n",
    "plt.ylim(0, 500)\n",
    "plt.xlim(0, 15000)"
   ]
  },
  {
   "cell_type": "code",
   "execution_count": 17,
   "id": "1761a13e",
   "metadata": {
    "ExecuteTime": {
     "end_time": "2021-12-13T00:45:36.397703Z",
     "start_time": "2021-12-13T00:45:36.368779Z"
    }
   },
   "outputs": [],
   "source": [
    "# Removing (statistical) outliers for Sales\n",
    "Q1 = profit_sales_shippingCost.Sales.quantile(0.25)\n",
    "Q3 = profit_sales_shippingCost.Sales.quantile(0.75)\n",
    "IQR = Q3 - Q1\n",
    "rfm = profit_sales_shippingCost[(profit_sales_shippingCost.Sales >= Q1 - 1.5*IQR) & (profit_sales_shippingCost.Sales <= Q3 + 1.5*IQR)]\n",
    "\n",
    "# Removing (statistical) outliers for Shipping Cost\n",
    "Q1 = profit_sales_shippingCost.ShippingCost.quantile(0.25)\n",
    "Q3 = profit_sales_shippingCost.ShippingCost.quantile(0.75)\n",
    "IQR = Q3 - Q1\n",
    "rfm = profit_sales_shippingCost[(profit_sales_shippingCost.ShippingCost >= Q1 - 1.5*IQR) & (profit_sales_shippingCost.ShippingCost <= Q3 + 1.5*IQR)]"
   ]
  },
  {
   "cell_type": "code",
   "execution_count": 18,
   "id": "c3972c43",
   "metadata": {
    "ExecuteTime": {
     "end_time": "2021-12-13T00:45:38.762835Z",
     "start_time": "2021-12-13T00:45:36.401693Z"
    }
   },
   "outputs": [
    {
     "data": {
      "text/plain": [
       "(-15000.0, 15000.0)"
      ]
     },
     "execution_count": 18,
     "metadata": {},
     "output_type": "execute_result"
    },
    {
     "data": {
      "image/png": "[encoded data removed]",
      "text/plain": [
       "<Figure size 360x360 with 1 Axes>"
      ]
     },
     "metadata": {
      "needs_background": "light"
     },
     "output_type": "display_data"
    }
   ],
   "source": [
    "sns.displot(profit_sales_shippingCost['Profit'])\n",
    "plt.ylim(0, 500)\n",
    "plt.xlim(-15000, 15000)"
   ]
  },
  {
   "cell_type": "code",
   "execution_count": 19,
   "id": "7ed11e19",
   "metadata": {
    "ExecuteTime": {
     "end_time": "2021-12-13T00:45:39.947631Z",
     "start_time": "2021-12-13T00:45:38.767828Z"
    }
   },
   "outputs": [
    {
     "data": {
      "text/plain": [
       "(0.0, 15000.0)"
      ]
     },
     "execution_count": 19,
     "metadata": {},
     "output_type": "execute_result"
    },
    {
     "data": {
      "image/png": "[encoded data removed]",
      "text/plain": [
       "<Figure size 360x360 with 1 Axes>"
      ]
     },
     "metadata": {
      "needs_background": "light"
     },
     "output_type": "display_data"
    }
   ],
   "source": [
    "sns.displot(profit_sales_shippingCost['Sales'])\n",
    "plt.ylim(0, 500)\n",
    "plt.xlim(0, 15000)"
   ]
  },
  {
   "cell_type": "code",
   "execution_count": 20,
   "id": "2b978b09",
   "metadata": {
    "ExecuteTime": {
     "end_time": "2021-12-13T00:45:41.238693Z",
     "start_time": "2021-12-13T00:45:39.949625Z"
    }
   },
   "outputs": [
    {
     "data": {
      "text/plain": [
       "(0.0, 15000.0)"
      ]
     },
     "execution_count": 20,
     "metadata": {},
     "output_type": "execute_result"
    },
    {
     "data": {
      "image/png": "[encoded data removed]",
      "text/plain": [
       "<Figure size 360x360 with 1 Axes>"
      ]
     },
     "metadata": {
      "needs_background": "light"
     },
     "output_type": "display_data"
    }
   ],
   "source": [
    "sns.displot(profit_sales_shippingCost['ShippingCost'])\n",
    "plt.ylim(0, 500)\n",
    "plt.xlim(0, 15000)"
   ]
  },
  {
   "cell_type": "code",
   "execution_count": 21,
   "id": "b308be82",
   "metadata": {
    "ExecuteTime": {
     "end_time": "2021-12-13T00:45:41.254653Z",
     "start_time": "2021-12-13T00:45:41.240691Z"
    }
   },
   "outputs": [
    {
     "data": {
      "text/plain": [
       "(3636, 3)"
      ]
     },
     "execution_count": 21,
     "metadata": {},
     "output_type": "execute_result"
    }
   ],
   "source": [
    "# Rescaling the attributes\n",
    "\n",
    "psc = profit_sales_shippingCost[['Profit', 'Sales', 'ShippingCost']]\n",
    "\n",
    "# Instantiate\n",
    "scaler = MinMaxScaler()\n",
    "\n",
    "# fit_transform\n",
    "psc_scaled = scaler.fit_transform(psc)\n",
    "psc_scaled.shape"
   ]
  },
  {
   "cell_type": "code",
   "execution_count": 22,
   "id": "f88628d9",
   "metadata": {
    "ExecuteTime": {
     "end_time": "2021-12-13T00:45:41.285570Z",
     "start_time": "2021-12-13T00:45:41.257644Z"
    }
   },
   "outputs": [
    {
     "data": {
      "text/html": [
       "<div>\n",
       "<style scoped>\n",
       "    .dataframe tbody tr th:only-of-type {\n",
       "        vertical-align: middle;\n",
       "    }\n",
       "\n",
       "    .dataframe tbody tr th {\n",
       "        vertical-align: top;\n",
       "    }\n",
       "\n",
       "    .dataframe thead th {\n",
       "        text-align: right;\n",
       "    }\n",
       "</style>\n",
       "<table border=\"1\" class=\"dataframe\">\n",
       "  <thead>\n",
       "    <tr style=\"text-align: right;\">\n",
       "      <th></th>\n",
       "      <th>Profit</th>\n",
       "      <th>Sales</th>\n",
       "      <th>ShippingCost</th>\n",
       "    </tr>\n",
       "  </thead>\n",
       "  <tbody>\n",
       "    <tr>\n",
       "      <th>0</th>\n",
       "      <td>0.307408</td>\n",
       "      <td>0.014829</td>\n",
       "      <td>0.014516</td>\n",
       "    </tr>\n",
       "    <tr>\n",
       "      <th>1</th>\n",
       "      <td>0.297927</td>\n",
       "      <td>0.003816</td>\n",
       "      <td>0.003038</td>\n",
       "    </tr>\n",
       "    <tr>\n",
       "      <th>2</th>\n",
       "      <td>0.296441</td>\n",
       "      <td>0.001505</td>\n",
       "      <td>0.001117</td>\n",
       "    </tr>\n",
       "    <tr>\n",
       "      <th>3</th>\n",
       "      <td>0.277934</td>\n",
       "      <td>0.004145</td>\n",
       "      <td>0.004541</td>\n",
       "    </tr>\n",
       "    <tr>\n",
       "      <th>4</th>\n",
       "      <td>0.297368</td>\n",
       "      <td>0.005280</td>\n",
       "      <td>0.004309</td>\n",
       "    </tr>\n",
       "  </tbody>\n",
       "</table>\n",
       "</div>"
      ],
      "text/plain": [
       "     Profit     Sales  ShippingCost\n",
       "0  0.307408  0.014829      0.014516\n",
       "1  0.297927  0.003816      0.003038\n",
       "2  0.296441  0.001505      0.001117\n",
       "3  0.277934  0.004145      0.004541\n",
       "4  0.297368  0.005280      0.004309"
      ]
     },
     "execution_count": 22,
     "metadata": {},
     "output_type": "execute_result"
    }
   ],
   "source": [
    "psc_scaled = pd.DataFrame(psc_scaled)\n",
    "psc_scaled.columns = ['Profit', 'Sales', 'ShippingCost']\n",
    "psc_scaled.head()"
   ]
  },
  {
   "cell_type": "code",
   "execution_count": 23,
   "id": "353ae216",
   "metadata": {
    "ExecuteTime": {
     "end_time": "2021-12-13T00:45:43.576318Z",
     "start_time": "2021-12-13T00:45:41.804057Z"
    }
   },
   "outputs": [
    {
     "data": {
      "text/plain": [
       "Text(0, 0.5, 'Average within Cluster Sum Of Squares')"
      ]
     },
     "execution_count": 23,
     "metadata": {},
     "output_type": "execute_result"
    },
    {
     "data": {
      "image/png": "[encoded data removed]",
      "text/plain": [
       "<Figure size 720x576 with 1 Axes>"
      ]
     },
     "metadata": {
      "needs_background": "light"
     },
     "output_type": "display_data"
    }
   ],
   "source": [
    "# Elbow-curve/SSD\n",
    "\n",
    "ssd = []\n",
    "range_n_clusters = [2, 3, 4, 5, 6, 7, 8]\n",
    "for num_clusters in range_n_clusters:\n",
    "    kmeans = KMeans(n_clusters=num_clusters, max_iter=50, init='random', algorithm='elkan')\n",
    "    kmeans.fit(psc_scaled)\n",
    "    \n",
    "    ssd.append(kmeans.inertia_)\n",
    "    \n",
    "# plot the SSDs for each n_clusters\n",
    "plt.plot(ssd)\n",
    "plt.xlabel('Number of Clusters')\n",
    "plt.ylabel('Average within Cluster Sum Of Squares')\n",
    "# y-axis: SSD\n",
    "# x-axis: Number of clusters\n",
    "# Choose a balance point to avoid over-fitting."
   ]
  },
  {
   "cell_type": "code",
   "execution_count": 24,
   "id": "c1b8bdd0",
   "metadata": {
    "ExecuteTime": {
     "end_time": "2021-12-13T00:45:47.426991Z",
     "start_time": "2021-12-13T00:45:43.579281Z"
    }
   },
   "outputs": [
    {
     "name": "stdout",
     "output_type": "stream",
     "text": [
      "For n_clusters=2, the silhouette score is 0.9303563385577867\n",
      "For n_clusters=3, the silhouette score is 0.8277006069610854\n",
      "For n_clusters=4, the silhouette score is 0.713982282329861\n",
      "For n_clusters=5, the silhouette score is 0.7140380799630057\n",
      "For n_clusters=6, the silhouette score is 0.6855947899637531\n",
      "For n_clusters=7, the silhouette score is 0.6208916381702443\n",
      "For n_clusters=8, the silhouette score is 0.6209471860095215\n"
     ]
    }
   ],
   "source": [
    "# Silhouette analysis\n",
    "range_n_clusters = [2, 3, 4, 5, 6, 7, 8]\n",
    "\n",
    "for num_clusters in range_n_clusters:\n",
    "    \n",
    "    # intialise kmeans\n",
    "    kmeans = KMeans(n_clusters=num_clusters, max_iter=50, init='random', algorithm='elkan')\n",
    "    kmeans.fit(psc_scaled)\n",
    "    \n",
    "    cluster_labels = kmeans.labels_\n",
    "    \n",
    "    # silhouette score\n",
    "    silhouette_avg = silhouette_score(psc_scaled, cluster_labels)\n",
    "    print(\"For n_clusters={0}, the silhouette score is {1}\".format(num_clusters, silhouette_avg))\n",
    "    \n",
    "# The higher the point, the higher similarities between items within a cluster and \n",
    "# the higher dissimilarites bettwen items in different clusters.\n",
    "# Choose a balance number to avoid over-fitting."
   ]
  },
  {
   "cell_type": "code",
   "execution_count": 25,
   "id": "db06acc9",
   "metadata": {
    "ExecuteTime": {
     "end_time": "2021-12-13T00:45:47.598533Z",
     "start_time": "2021-12-13T00:45:47.427989Z"
    }
   },
   "outputs": [
    {
     "data": {
      "text/plain": [
       "KMeans(algorithm='elkan', init='random', max_iter=50, n_clusters=4)"
      ]
     },
     "execution_count": 25,
     "metadata": {},
     "output_type": "execute_result"
    }
   ],
   "source": [
    "# Final model with k=4\n",
    "kmeans = KMeans(n_clusters=4, max_iter=50, init='random', algorithm='elkan')\n",
    "kmeans.fit(psc_scaled)"
   ]
  },
  {
   "cell_type": "code",
   "execution_count": 26,
   "id": "e9296ed3",
   "metadata": {
    "ExecuteTime": {
     "end_time": "2021-12-13T00:45:47.614489Z",
     "start_time": "2021-12-13T00:45:47.602522Z"
    }
   },
   "outputs": [
    {
     "data": {
      "text/plain": [
       "array([2, 2, 2, ..., 2, 2, 2])"
      ]
     },
     "execution_count": 26,
     "metadata": {},
     "output_type": "execute_result"
    }
   ],
   "source": [
    " kmeans.labels_"
   ]
  },
  {
   "cell_type": "code",
   "execution_count": 27,
   "id": "09c9f19e",
   "metadata": {
    "ExecuteTime": {
     "end_time": "2021-12-13T00:45:47.644411Z",
     "start_time": "2021-12-13T00:45:47.617482Z"
    }
   },
   "outputs": [
    {
     "data": {
      "text/html": [
       "<div>\n",
       "<style scoped>\n",
       "    .dataframe tbody tr th:only-of-type {\n",
       "        vertical-align: middle;\n",
       "    }\n",
       "\n",
       "    .dataframe tbody tr th {\n",
       "        vertical-align: top;\n",
       "    }\n",
       "\n",
       "    .dataframe thead th {\n",
       "        text-align: right;\n",
       "    }\n",
       "</style>\n",
       "<table border=\"1\" class=\"dataframe\">\n",
       "  <thead>\n",
       "    <tr style=\"text-align: right;\">\n",
       "      <th></th>\n",
       "      <th>Profit</th>\n",
       "      <th>Sales</th>\n",
       "      <th>ShippingCost</th>\n",
       "      <th>Cluster_Id</th>\n",
       "    </tr>\n",
       "  </thead>\n",
       "  <tbody>\n",
       "    <tr>\n",
       "      <th>0</th>\n",
       "      <td>1116.981</td>\n",
       "      <td>3803.151</td>\n",
       "      <td>391.28</td>\n",
       "      <td>2</td>\n",
       "    </tr>\n",
       "    <tr>\n",
       "      <th>1</th>\n",
       "      <td>283.005</td>\n",
       "      <td>979.695</td>\n",
       "      <td>81.97</td>\n",
       "      <td>2</td>\n",
       "    </tr>\n",
       "    <tr>\n",
       "      <th>2</th>\n",
       "      <td>152.310</td>\n",
       "      <td>387.330</td>\n",
       "      <td>30.19</td>\n",
       "      <td>2</td>\n",
       "    </tr>\n",
       "    <tr>\n",
       "      <th>3</th>\n",
       "      <td>-1475.556</td>\n",
       "      <td>1064.124</td>\n",
       "      <td>122.45</td>\n",
       "      <td>2</td>\n",
       "    </tr>\n",
       "    <tr>\n",
       "      <th>4</th>\n",
       "      <td>233.820</td>\n",
       "      <td>1354.950</td>\n",
       "      <td>116.22</td>\n",
       "      <td>2</td>\n",
       "    </tr>\n",
       "  </tbody>\n",
       "</table>\n",
       "</div>"
      ],
      "text/plain": [
       "     Profit     Sales  ShippingCost  Cluster_Id\n",
       "0  1116.981  3803.151        391.28           2\n",
       "1   283.005   979.695         81.97           2\n",
       "2   152.310   387.330         30.19           2\n",
       "3 -1475.556  1064.124        122.45           2\n",
       "4   233.820  1354.950        116.22           2"
      ]
     },
     "execution_count": 27,
     "metadata": {},
     "output_type": "execute_result"
    }
   ],
   "source": [
    "# assign the label\n",
    "psc['Cluster_Id'] = kmeans.labels_\n",
    "psc.head()"
   ]
  },
  {
   "cell_type": "code",
   "execution_count": 28,
   "id": "b0082687",
   "metadata": {
    "ExecuteTime": {
     "end_time": "2021-12-13T00:45:47.846869Z",
     "start_time": "2021-12-13T00:45:47.648402Z"
    }
   },
   "outputs": [
    {
     "data": {
      "text/plain": [
       "<AxesSubplot:xlabel='Cluster_Id', ylabel='Profit'>"
      ]
     },
     "execution_count": 28,
     "metadata": {},
     "output_type": "execute_result"
    },
    {
     "data": {
      "image/png": "[encoded data removed]",
      "text/plain": [
       "<Figure size 720x576 with 1 Axes>"
      ]
     },
     "metadata": {
      "needs_background": "light"
     },
     "output_type": "display_data"
    }
   ],
   "source": [
    "# Box plot to visualize Cluster Id vs Profit\n",
    "\n",
    "sns.boxplot(x='Cluster_Id', y='Profit', data=psc)"
   ]
  },
  {
   "cell_type": "code",
   "execution_count": 29,
   "id": "8715a159",
   "metadata": {
    "ExecuteTime": {
     "end_time": "2021-12-13T00:45:48.016414Z",
     "start_time": "2021-12-13T00:45:47.848863Z"
    }
   },
   "outputs": [
    {
     "data": {
      "text/plain": [
       "<AxesSubplot:xlabel='Cluster_Id', ylabel='Sales'>"
      ]
     },
     "execution_count": 29,
     "metadata": {},
     "output_type": "execute_result"
    },
    {
     "data": {
      "image/png": "[encoded data removed]",
      "text/plain": [
       "<Figure size 720x576 with 1 Axes>"
      ]
     },
     "metadata": {
      "needs_background": "light"
     },
     "output_type": "display_data"
    }
   ],
   "source": [
    "# Box plot to visualize Cluster Id vs Sales\n",
    "\n",
    "sns.boxplot(x='Cluster_Id', y='Sales', data=psc)"
   ]
  },
  {
   "cell_type": "code",
   "execution_count": 30,
   "id": "3b38bd0e",
   "metadata": {
    "ExecuteTime": {
     "end_time": "2021-12-13T00:45:48.186739Z",
     "start_time": "2021-12-13T00:45:48.018411Z"
    }
   },
   "outputs": [
    {
     "data": {
      "text/plain": [
       "<AxesSubplot:xlabel='Cluster_Id', ylabel='ShippingCost'>"
      ]
     },
     "execution_count": 30,
     "metadata": {},
     "output_type": "execute_result"
    },
    {
     "data": {
      "image/png": "[encoded data removed]",
      "text/plain": [
       "<Figure size 720x576 with 1 Axes>"
      ]
     },
     "metadata": {
      "needs_background": "light"
     },
     "output_type": "display_data"
    }
   ],
   "source": [
    "# Box plot to visualize Cluster Id vs Shipping Cost\n",
    "\n",
    "sns.boxplot(x='Cluster_Id', y='ShippingCost', data=psc)"
   ]
  },
  {
   "cell_type": "code",
   "execution_count": 31,
   "id": "38c6ffc1",
   "metadata": {
    "ExecuteTime": {
     "end_time": "2021-12-13T00:48:13.899165Z",
     "start_time": "2021-12-13T00:45:48.189158Z"
    }
   },
   "outputs": [
    {
     "data": {
      "text/plain": [
       "Text(0, 0.5, 'Average within Cluster Sum Of Squares')"
      ]
     },
     "execution_count": 31,
     "metadata": {},
     "output_type": "execute_result"
    },
    {
     "data": {
      "image/png": "[encoded data removed]",
      "text/plain": [
       "<Figure size 720x576 with 1 Axes>"
      ]
     },
     "metadata": {
      "needs_background": "light"
     },
     "output_type": "display_data"
    }
   ],
   "source": [
    "# Elbow-curve/SSD\n",
    "\n",
    "ssd = []\n",
    "range_n_clusters = [2, 3, 4, 5, 6, 7, 8]\n",
    "for num_clusters in range_n_clusters:\n",
    "    kmedoids = KMedoids(n_clusters=num_clusters, max_iter=50, method='pam')\n",
    "    kmedoids.fit(psc_scaled)\n",
    "    \n",
    "    ssd.append(kmedoids.inertia_)\n",
    "    \n",
    "# plot the SSDs for each n_clusters\n",
    "plt.plot(ssd)\n",
    "plt.xlabel('Number of Clusters')\n",
    "plt.ylabel('Average within Cluster Sum Of Squares')\n",
    "# y-axis: SSD\n",
    "# x-axis: Number of clusters\n",
    "# Choose a balance point to avoid over-fitting."
   ]
  },
  {
   "cell_type": "code",
   "execution_count": 32,
   "id": "f8c03618",
   "metadata": {
    "ExecuteTime": {
     "end_time": "2021-12-13T00:51:07.904417Z",
     "start_time": "2021-12-13T00:48:13.899165Z"
    }
   },
   "outputs": [
    {
     "name": "stdout",
     "output_type": "stream",
     "text": [
      "For n_clusters=2, the silhouette score is 0.6278010736392924\n",
      "For n_clusters=3, the silhouette score is 0.5926872496150054\n",
      "For n_clusters=4, the silhouette score is 0.4648899175929373\n",
      "For n_clusters=5, the silhouette score is 0.43888416557236487\n",
      "For n_clusters=6, the silhouette score is 0.3431243511722141\n",
      "For n_clusters=7, the silhouette score is 0.3535063035731479\n",
      "For n_clusters=8, the silhouette score is 0.3986867827934289\n"
     ]
    }
   ],
   "source": [
    "# Silhouette analysis\n",
    "range_n_clusters = [2, 3, 4, 5, 6, 7, 8]\n",
    "\n",
    "for num_clusters in range_n_clusters:\n",
    "    \n",
    "    # intialise kmeans\n",
    "    kmedoids = KMedoids(n_clusters=num_clusters, max_iter=50, method='pam')\n",
    "    kmedoids.fit(psc_scaled)\n",
    "    \n",
    "    cluster_labels = kmedoids.labels_\n",
    "    \n",
    "    # silhouette score\n",
    "    silhouette_avg = silhouette_score(psc_scaled, cluster_labels)\n",
    "    print(\"For n_clusters={0}, the silhouette score is {1}\".format(num_clusters, silhouette_avg))\n",
    "    \n",
    "# The higher the point, the higher similarities between items within a cluster and \n",
    "# the higher dissimilarites bettwen items in different clusters.\n",
    "# Choose a balance number to avoid over-fitting."
   ]
  },
  {
   "cell_type": "code",
   "execution_count": 33,
   "id": "a3f0c987",
   "metadata": {
    "ExecuteTime": {
     "end_time": "2021-12-13T00:51:17.494271Z",
     "start_time": "2021-12-13T00:51:07.907433Z"
    }
   },
   "outputs": [
    {
     "data": {
      "text/plain": [
       "KMedoids(init='build', max_iter=50, method='pam', n_clusters=4)"
      ]
     },
     "execution_count": 33,
     "metadata": {},
     "output_type": "execute_result"
    }
   ],
   "source": [
    "# Final model with k=4\n",
    "kmedoids = KMedoids(n_clusters=4, max_iter=50, init='build', method='pam')\n",
    "kmedoids.fit(psc_scaled)"
   ]
  },
  {
   "cell_type": "code",
   "execution_count": 64,
   "id": "5fa5d13a",
   "metadata": {
    "ExecuteTime": {
     "end_time": "2021-12-13T01:23:50.733428Z",
     "start_time": "2021-12-13T01:23:50.704539Z"
    }
   },
   "outputs": [
    {
     "data": {
      "text/html": [
       "<div>\n",
       "<style scoped>\n",
       "    .dataframe tbody tr th:only-of-type {\n",
       "        vertical-align: middle;\n",
       "    }\n",
       "\n",
       "    .dataframe tbody tr th {\n",
       "        vertical-align: top;\n",
       "    }\n",
       "\n",
       "    .dataframe thead th {\n",
       "        text-align: right;\n",
       "    }\n",
       "</style>\n",
       "<table border=\"1\" class=\"dataframe\">\n",
       "  <thead>\n",
       "    <tr style=\"text-align: right;\">\n",
       "      <th></th>\n",
       "      <th>Profit</th>\n",
       "      <th>Sales</th>\n",
       "      <th>ShippingCost</th>\n",
       "      <th>Cluster_Id</th>\n",
       "    </tr>\n",
       "  </thead>\n",
       "  <tbody>\n",
       "    <tr>\n",
       "      <th>0</th>\n",
       "      <td>1116.981</td>\n",
       "      <td>3803.151</td>\n",
       "      <td>391.28</td>\n",
       "      <td>2</td>\n",
       "    </tr>\n",
       "    <tr>\n",
       "      <th>1</th>\n",
       "      <td>283.005</td>\n",
       "      <td>979.695</td>\n",
       "      <td>81.97</td>\n",
       "      <td>0</td>\n",
       "    </tr>\n",
       "    <tr>\n",
       "      <th>2</th>\n",
       "      <td>152.310</td>\n",
       "      <td>387.330</td>\n",
       "      <td>30.19</td>\n",
       "      <td>0</td>\n",
       "    </tr>\n",
       "    <tr>\n",
       "      <th>3</th>\n",
       "      <td>-1475.556</td>\n",
       "      <td>1064.124</td>\n",
       "      <td>122.45</td>\n",
       "      <td>0</td>\n",
       "    </tr>\n",
       "    <tr>\n",
       "      <th>4</th>\n",
       "      <td>233.820</td>\n",
       "      <td>1354.950</td>\n",
       "      <td>116.22</td>\n",
       "      <td>0</td>\n",
       "    </tr>\n",
       "  </tbody>\n",
       "</table>\n",
       "</div>"
      ],
      "text/plain": [
       "     Profit     Sales  ShippingCost  Cluster_Id\n",
       "0  1116.981  3803.151        391.28           2\n",
       "1   283.005   979.695         81.97           0\n",
       "2   152.310   387.330         30.19           0\n",
       "3 -1475.556  1064.124        122.45           0\n",
       "4   233.820  1354.950        116.22           0"
      ]
     },
     "execution_count": 64,
     "metadata": {},
     "output_type": "execute_result"
    }
   ],
   "source": [
    "# assign the label\n",
    "psc['Cluster_Id'] = kmedoids.labels_\n",
    "psc.head()"
   ]
  },
  {
   "cell_type": "code",
   "execution_count": 65,
   "id": "8b6feffe",
   "metadata": {
    "ExecuteTime": {
     "end_time": "2021-12-13T01:23:51.478971Z",
     "start_time": "2021-12-13T01:23:51.320396Z"
    }
   },
   "outputs": [
    {
     "data": {
      "text/plain": [
       "<AxesSubplot:xlabel='Cluster_Id', ylabel='Profit'>"
      ]
     },
     "execution_count": 65,
     "metadata": {},
     "output_type": "execute_result"
    },
    {
     "data": {
      "image/png": "[encoded data removed]",
      "text/plain": [
       "<Figure size 720x576 with 1 Axes>"
      ]
     },
     "metadata": {
      "needs_background": "light"
     },
     "output_type": "display_data"
    }
   ],
   "source": [
    "# Box plot to visualize Cluster Id vs Profit\n",
    "\n",
    "sns.boxplot(x='Cluster_Id', y='Profit', data=psc)"
   ]
  },
  {
   "cell_type": "code",
   "execution_count": 66,
   "id": "75c2b9fc",
   "metadata": {
    "ExecuteTime": {
     "end_time": "2021-12-13T01:23:54.439475Z",
     "start_time": "2021-12-13T01:23:54.252971Z"
    }
   },
   "outputs": [
    {
     "data": {
      "text/plain": [
       "<AxesSubplot:xlabel='Cluster_Id', ylabel='Sales'>"
      ]
     },
     "execution_count": 66,
     "metadata": {},
     "output_type": "execute_result"
    },
    {
     "data": {
      "image/png": "[encoded data removed]",
      "text/plain": [
       "<Figure size 720x576 with 1 Axes>"
      ]
     },
     "metadata": {
      "needs_background": "light"
     },
     "output_type": "display_data"
    }
   ],
   "source": [
    "# Box plot to visualize Cluster Id vs Sales\n",
    "\n",
    "sns.boxplot(x='Cluster_Id', y='Sales', data=psc)"
   ]
  },
  {
   "cell_type": "code",
   "execution_count": 67,
   "id": "92336e70",
   "metadata": {
    "ExecuteTime": {
     "end_time": "2021-12-13T01:23:56.063497Z",
     "start_time": "2021-12-13T01:23:55.889958Z"
    }
   },
   "outputs": [
    {
     "data": {
      "text/plain": [
       "<AxesSubplot:xlabel='Cluster_Id', ylabel='ShippingCost'>"
      ]
     },
     "execution_count": 67,
     "metadata": {},
     "output_type": "execute_result"
    },
    {
     "data": {
      "image/png": "[encoded data removed]",
      "text/plain": [
       "<Figure size 720x576 with 1 Axes>"
      ]
     },
     "metadata": {
      "needs_background": "light"
     },
     "output_type": "display_data"
    }
   ],
   "source": [
    "# Box plot to visualize Cluster Id vs Shipping Cost\n",
    "\n",
    "sns.boxplot(x='Cluster_Id', y='ShippingCost', data=psc)"
   ]
  },
  {
   "cell_type": "code",
   "execution_count": 68,
   "id": "2a350081",
   "metadata": {
    "ExecuteTime": {
     "end_time": "2021-12-13T01:24:08.089967Z",
     "start_time": "2021-12-13T01:24:08.066030Z"
    }
   },
   "outputs": [
    {
     "data": {
      "text/html": [
       "<div>\n",
       "<style scoped>\n",
       "    .dataframe tbody tr th:only-of-type {\n",
       "        vertical-align: middle;\n",
       "    }\n",
       "\n",
       "    .dataframe tbody tr th {\n",
       "        vertical-align: top;\n",
       "    }\n",
       "\n",
       "    .dataframe thead th {\n",
       "        text-align: right;\n",
       "    }\n",
       "</style>\n",
       "<table border=\"1\" class=\"dataframe\">\n",
       "  <thead>\n",
       "    <tr style=\"text-align: right;\">\n",
       "      <th></th>\n",
       "      <th>Profit</th>\n",
       "      <th>Sales</th>\n",
       "      <th>ShippingCost</th>\n",
       "      <th>Cluster_Id</th>\n",
       "    </tr>\n",
       "  </thead>\n",
       "  <tbody>\n",
       "    <tr>\n",
       "      <th>2290</th>\n",
       "      <td>62036.98370</td>\n",
       "      <td>256368.16100</td>\n",
       "      <td>26948.17</td>\n",
       "      <td>1</td>\n",
       "    </tr>\n",
       "    <tr>\n",
       "      <th>1910</th>\n",
       "      <td>30440.75790</td>\n",
       "      <td>175851.34100</td>\n",
       "      <td>18777.07</td>\n",
       "      <td>1</td>\n",
       "    </tr>\n",
       "    <tr>\n",
       "      <th>2936</th>\n",
       "      <td>29156.09670</td>\n",
       "      <td>119540.74200</td>\n",
       "      <td>11581.45</td>\n",
       "      <td>1</td>\n",
       "    </tr>\n",
       "    <tr>\n",
       "      <th>3107</th>\n",
       "      <td>16002.80700</td>\n",
       "      <td>101945.51700</td>\n",
       "      <td>11183.66</td>\n",
       "      <td>1</td>\n",
       "    </tr>\n",
       "    <tr>\n",
       "      <th>2843</th>\n",
       "      <td>17507.38540</td>\n",
       "      <td>112669.09200</td>\n",
       "      <td>10753.24</td>\n",
       "      <td>1</td>\n",
       "    </tr>\n",
       "    <tr>\n",
       "      <th>1508</th>\n",
       "      <td>3826.98420</td>\n",
       "      <td>94321.32420</td>\n",
       "      <td>10735.47</td>\n",
       "      <td>1</td>\n",
       "    </tr>\n",
       "    <tr>\n",
       "      <th>1895</th>\n",
       "      <td>17378.71500</td>\n",
       "      <td>86945.80500</td>\n",
       "      <td>9890.22</td>\n",
       "      <td>1</td>\n",
       "    </tr>\n",
       "    <tr>\n",
       "      <th>1989</th>\n",
       "      <td>17853.71804</td>\n",
       "      <td>83707.49804</td>\n",
       "      <td>9393.94</td>\n",
       "      <td>1</td>\n",
       "    </tr>\n",
       "    <tr>\n",
       "      <th>2106</th>\n",
       "      <td>13342.29176</td>\n",
       "      <td>85728.55176</td>\n",
       "      <td>8860.27</td>\n",
       "      <td>1</td>\n",
       "    </tr>\n",
       "    <tr>\n",
       "      <th>1202</th>\n",
       "      <td>4453.78200</td>\n",
       "      <td>72626.92200</td>\n",
       "      <td>8824.94</td>\n",
       "      <td>1</td>\n",
       "    </tr>\n",
       "    <tr>\n",
       "      <th>497</th>\n",
       "      <td>10526.29500</td>\n",
       "      <td>75729.01500</td>\n",
       "      <td>8405.25</td>\n",
       "      <td>1</td>\n",
       "    </tr>\n",
       "    <tr>\n",
       "      <th>2082</th>\n",
       "      <td>11304.09960</td>\n",
       "      <td>73939.16400</td>\n",
       "      <td>7558.13</td>\n",
       "      <td>1</td>\n",
       "    </tr>\n",
       "    <tr>\n",
       "      <th>26</th>\n",
       "      <td>8495.53200</td>\n",
       "      <td>57896.71200</td>\n",
       "      <td>7351.59</td>\n",
       "      <td>1</td>\n",
       "    </tr>\n",
       "    <tr>\n",
       "      <th>2445</th>\n",
       "      <td>10327.43700</td>\n",
       "      <td>63315.86700</td>\n",
       "      <td>7155.86</td>\n",
       "      <td>1</td>\n",
       "    </tr>\n",
       "    <tr>\n",
       "      <th>3391</th>\n",
       "      <td>15660.84000</td>\n",
       "      <td>62023.53000</td>\n",
       "      <td>7093.83</td>\n",
       "      <td>1</td>\n",
       "    </tr>\n",
       "    <tr>\n",
       "      <th>2484</th>\n",
       "      <td>8633.50200</td>\n",
       "      <td>64292.20200</td>\n",
       "      <td>6858.28</td>\n",
       "      <td>1</td>\n",
       "    </tr>\n",
       "    <tr>\n",
       "      <th>375</th>\n",
       "      <td>6872.12850</td>\n",
       "      <td>61917.89850</td>\n",
       "      <td>6628.87</td>\n",
       "      <td>1</td>\n",
       "    </tr>\n",
       "    <tr>\n",
       "      <th>2870</th>\n",
       "      <td>15036.51040</td>\n",
       "      <td>57699.39040</td>\n",
       "      <td>5623.04</td>\n",
       "      <td>1</td>\n",
       "    </tr>\n",
       "    <tr>\n",
       "      <th>1959</th>\n",
       "      <td>12382.76100</td>\n",
       "      <td>51386.03100</td>\n",
       "      <td>5441.87</td>\n",
       "      <td>1</td>\n",
       "    </tr>\n",
       "    <tr>\n",
       "      <th>2292</th>\n",
       "      <td>8208.02400</td>\n",
       "      <td>48461.99400</td>\n",
       "      <td>5335.65</td>\n",
       "      <td>1</td>\n",
       "    </tr>\n",
       "    <tr>\n",
       "      <th>2138</th>\n",
       "      <td>10301.94956</td>\n",
       "      <td>47898.40956</td>\n",
       "      <td>5305.68</td>\n",
       "      <td>1</td>\n",
       "    </tr>\n",
       "  </tbody>\n",
       "</table>\n",
       "</div>"
      ],
      "text/plain": [
       "           Profit         Sales  ShippingCost  Cluster_Id\n",
       "2290  62036.98370  256368.16100      26948.17           1\n",
       "1910  30440.75790  175851.34100      18777.07           1\n",
       "2936  29156.09670  119540.74200      11581.45           1\n",
       "3107  16002.80700  101945.51700      11183.66           1\n",
       "2843  17507.38540  112669.09200      10753.24           1\n",
       "1508   3826.98420   94321.32420      10735.47           1\n",
       "1895  17378.71500   86945.80500       9890.22           1\n",
       "1989  17853.71804   83707.49804       9393.94           1\n",
       "2106  13342.29176   85728.55176       8860.27           1\n",
       "1202   4453.78200   72626.92200       8824.94           1\n",
       "497   10526.29500   75729.01500       8405.25           1\n",
       "2082  11304.09960   73939.16400       7558.13           1\n",
       "26     8495.53200   57896.71200       7351.59           1\n",
       "2445  10327.43700   63315.86700       7155.86           1\n",
       "3391  15660.84000   62023.53000       7093.83           1\n",
       "2484   8633.50200   64292.20200       6858.28           1\n",
       "375    6872.12850   61917.89850       6628.87           1\n",
       "2870  15036.51040   57699.39040       5623.04           1\n",
       "1959  12382.76100   51386.03100       5441.87           1\n",
       "2292   8208.02400   48461.99400       5335.65           1\n",
       "2138  10301.94956   47898.40956       5305.68           1"
      ]
     },
     "execution_count": 68,
     "metadata": {},
     "output_type": "execute_result"
    }
   ],
   "source": [
    "# Choose cities in Group 2 (high profit, high shipping cost) whose profit is at least at the 25th quartile\n",
    "Q1 = psc.Profit.quantile(0.25)\n",
    "psc_0 = psc.loc[(psc['Cluster_Id'] == 1) & (psc.Profit >= Q1)]\n",
    "psc_0.sort_values(by=['ShippingCost'], ascending=False)"
   ]
  },
  {
   "cell_type": "code",
   "execution_count": 69,
   "id": "f428d930",
   "metadata": {
    "ExecuteTime": {
     "end_time": "2021-12-13T01:24:10.896723Z",
     "start_time": "2021-12-13T01:24:10.888711Z"
    }
   },
   "outputs": [],
   "source": [
    "# Retrieve the cities whose high value orders from psc_0's index\n",
    "high_orders = profit_sales_shippingCost[profit_sales_shippingCost.index.isin(psc_0.index)].sort_values(by=['ShippingCost'], ascending=False)"
   ]
  },
  {
   "cell_type": "code",
   "execution_count": 70,
   "id": "84193025",
   "metadata": {
    "ExecuteTime": {
     "end_time": "2021-12-13T01:24:11.950877Z",
     "start_time": "2021-12-13T01:24:11.926908Z"
    }
   },
   "outputs": [],
   "source": [
    "# Generate the countries that each unique city match with.\n",
    "country_city = orders[['Country', 'City']].copy().drop_duplicates()"
   ]
  },
  {
   "cell_type": "code",
   "execution_count": 71,
   "id": "d82fa7a6",
   "metadata": {
    "ExecuteTime": {
     "end_time": "2021-12-13T01:24:12.910046Z",
     "start_time": "2021-12-13T01:24:12.878132Z"
    }
   },
   "outputs": [
    {
     "data": {
      "text/html": [
       "<div>\n",
       "<style scoped>\n",
       "    .dataframe tbody tr th:only-of-type {\n",
       "        vertical-align: middle;\n",
       "    }\n",
       "\n",
       "    .dataframe tbody tr th {\n",
       "        vertical-align: top;\n",
       "    }\n",
       "\n",
       "    .dataframe thead th {\n",
       "        text-align: right;\n",
       "    }\n",
       "</style>\n",
       "<table border=\"1\" class=\"dataframe\">\n",
       "  <thead>\n",
       "    <tr style=\"text-align: right;\">\n",
       "      <th></th>\n",
       "      <th>City</th>\n",
       "      <th>Profit</th>\n",
       "      <th>Sales</th>\n",
       "      <th>ShippingCost</th>\n",
       "      <th>Country</th>\n",
       "    </tr>\n",
       "  </thead>\n",
       "  <tbody>\n",
       "    <tr>\n",
       "      <th>0</th>\n",
       "      <td>New York City</td>\n",
       "      <td>62036.98370</td>\n",
       "      <td>256368.16100</td>\n",
       "      <td>26948.17</td>\n",
       "      <td>United States</td>\n",
       "    </tr>\n",
       "    <tr>\n",
       "      <th>1</th>\n",
       "      <td>Los Angeles</td>\n",
       "      <td>30440.75790</td>\n",
       "      <td>175851.34100</td>\n",
       "      <td>18777.07</td>\n",
       "      <td>United States</td>\n",
       "    </tr>\n",
       "    <tr>\n",
       "      <th>2</th>\n",
       "      <td>Seattle</td>\n",
       "      <td>29156.09670</td>\n",
       "      <td>119540.74200</td>\n",
       "      <td>11581.45</td>\n",
       "      <td>United States</td>\n",
       "    </tr>\n",
       "    <tr>\n",
       "      <th>3</th>\n",
       "      <td>Sydney</td>\n",
       "      <td>16002.80700</td>\n",
       "      <td>101945.51700</td>\n",
       "      <td>11183.66</td>\n",
       "      <td>Australia</td>\n",
       "    </tr>\n",
       "    <tr>\n",
       "      <th>4</th>\n",
       "      <td>San Francisco</td>\n",
       "      <td>17507.38540</td>\n",
       "      <td>112669.09200</td>\n",
       "      <td>10753.24</td>\n",
       "      <td>United States</td>\n",
       "    </tr>\n",
       "    <tr>\n",
       "      <th>5</th>\n",
       "      <td>Jakarta</td>\n",
       "      <td>3826.98420</td>\n",
       "      <td>94321.32420</td>\n",
       "      <td>10735.47</td>\n",
       "      <td>Indonesia</td>\n",
       "    </tr>\n",
       "    <tr>\n",
       "      <th>6</th>\n",
       "      <td>London</td>\n",
       "      <td>17378.71500</td>\n",
       "      <td>86945.80500</td>\n",
       "      <td>9890.22</td>\n",
       "      <td>United Kingdom</td>\n",
       "    </tr>\n",
       "    <tr>\n",
       "      <th>7</th>\n",
       "      <td>London</td>\n",
       "      <td>17378.71500</td>\n",
       "      <td>86945.80500</td>\n",
       "      <td>9890.22</td>\n",
       "      <td>Canada</td>\n",
       "    </tr>\n",
       "    <tr>\n",
       "      <th>8</th>\n",
       "      <td>Managua</td>\n",
       "      <td>17853.71804</td>\n",
       "      <td>83707.49804</td>\n",
       "      <td>9393.94</td>\n",
       "      <td>Nicaragua</td>\n",
       "    </tr>\n",
       "    <tr>\n",
       "      <th>9</th>\n",
       "      <td>Mexico City</td>\n",
       "      <td>13342.29176</td>\n",
       "      <td>85728.55176</td>\n",
       "      <td>8860.27</td>\n",
       "      <td>Mexico</td>\n",
       "    </tr>\n",
       "    <tr>\n",
       "      <th>10</th>\n",
       "      <td>Gold Coast</td>\n",
       "      <td>4453.78200</td>\n",
       "      <td>72626.92200</td>\n",
       "      <td>8824.94</td>\n",
       "      <td>Australia</td>\n",
       "    </tr>\n",
       "    <tr>\n",
       "      <th>11</th>\n",
       "      <td>Brisbane</td>\n",
       "      <td>10526.29500</td>\n",
       "      <td>75729.01500</td>\n",
       "      <td>8405.25</td>\n",
       "      <td>Australia</td>\n",
       "    </tr>\n",
       "    <tr>\n",
       "      <th>12</th>\n",
       "      <td>Melbourne</td>\n",
       "      <td>11304.09960</td>\n",
       "      <td>73939.16400</td>\n",
       "      <td>7558.13</td>\n",
       "      <td>Australia</td>\n",
       "    </tr>\n",
       "    <tr>\n",
       "      <th>13</th>\n",
       "      <td>Melbourne</td>\n",
       "      <td>11304.09960</td>\n",
       "      <td>73939.16400</td>\n",
       "      <td>7558.13</td>\n",
       "      <td>United States</td>\n",
       "    </tr>\n",
       "    <tr>\n",
       "      <th>14</th>\n",
       "      <td>Adelaide</td>\n",
       "      <td>8495.53200</td>\n",
       "      <td>57896.71200</td>\n",
       "      <td>7351.59</td>\n",
       "      <td>Australia</td>\n",
       "    </tr>\n",
       "    <tr>\n",
       "      <th>15</th>\n",
       "      <td>Paris</td>\n",
       "      <td>10327.43700</td>\n",
       "      <td>63315.86700</td>\n",
       "      <td>7155.86</td>\n",
       "      <td>France</td>\n",
       "    </tr>\n",
       "    <tr>\n",
       "      <th>16</th>\n",
       "      <td>Vienna</td>\n",
       "      <td>15660.84000</td>\n",
       "      <td>62023.53000</td>\n",
       "      <td>7093.83</td>\n",
       "      <td>Austria</td>\n",
       "    </tr>\n",
       "    <tr>\n",
       "      <th>17</th>\n",
       "      <td>Perth</td>\n",
       "      <td>8633.50200</td>\n",
       "      <td>64292.20200</td>\n",
       "      <td>6858.28</td>\n",
       "      <td>Australia</td>\n",
       "    </tr>\n",
       "    <tr>\n",
       "      <th>18</th>\n",
       "      <td>Berlin</td>\n",
       "      <td>6872.12850</td>\n",
       "      <td>61917.89850</td>\n",
       "      <td>6628.87</td>\n",
       "      <td>Germany</td>\n",
       "    </tr>\n",
       "    <tr>\n",
       "      <th>19</th>\n",
       "      <td>San Salvador</td>\n",
       "      <td>15036.51040</td>\n",
       "      <td>57699.39040</td>\n",
       "      <td>5623.04</td>\n",
       "      <td>El Salvador</td>\n",
       "    </tr>\n",
       "    <tr>\n",
       "      <th>20</th>\n",
       "      <td>Madrid</td>\n",
       "      <td>12382.76100</td>\n",
       "      <td>51386.03100</td>\n",
       "      <td>5441.87</td>\n",
       "      <td>Spain</td>\n",
       "    </tr>\n",
       "    <tr>\n",
       "      <th>21</th>\n",
       "      <td>Newcastle</td>\n",
       "      <td>8208.02400</td>\n",
       "      <td>48461.99400</td>\n",
       "      <td>5335.65</td>\n",
       "      <td>Australia</td>\n",
       "    </tr>\n",
       "    <tr>\n",
       "      <th>22</th>\n",
       "      <td>Newcastle</td>\n",
       "      <td>8208.02400</td>\n",
       "      <td>48461.99400</td>\n",
       "      <td>5335.65</td>\n",
       "      <td>South Africa</td>\n",
       "    </tr>\n",
       "    <tr>\n",
       "      <th>23</th>\n",
       "      <td>Mixco</td>\n",
       "      <td>10301.94956</td>\n",
       "      <td>47898.40956</td>\n",
       "      <td>5305.68</td>\n",
       "      <td>Guatemala</td>\n",
       "    </tr>\n",
       "  </tbody>\n",
       "</table>\n",
       "</div>"
      ],
      "text/plain": [
       "             City       Profit         Sales  ShippingCost         Country\n",
       "0   New York City  62036.98370  256368.16100      26948.17   United States\n",
       "1     Los Angeles  30440.75790  175851.34100      18777.07   United States\n",
       "2         Seattle  29156.09670  119540.74200      11581.45   United States\n",
       "3          Sydney  16002.80700  101945.51700      11183.66       Australia\n",
       "4   San Francisco  17507.38540  112669.09200      10753.24   United States\n",
       "5         Jakarta   3826.98420   94321.32420      10735.47       Indonesia\n",
       "6          London  17378.71500   86945.80500       9890.22  United Kingdom\n",
       "7          London  17378.71500   86945.80500       9890.22          Canada\n",
       "8         Managua  17853.71804   83707.49804       9393.94       Nicaragua\n",
       "9     Mexico City  13342.29176   85728.55176       8860.27          Mexico\n",
       "10     Gold Coast   4453.78200   72626.92200       8824.94       Australia\n",
       "11       Brisbane  10526.29500   75729.01500       8405.25       Australia\n",
       "12      Melbourne  11304.09960   73939.16400       7558.13       Australia\n",
       "13      Melbourne  11304.09960   73939.16400       7558.13   United States\n",
       "14       Adelaide   8495.53200   57896.71200       7351.59       Australia\n",
       "15          Paris  10327.43700   63315.86700       7155.86          France\n",
       "16         Vienna  15660.84000   62023.53000       7093.83         Austria\n",
       "17          Perth   8633.50200   64292.20200       6858.28       Australia\n",
       "18         Berlin   6872.12850   61917.89850       6628.87         Germany\n",
       "19   San Salvador  15036.51040   57699.39040       5623.04     El Salvador\n",
       "20         Madrid  12382.76100   51386.03100       5441.87           Spain\n",
       "21      Newcastle   8208.02400   48461.99400       5335.65       Australia\n",
       "22      Newcastle   8208.02400   48461.99400       5335.65    South Africa\n",
       "23          Mixco  10301.94956   47898.40956       5305.68       Guatemala"
      ]
     },
     "execution_count": 71,
     "metadata": {},
     "output_type": "execute_result"
    }
   ],
   "source": [
    "# Inner join between high_orders and country_city to get the countries high value order cities belong to.\n",
    "high_orders = high_orders.merge(right=country_city, how='inner', on='City')\n",
    "high_orders"
   ]
  },
  {
   "cell_type": "code",
   "execution_count": 72,
   "id": "1fd75860",
   "metadata": {
    "ExecuteTime": {
     "end_time": "2021-12-13T01:24:16.774164Z",
     "start_time": "2021-12-13T01:24:16.747216Z"
    }
   },
   "outputs": [
    {
     "data": {
      "text/html": [
       "<div>\n",
       "<style scoped>\n",
       "    .dataframe tbody tr th:only-of-type {\n",
       "        vertical-align: middle;\n",
       "    }\n",
       "\n",
       "    .dataframe tbody tr th {\n",
       "        vertical-align: top;\n",
       "    }\n",
       "\n",
       "    .dataframe thead th {\n",
       "        text-align: right;\n",
       "    }\n",
       "</style>\n",
       "<table border=\"1\" class=\"dataframe\">\n",
       "  <thead>\n",
       "    <tr style=\"text-align: right;\">\n",
       "      <th></th>\n",
       "      <th>Profit</th>\n",
       "      <th>Sales</th>\n",
       "      <th>ShippingCost</th>\n",
       "    </tr>\n",
       "  </thead>\n",
       "  <tbody>\n",
       "    <tr>\n",
       "      <th>count</th>\n",
       "      <td>24.000000</td>\n",
       "      <td>24.000000</td>\n",
       "      <td>24.000000</td>\n",
       "    </tr>\n",
       "    <tr>\n",
       "      <th>mean</th>\n",
       "      <td>15276.643307</td>\n",
       "      <td>85983.838769</td>\n",
       "      <td>9270.436667</td>\n",
       "    </tr>\n",
       "    <tr>\n",
       "      <th>std</th>\n",
       "      <td>11895.749156</td>\n",
       "      <td>46175.501574</td>\n",
       "      <td>4774.572753</td>\n",
       "    </tr>\n",
       "    <tr>\n",
       "      <th>min</th>\n",
       "      <td>3826.984200</td>\n",
       "      <td>47898.409560</td>\n",
       "      <td>5305.680000</td>\n",
       "    </tr>\n",
       "    <tr>\n",
       "      <th>25%</th>\n",
       "      <td>8599.009500</td>\n",
       "      <td>60912.601875</td>\n",
       "      <td>6800.927500</td>\n",
       "    </tr>\n",
       "    <tr>\n",
       "      <th>50%</th>\n",
       "      <td>11843.430300</td>\n",
       "      <td>73939.164000</td>\n",
       "      <td>7981.690000</td>\n",
       "    </tr>\n",
       "    <tr>\n",
       "      <th>75%</th>\n",
       "      <td>17378.715000</td>\n",
       "      <td>88789.684800</td>\n",
       "      <td>10101.532500</td>\n",
       "    </tr>\n",
       "    <tr>\n",
       "      <th>max</th>\n",
       "      <td>62036.983700</td>\n",
       "      <td>256368.161000</td>\n",
       "      <td>26948.170000</td>\n",
       "    </tr>\n",
       "  </tbody>\n",
       "</table>\n",
       "</div>"
      ],
      "text/plain": [
       "             Profit          Sales  ShippingCost\n",
       "count     24.000000      24.000000     24.000000\n",
       "mean   15276.643307   85983.838769   9270.436667\n",
       "std    11895.749156   46175.501574   4774.572753\n",
       "min     3826.984200   47898.409560   5305.680000\n",
       "25%     8599.009500   60912.601875   6800.927500\n",
       "50%    11843.430300   73939.164000   7981.690000\n",
       "75%    17378.715000   88789.684800  10101.532500\n",
       "max    62036.983700  256368.161000  26948.170000"
      ]
     },
     "execution_count": 72,
     "metadata": {},
     "output_type": "execute_result"
    }
   ],
   "source": [
    "high_orders.describe()"
   ]
  },
  {
   "cell_type": "code",
   "execution_count": 45,
   "id": "579e77b1",
   "metadata": {
    "ExecuteTime": {
     "end_time": "2021-12-13T01:17:15.375973Z",
     "start_time": "2021-12-13T01:17:02.830500Z"
    }
   },
   "outputs": [
    {
     "data": {
      "text/plain": [
       "Text(0, 0.5, 'Average within Cluster Sum Of Squares')"
      ]
     },
     "execution_count": 45,
     "metadata": {},
     "output_type": "execute_result"
    },
    {
     "data": {
      "image/png": "[encoded data removed]",
      "text/plain": [
       "<Figure size 720x576 with 1 Axes>"
      ]
     },
     "metadata": {
      "needs_background": "light"
     },
     "output_type": "display_data"
    }
   ],
   "source": [
    "# Elbow-curve/SSD\n",
    "\n",
    "ssd = []\n",
    "range_n_clusters = [2, 3, 4, 5, 6, 7, 8]\n",
    "for num_clusters in range_n_clusters:\n",
    "    kmedoids = KMedoids(n_clusters=num_clusters, max_iter=50, init='k-medoids++', method='alternate')\n",
    "    kmedoids.fit(psc_scaled)\n",
    "    \n",
    "    ssd.append(kmedoids.inertia_)\n",
    "    \n",
    "# plot the SSDs for each n_clusters\n",
    "plt.plot(ssd)\n",
    "plt.xlabel('Number of Clusters')\n",
    "plt.ylabel('Average within Cluster Sum Of Squares')\n",
    "# y-axis: SSD\n",
    "# x-axis: Number of clusters\n",
    "# Choose a balance point to avoid over-fitting."
   ]
  },
  {
   "cell_type": "code",
   "execution_count": 46,
   "id": "89e087fb",
   "metadata": {
    "ExecuteTime": {
     "end_time": "2021-12-13T01:17:25.188783Z",
     "start_time": "2021-12-13T01:17:15.379959Z"
    }
   },
   "outputs": [
    {
     "name": "stdout",
     "output_type": "stream",
     "text": [
      "For n_clusters=2, the silhouette score is 0.9000305743940722\n",
      "For n_clusters=3, the silhouette score is 0.6201405608088065\n",
      "For n_clusters=4, the silhouette score is 0.5947859121833637\n",
      "For n_clusters=5, the silhouette score is 0.6241321978846571\n",
      "For n_clusters=6, the silhouette score is 0.5560647342688255\n",
      "For n_clusters=7, the silhouette score is 0.5477014516465263\n",
      "For n_clusters=8, the silhouette score is 0.46686141516522384\n"
     ]
    }
   ],
   "source": [
    "# Silhouette analysis\n",
    "range_n_clusters = [2, 3, 4, 5, 6, 7, 8]\n",
    "\n",
    "for num_clusters in range_n_clusters:\n",
    "    \n",
    "    # intialise kmeans\n",
    "    kmedoids = KMedoids(n_clusters=num_clusters, max_iter=50, init='k-medoids++', method='alternate')\n",
    "    kmedoids.fit(psc_scaled)\n",
    "    \n",
    "    cluster_labels = kmedoids.labels_\n",
    "    \n",
    "    # silhouette score\n",
    "    silhouette_avg = silhouette_score(psc_scaled, cluster_labels)\n",
    "    print(\"For n_clusters={0}, the silhouette score is {1}\".format(num_clusters, silhouette_avg))\n",
    "    \n",
    "# The higher the point, the higher similarities between items within a cluster and \n",
    "# the higher dissimilarites bettwen items in different clusters.\n",
    "# Choose a balance number to avoid over-fitting."
   ]
  },
  {
   "cell_type": "code",
   "execution_count": 47,
   "id": "8115fdd7",
   "metadata": {
    "ExecuteTime": {
     "end_time": "2021-12-13T01:17:27.257254Z",
     "start_time": "2021-12-13T01:17:25.194723Z"
    }
   },
   "outputs": [
    {
     "data": {
      "text/plain": [
       "KMedoids(init='k-medoids++', max_iter=50, n_clusters=4)"
      ]
     },
     "execution_count": 47,
     "metadata": {},
     "output_type": "execute_result"
    }
   ],
   "source": [
    "# Final model with k=4\n",
    "kmedoids = KMedoids(n_clusters=4, max_iter=50, init='k-medoids++', method='alternate')\n",
    "kmedoids.fit(psc_scaled)"
   ]
  },
  {
   "cell_type": "code",
   "execution_count": 48,
   "id": "c8e56df7",
   "metadata": {
    "ExecuteTime": {
     "end_time": "2021-12-13T01:17:27.288121Z",
     "start_time": "2021-12-13T01:17:27.260229Z"
    }
   },
   "outputs": [
    {
     "data": {
      "text/html": [
       "<div>\n",
       "<style scoped>\n",
       "    .dataframe tbody tr th:only-of-type {\n",
       "        vertical-align: middle;\n",
       "    }\n",
       "\n",
       "    .dataframe tbody tr th {\n",
       "        vertical-align: top;\n",
       "    }\n",
       "\n",
       "    .dataframe thead th {\n",
       "        text-align: right;\n",
       "    }\n",
       "</style>\n",
       "<table border=\"1\" class=\"dataframe\">\n",
       "  <thead>\n",
       "    <tr style=\"text-align: right;\">\n",
       "      <th></th>\n",
       "      <th>Profit</th>\n",
       "      <th>Sales</th>\n",
       "      <th>ShippingCost</th>\n",
       "      <th>Cluster_Id</th>\n",
       "    </tr>\n",
       "  </thead>\n",
       "  <tbody>\n",
       "    <tr>\n",
       "      <th>0</th>\n",
       "      <td>1116.981</td>\n",
       "      <td>3803.151</td>\n",
       "      <td>391.28</td>\n",
       "      <td>2</td>\n",
       "    </tr>\n",
       "    <tr>\n",
       "      <th>1</th>\n",
       "      <td>283.005</td>\n",
       "      <td>979.695</td>\n",
       "      <td>81.97</td>\n",
       "      <td>0</td>\n",
       "    </tr>\n",
       "    <tr>\n",
       "      <th>2</th>\n",
       "      <td>152.310</td>\n",
       "      <td>387.330</td>\n",
       "      <td>30.19</td>\n",
       "      <td>0</td>\n",
       "    </tr>\n",
       "    <tr>\n",
       "      <th>3</th>\n",
       "      <td>-1475.556</td>\n",
       "      <td>1064.124</td>\n",
       "      <td>122.45</td>\n",
       "      <td>0</td>\n",
       "    </tr>\n",
       "    <tr>\n",
       "      <th>4</th>\n",
       "      <td>233.820</td>\n",
       "      <td>1354.950</td>\n",
       "      <td>116.22</td>\n",
       "      <td>0</td>\n",
       "    </tr>\n",
       "  </tbody>\n",
       "</table>\n",
       "</div>"
      ],
      "text/plain": [
       "     Profit     Sales  ShippingCost  Cluster_Id\n",
       "0  1116.981  3803.151        391.28           2\n",
       "1   283.005   979.695         81.97           0\n",
       "2   152.310   387.330         30.19           0\n",
       "3 -1475.556  1064.124        122.45           0\n",
       "4   233.820  1354.950        116.22           0"
      ]
     },
     "execution_count": 48,
     "metadata": {},
     "output_type": "execute_result"
    }
   ],
   "source": [
    "# assign the label\n",
    "psc['Cluster_Id'] = kmedoids.labels_\n",
    "psc.head()"
   ]
  },
  {
   "cell_type": "code",
   "execution_count": 49,
   "id": "a3756fa5",
   "metadata": {
    "ExecuteTime": {
     "end_time": "2021-12-13T01:17:27.597551Z",
     "start_time": "2021-12-13T01:17:27.290116Z"
    }
   },
   "outputs": [
    {
     "data": {
      "text/plain": [
       "<AxesSubplot:xlabel='Cluster_Id', ylabel='Profit'>"
      ]
     },
     "execution_count": 49,
     "metadata": {},
     "output_type": "execute_result"
    },
    {
     "data": {
      "image/png": "[encoded data removed]",
      "text/plain": [
       "<Figure size 720x576 with 1 Axes>"
      ]
     },
     "metadata": {
      "needs_background": "light"
     },
     "output_type": "display_data"
    }
   ],
   "source": [
    "# Box plot to visualize Cluster Id vs Profit\n",
    "\n",
    "sns.boxplot(x='Cluster_Id', y='Profit', data=psc)"
   ]
  },
  {
   "cell_type": "code",
   "execution_count": 50,
   "id": "d5472224",
   "metadata": {
    "ExecuteTime": {
     "end_time": "2021-12-13T01:17:27.781549Z",
     "start_time": "2021-12-13T01:17:27.605544Z"
    }
   },
   "outputs": [
    {
     "data": {
      "text/plain": [
       "<AxesSubplot:xlabel='Cluster_Id', ylabel='Sales'>"
      ]
     },
     "execution_count": 50,
     "metadata": {},
     "output_type": "execute_result"
    },
    {
     "data": {
      "image/png": "[encoded data removed]",
      "text/plain": [
       "<Figure size 720x576 with 1 Axes>"
      ]
     },
     "metadata": {
      "needs_background": "light"
     },
     "output_type": "display_data"
    }
   ],
   "source": [
    "# Box plot to visualize Cluster Id vs Sales\n",
    "\n",
    "sns.boxplot(x='Cluster_Id', y='Sales', data=psc)"
   ]
  },
  {
   "cell_type": "code",
   "execution_count": 51,
   "id": "0d080ae4",
   "metadata": {
    "ExecuteTime": {
     "end_time": "2021-12-13T01:17:27.938933Z",
     "start_time": "2021-12-13T01:17:27.783547Z"
    }
   },
   "outputs": [
    {
     "data": {
      "text/plain": [
       "<AxesSubplot:xlabel='Cluster_Id', ylabel='ShippingCost'>"
      ]
     },
     "execution_count": 51,
     "metadata": {},
     "output_type": "execute_result"
    },
    {
     "data": {
      "image/png": "[encoded data removed]",
      "text/plain": [
       "<Figure size 720x576 with 1 Axes>"
      ]
     },
     "metadata": {
      "needs_background": "light"
     },
     "output_type": "display_data"
    }
   ],
   "source": [
    "# Box plot to visualize Cluster Id vs Shipping Cost\n",
    "\n",
    "sns.boxplot(x='Cluster_Id', y='ShippingCost', data=psc)"
   ]
  },
  {
   "cell_type": "code",
   "execution_count": null,
   "id": "3893295f",
   "metadata": {},
   "outputs": [],
   "source": []
  }
 ],
 "metadata": {
  "kernelspec": {
   "display_name": "Python 3 (ipykernel)",
   "language": "python",
   "name": "python3"
  },
  "language_info": {
   "codemirror_mode": {
    "name": "ipython",
    "version": 3
   },
   "file_extension": ".py",
   "mimetype": "text/x-python",
   "name": "python",
   "nbconvert_exporter": "python",
   "pygments_lexer": "ipython3",
   "version": "3.9.7"
  }
 },
 "nbformat": 4,
 "nbformat_minor": 5
}
